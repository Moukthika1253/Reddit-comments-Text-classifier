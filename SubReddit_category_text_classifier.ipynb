{
  "nbformat": 4,
  "nbformat_minor": 0,
  "metadata": {
    "colab": {
      "provenance": [],
      "gpuType": "T4",
      "authorship_tag": "ABX9TyPaoJP39we2e5ytdAsuut1D",
      "include_colab_link": true
    },
    "kernelspec": {
      "name": "python3",
      "display_name": "Python 3"
    },
    "language_info": {
      "name": "python"
    },
    "gpuClass": "standard"
  },
  "cells": [
    {
      "cell_type": "markdown",
      "metadata": {
        "id": "view-in-github",
        "colab_type": "text"
      },
      "source": [
        "<a href=\"https://colab.research.google.com/github/Moukthika1253/Reddit-comments-text-classifier/blob/main/SubReddit_category_text_classifier.ipynb\" target=\"_parent\"><img src=\"https://colab.research.google.com/assets/colab-badge.svg\" alt=\"Open In Colab\"/></a>"
      ]
    },
    {
      "cell_type": "markdown",
      "source": [
        "**Loading dataset**"
      ],
      "metadata": {
        "id": "H_H_y_ANBd1-"
      }
    },
    {
      "cell_type": "code",
      "source": [
        "import pandas as pd\n",
        "post_df=pd.read_csv('/content/Top_Posts.csv')\n",
        "comment_df=pd.read_csv('/content/Top_Posts_Comments.csv')"
      ],
      "metadata": {
        "id": "wjN7FwT17oW5"
      },
      "execution_count": 2,
      "outputs": []
    },
    {
      "cell_type": "code",
      "source": [
        "post_df.head()"
      ],
      "metadata": {
        "colab": {
          "base_uri": "https://localhost:8080/",
          "height": 617
        },
        "id": "V79L73DD6dbM",
        "outputId": "619cc2fc-101a-47bd-f2dd-2e5759bc9a05"
      },
      "execution_count": 3,
      "outputs": [
        {
          "output_type": "execute_result",
          "data": {
            "text/plain": [
              "  post_id                                         post_title        subreddit  \\\n",
              "0  gh1dj9  [Project] From books to presentations in 10s w...  MachineLearning   \n",
              "1  kuc6tz  [D] A Demo from 1993 of 32-year-old Yann LeCun...  MachineLearning   \n",
              "2  g7nfvb  [R] First Order Motion Model applied to animat...  MachineLearning   \n",
              "3  lui92h  [N] AI can turn old photos into moving Images ...  MachineLearning   \n",
              "4  ohxnts  [D] This AI reveals how much time politicians ...  MachineLearning   \n",
              "\n",
              "                              post_url  flair_text  score  comments  \\\n",
              "0      https://v.redd.it/v492uoheuxx41     Project   7798       186   \n",
              "1      https://v.redd.it/25nxi9ojfha61  Discussion   5851       133   \n",
              "2      https://v.redd.it/rlmmjm1q5wu41    Research   4761       111   \n",
              "3      https://v.redd.it/ikd5gjlbi8k61        News   4688       230   \n",
              "4  https://i.redd.it/34sgziebfia71.jpg  Discussion   4568       228   \n",
              "\n",
              "   upvote_ratio            date-time  year  \n",
              "0          0.99  2020-05-10 13:19:54  2020  \n",
              "1          0.98  2021-01-10 10:30:36  2021  \n",
              "2          0.97  2020-04-25 04:27:23  2020  \n",
              "3          0.97  2021-02-28 15:12:28  2021  \n",
              "4          0.96  2021-07-11 04:18:59  2021  "
            ],
            "text/html": [
              "\n",
              "  <div id=\"df-e6646b87-602d-46d8-906d-1fb0a24018dc\">\n",
              "    <div class=\"colab-df-container\">\n",
              "      <div>\n",
              "<style scoped>\n",
              "    .dataframe tbody tr th:only-of-type {\n",
              "        vertical-align: middle;\n",
              "    }\n",
              "\n",
              "    .dataframe tbody tr th {\n",
              "        vertical-align: top;\n",
              "    }\n",
              "\n",
              "    .dataframe thead th {\n",
              "        text-align: right;\n",
              "    }\n",
              "</style>\n",
              "<table border=\"1\" class=\"dataframe\">\n",
              "  <thead>\n",
              "    <tr style=\"text-align: right;\">\n",
              "      <th></th>\n",
              "      <th>post_id</th>\n",
              "      <th>post_title</th>\n",
              "      <th>subreddit</th>\n",
              "      <th>post_url</th>\n",
              "      <th>flair_text</th>\n",
              "      <th>score</th>\n",
              "      <th>comments</th>\n",
              "      <th>upvote_ratio</th>\n",
              "      <th>date-time</th>\n",
              "      <th>year</th>\n",
              "    </tr>\n",
              "  </thead>\n",
              "  <tbody>\n",
              "    <tr>\n",
              "      <th>0</th>\n",
              "      <td>gh1dj9</td>\n",
              "      <td>[Project] From books to presentations in 10s w...</td>\n",
              "      <td>MachineLearning</td>\n",
              "      <td>https://v.redd.it/v492uoheuxx41</td>\n",
              "      <td>Project</td>\n",
              "      <td>7798</td>\n",
              "      <td>186</td>\n",
              "      <td>0.99</td>\n",
              "      <td>2020-05-10 13:19:54</td>\n",
              "      <td>2020</td>\n",
              "    </tr>\n",
              "    <tr>\n",
              "      <th>1</th>\n",
              "      <td>kuc6tz</td>\n",
              "      <td>[D] A Demo from 1993 of 32-year-old Yann LeCun...</td>\n",
              "      <td>MachineLearning</td>\n",
              "      <td>https://v.redd.it/25nxi9ojfha61</td>\n",
              "      <td>Discussion</td>\n",
              "      <td>5851</td>\n",
              "      <td>133</td>\n",
              "      <td>0.98</td>\n",
              "      <td>2021-01-10 10:30:36</td>\n",
              "      <td>2021</td>\n",
              "    </tr>\n",
              "    <tr>\n",
              "      <th>2</th>\n",
              "      <td>g7nfvb</td>\n",
              "      <td>[R] First Order Motion Model applied to animat...</td>\n",
              "      <td>MachineLearning</td>\n",
              "      <td>https://v.redd.it/rlmmjm1q5wu41</td>\n",
              "      <td>Research</td>\n",
              "      <td>4761</td>\n",
              "      <td>111</td>\n",
              "      <td>0.97</td>\n",
              "      <td>2020-04-25 04:27:23</td>\n",
              "      <td>2020</td>\n",
              "    </tr>\n",
              "    <tr>\n",
              "      <th>3</th>\n",
              "      <td>lui92h</td>\n",
              "      <td>[N] AI can turn old photos into moving Images ...</td>\n",
              "      <td>MachineLearning</td>\n",
              "      <td>https://v.redd.it/ikd5gjlbi8k61</td>\n",
              "      <td>News</td>\n",
              "      <td>4688</td>\n",
              "      <td>230</td>\n",
              "      <td>0.97</td>\n",
              "      <td>2021-02-28 15:12:28</td>\n",
              "      <td>2021</td>\n",
              "    </tr>\n",
              "    <tr>\n",
              "      <th>4</th>\n",
              "      <td>ohxnts</td>\n",
              "      <td>[D] This AI reveals how much time politicians ...</td>\n",
              "      <td>MachineLearning</td>\n",
              "      <td>https://i.redd.it/34sgziebfia71.jpg</td>\n",
              "      <td>Discussion</td>\n",
              "      <td>4568</td>\n",
              "      <td>228</td>\n",
              "      <td>0.96</td>\n",
              "      <td>2021-07-11 04:18:59</td>\n",
              "      <td>2021</td>\n",
              "    </tr>\n",
              "  </tbody>\n",
              "</table>\n",
              "</div>\n",
              "      <button class=\"colab-df-convert\" onclick=\"convertToInteractive('df-e6646b87-602d-46d8-906d-1fb0a24018dc')\"\n",
              "              title=\"Convert this dataframe to an interactive table.\"\n",
              "              style=\"display:none;\">\n",
              "        \n",
              "  <svg xmlns=\"http://www.w3.org/2000/svg\" height=\"24px\"viewBox=\"0 0 24 24\"\n",
              "       width=\"24px\">\n",
              "    <path d=\"M0 0h24v24H0V0z\" fill=\"none\"/>\n",
              "    <path d=\"M18.56 5.44l.94 2.06.94-2.06 2.06-.94-2.06-.94-.94-2.06-.94 2.06-2.06.94zm-11 1L8.5 8.5l.94-2.06 2.06-.94-2.06-.94L8.5 2.5l-.94 2.06-2.06.94zm10 10l.94 2.06.94-2.06 2.06-.94-2.06-.94-.94-2.06-.94 2.06-2.06.94z\"/><path d=\"M17.41 7.96l-1.37-1.37c-.4-.4-.92-.59-1.43-.59-.52 0-1.04.2-1.43.59L10.3 9.45l-7.72 7.72c-.78.78-.78 2.05 0 2.83L4 21.41c.39.39.9.59 1.41.59.51 0 1.02-.2 1.41-.59l7.78-7.78 2.81-2.81c.8-.78.8-2.07 0-2.86zM5.41 20L4 18.59l7.72-7.72 1.47 1.35L5.41 20z\"/>\n",
              "  </svg>\n",
              "      </button>\n",
              "      \n",
              "  <style>\n",
              "    .colab-df-container {\n",
              "      display:flex;\n",
              "      flex-wrap:wrap;\n",
              "      gap: 12px;\n",
              "    }\n",
              "\n",
              "    .colab-df-convert {\n",
              "      background-color: #E8F0FE;\n",
              "      border: none;\n",
              "      border-radius: 50%;\n",
              "      cursor: pointer;\n",
              "      display: none;\n",
              "      fill: #1967D2;\n",
              "      height: 32px;\n",
              "      padding: 0 0 0 0;\n",
              "      width: 32px;\n",
              "    }\n",
              "\n",
              "    .colab-df-convert:hover {\n",
              "      background-color: #E2EBFA;\n",
              "      box-shadow: 0px 1px 2px rgba(60, 64, 67, 0.3), 0px 1px 3px 1px rgba(60, 64, 67, 0.15);\n",
              "      fill: #174EA6;\n",
              "    }\n",
              "\n",
              "    [theme=dark] .colab-df-convert {\n",
              "      background-color: #3B4455;\n",
              "      fill: #D2E3FC;\n",
              "    }\n",
              "\n",
              "    [theme=dark] .colab-df-convert:hover {\n",
              "      background-color: #434B5C;\n",
              "      box-shadow: 0px 1px 3px 1px rgba(0, 0, 0, 0.15);\n",
              "      filter: drop-shadow(0px 1px 2px rgba(0, 0, 0, 0.3));\n",
              "      fill: #FFFFFF;\n",
              "    }\n",
              "  </style>\n",
              "\n",
              "      <script>\n",
              "        const buttonEl =\n",
              "          document.querySelector('#df-e6646b87-602d-46d8-906d-1fb0a24018dc button.colab-df-convert');\n",
              "        buttonEl.style.display =\n",
              "          google.colab.kernel.accessAllowed ? 'block' : 'none';\n",
              "\n",
              "        async function convertToInteractive(key) {\n",
              "          const element = document.querySelector('#df-e6646b87-602d-46d8-906d-1fb0a24018dc');\n",
              "          const dataTable =\n",
              "            await google.colab.kernel.invokeFunction('convertToInteractive',\n",
              "                                                     [key], {});\n",
              "          if (!dataTable) return;\n",
              "\n",
              "          const docLinkHtml = 'Like what you see? Visit the ' +\n",
              "            '<a target=\"_blank\" href=https://colab.research.google.com/notebooks/data_table.ipynb>data table notebook</a>'\n",
              "            + ' to learn more about interactive tables.';\n",
              "          element.innerHTML = '';\n",
              "          dataTable['output_type'] = 'display_data';\n",
              "          await google.colab.output.renderOutput(dataTable, element);\n",
              "          const docLink = document.createElement('div');\n",
              "          docLink.innerHTML = docLinkHtml;\n",
              "          element.appendChild(docLink);\n",
              "        }\n",
              "      </script>\n",
              "    </div>\n",
              "  </div>\n",
              "  "
            ]
          },
          "metadata": {},
          "execution_count": 3
        }
      ]
    },
    {
      "cell_type": "code",
      "source": [
        "comment_df.head()"
      ],
      "metadata": {
        "colab": {
          "base_uri": "https://localhost:8080/",
          "height": 206
        },
        "id": "rdvF2Bpz8JET",
        "outputId": "11acb8c3-ad57-40c6-8c6a-dfa905e77d2f"
      },
      "execution_count": 4,
      "outputs": [
        {
          "output_type": "execute_result",
          "data": {
            "text/plain": [
              "  post_id                                            comment\n",
              "0  gh1dj9  Twitter thread: [https://twitter.com/cyrildiag...\n",
              "1  gh1dj9                                       The future 🤯\n",
              "2  gh1dj9  Simple yet very useful. Thank you for sharing ...\n",
              "3  gh1dj9  Almost guaranteed, Apple will copy your idea i...\n",
              "4  gh1dj9  Ohh the nightmare of making this into a stable..."
            ],
            "text/html": [
              "\n",
              "  <div id=\"df-ac5fca81-aea2-4db9-a802-4fa7b53390a5\">\n",
              "    <div class=\"colab-df-container\">\n",
              "      <div>\n",
              "<style scoped>\n",
              "    .dataframe tbody tr th:only-of-type {\n",
              "        vertical-align: middle;\n",
              "    }\n",
              "\n",
              "    .dataframe tbody tr th {\n",
              "        vertical-align: top;\n",
              "    }\n",
              "\n",
              "    .dataframe thead th {\n",
              "        text-align: right;\n",
              "    }\n",
              "</style>\n",
              "<table border=\"1\" class=\"dataframe\">\n",
              "  <thead>\n",
              "    <tr style=\"text-align: right;\">\n",
              "      <th></th>\n",
              "      <th>post_id</th>\n",
              "      <th>comment</th>\n",
              "    </tr>\n",
              "  </thead>\n",
              "  <tbody>\n",
              "    <tr>\n",
              "      <th>0</th>\n",
              "      <td>gh1dj9</td>\n",
              "      <td>Twitter thread: [https://twitter.com/cyrildiag...</td>\n",
              "    </tr>\n",
              "    <tr>\n",
              "      <th>1</th>\n",
              "      <td>gh1dj9</td>\n",
              "      <td>The future 🤯</td>\n",
              "    </tr>\n",
              "    <tr>\n",
              "      <th>2</th>\n",
              "      <td>gh1dj9</td>\n",
              "      <td>Simple yet very useful. Thank you for sharing ...</td>\n",
              "    </tr>\n",
              "    <tr>\n",
              "      <th>3</th>\n",
              "      <td>gh1dj9</td>\n",
              "      <td>Almost guaranteed, Apple will copy your idea i...</td>\n",
              "    </tr>\n",
              "    <tr>\n",
              "      <th>4</th>\n",
              "      <td>gh1dj9</td>\n",
              "      <td>Ohh the nightmare of making this into a stable...</td>\n",
              "    </tr>\n",
              "  </tbody>\n",
              "</table>\n",
              "</div>\n",
              "      <button class=\"colab-df-convert\" onclick=\"convertToInteractive('df-ac5fca81-aea2-4db9-a802-4fa7b53390a5')\"\n",
              "              title=\"Convert this dataframe to an interactive table.\"\n",
              "              style=\"display:none;\">\n",
              "        \n",
              "  <svg xmlns=\"http://www.w3.org/2000/svg\" height=\"24px\"viewBox=\"0 0 24 24\"\n",
              "       width=\"24px\">\n",
              "    <path d=\"M0 0h24v24H0V0z\" fill=\"none\"/>\n",
              "    <path d=\"M18.56 5.44l.94 2.06.94-2.06 2.06-.94-2.06-.94-.94-2.06-.94 2.06-2.06.94zm-11 1L8.5 8.5l.94-2.06 2.06-.94-2.06-.94L8.5 2.5l-.94 2.06-2.06.94zm10 10l.94 2.06.94-2.06 2.06-.94-2.06-.94-.94-2.06-.94 2.06-2.06.94z\"/><path d=\"M17.41 7.96l-1.37-1.37c-.4-.4-.92-.59-1.43-.59-.52 0-1.04.2-1.43.59L10.3 9.45l-7.72 7.72c-.78.78-.78 2.05 0 2.83L4 21.41c.39.39.9.59 1.41.59.51 0 1.02-.2 1.41-.59l7.78-7.78 2.81-2.81c.8-.78.8-2.07 0-2.86zM5.41 20L4 18.59l7.72-7.72 1.47 1.35L5.41 20z\"/>\n",
              "  </svg>\n",
              "      </button>\n",
              "      \n",
              "  <style>\n",
              "    .colab-df-container {\n",
              "      display:flex;\n",
              "      flex-wrap:wrap;\n",
              "      gap: 12px;\n",
              "    }\n",
              "\n",
              "    .colab-df-convert {\n",
              "      background-color: #E8F0FE;\n",
              "      border: none;\n",
              "      border-radius: 50%;\n",
              "      cursor: pointer;\n",
              "      display: none;\n",
              "      fill: #1967D2;\n",
              "      height: 32px;\n",
              "      padding: 0 0 0 0;\n",
              "      width: 32px;\n",
              "    }\n",
              "\n",
              "    .colab-df-convert:hover {\n",
              "      background-color: #E2EBFA;\n",
              "      box-shadow: 0px 1px 2px rgba(60, 64, 67, 0.3), 0px 1px 3px 1px rgba(60, 64, 67, 0.15);\n",
              "      fill: #174EA6;\n",
              "    }\n",
              "\n",
              "    [theme=dark] .colab-df-convert {\n",
              "      background-color: #3B4455;\n",
              "      fill: #D2E3FC;\n",
              "    }\n",
              "\n",
              "    [theme=dark] .colab-df-convert:hover {\n",
              "      background-color: #434B5C;\n",
              "      box-shadow: 0px 1px 3px 1px rgba(0, 0, 0, 0.15);\n",
              "      filter: drop-shadow(0px 1px 2px rgba(0, 0, 0, 0.3));\n",
              "      fill: #FFFFFF;\n",
              "    }\n",
              "  </style>\n",
              "\n",
              "      <script>\n",
              "        const buttonEl =\n",
              "          document.querySelector('#df-ac5fca81-aea2-4db9-a802-4fa7b53390a5 button.colab-df-convert');\n",
              "        buttonEl.style.display =\n",
              "          google.colab.kernel.accessAllowed ? 'block' : 'none';\n",
              "\n",
              "        async function convertToInteractive(key) {\n",
              "          const element = document.querySelector('#df-ac5fca81-aea2-4db9-a802-4fa7b53390a5');\n",
              "          const dataTable =\n",
              "            await google.colab.kernel.invokeFunction('convertToInteractive',\n",
              "                                                     [key], {});\n",
              "          if (!dataTable) return;\n",
              "\n",
              "          const docLinkHtml = 'Like what you see? Visit the ' +\n",
              "            '<a target=\"_blank\" href=https://colab.research.google.com/notebooks/data_table.ipynb>data table notebook</a>'\n",
              "            + ' to learn more about interactive tables.';\n",
              "          element.innerHTML = '';\n",
              "          dataTable['output_type'] = 'display_data';\n",
              "          await google.colab.output.renderOutput(dataTable, element);\n",
              "          const docLink = document.createElement('div');\n",
              "          docLink.innerHTML = docLinkHtml;\n",
              "          element.appendChild(docLink);\n",
              "        }\n",
              "      </script>\n",
              "    </div>\n",
              "  </div>\n",
              "  "
            ]
          },
          "metadata": {},
          "execution_count": 4
        }
      ]
    },
    {
      "cell_type": "code",
      "source": [
        "post_comment_df=pd.merge(post_df,comment_df,how='inner',on='post_id')\n",
        "post_comment_df.head()"
      ],
      "metadata": {
        "colab": {
          "base_uri": "https://localhost:8080/",
          "height": 635
        },
        "id": "ke-ptUfD8NCC",
        "outputId": "93190139-9f39-43c0-e07d-5e4074bf9242"
      },
      "execution_count": 5,
      "outputs": [
        {
          "output_type": "execute_result",
          "data": {
            "text/plain": [
              "  post_id                                         post_title        subreddit  \\\n",
              "0  gh1dj9  [Project] From books to presentations in 10s w...  MachineLearning   \n",
              "1  gh1dj9  [Project] From books to presentations in 10s w...  MachineLearning   \n",
              "2  gh1dj9  [Project] From books to presentations in 10s w...  MachineLearning   \n",
              "3  gh1dj9  [Project] From books to presentations in 10s w...  MachineLearning   \n",
              "4  gh1dj9  [Project] From books to presentations in 10s w...  MachineLearning   \n",
              "\n",
              "                          post_url flair_text  score  comments  upvote_ratio  \\\n",
              "0  https://v.redd.it/v492uoheuxx41    Project   7798       186          0.99   \n",
              "1  https://v.redd.it/v492uoheuxx41    Project   7798       186          0.99   \n",
              "2  https://v.redd.it/v492uoheuxx41    Project   7798       186          0.99   \n",
              "3  https://v.redd.it/v492uoheuxx41    Project   7798       186          0.99   \n",
              "4  https://v.redd.it/v492uoheuxx41    Project   7798       186          0.99   \n",
              "\n",
              "             date-time  year  \\\n",
              "0  2020-05-10 13:19:54  2020   \n",
              "1  2020-05-10 13:19:54  2020   \n",
              "2  2020-05-10 13:19:54  2020   \n",
              "3  2020-05-10 13:19:54  2020   \n",
              "4  2020-05-10 13:19:54  2020   \n",
              "\n",
              "                                             comment  \n",
              "0  Twitter thread: [https://twitter.com/cyrildiag...  \n",
              "1                                       The future 🤯  \n",
              "2  Simple yet very useful. Thank you for sharing ...  \n",
              "3  Almost guaranteed, Apple will copy your idea i...  \n",
              "4  Ohh the nightmare of making this into a stable...  "
            ],
            "text/html": [
              "\n",
              "  <div id=\"df-8e6dfaa4-1ebd-4018-a23d-ad2f592d41fc\">\n",
              "    <div class=\"colab-df-container\">\n",
              "      <div>\n",
              "<style scoped>\n",
              "    .dataframe tbody tr th:only-of-type {\n",
              "        vertical-align: middle;\n",
              "    }\n",
              "\n",
              "    .dataframe tbody tr th {\n",
              "        vertical-align: top;\n",
              "    }\n",
              "\n",
              "    .dataframe thead th {\n",
              "        text-align: right;\n",
              "    }\n",
              "</style>\n",
              "<table border=\"1\" class=\"dataframe\">\n",
              "  <thead>\n",
              "    <tr style=\"text-align: right;\">\n",
              "      <th></th>\n",
              "      <th>post_id</th>\n",
              "      <th>post_title</th>\n",
              "      <th>subreddit</th>\n",
              "      <th>post_url</th>\n",
              "      <th>flair_text</th>\n",
              "      <th>score</th>\n",
              "      <th>comments</th>\n",
              "      <th>upvote_ratio</th>\n",
              "      <th>date-time</th>\n",
              "      <th>year</th>\n",
              "      <th>comment</th>\n",
              "    </tr>\n",
              "  </thead>\n",
              "  <tbody>\n",
              "    <tr>\n",
              "      <th>0</th>\n",
              "      <td>gh1dj9</td>\n",
              "      <td>[Project] From books to presentations in 10s w...</td>\n",
              "      <td>MachineLearning</td>\n",
              "      <td>https://v.redd.it/v492uoheuxx41</td>\n",
              "      <td>Project</td>\n",
              "      <td>7798</td>\n",
              "      <td>186</td>\n",
              "      <td>0.99</td>\n",
              "      <td>2020-05-10 13:19:54</td>\n",
              "      <td>2020</td>\n",
              "      <td>Twitter thread: [https://twitter.com/cyrildiag...</td>\n",
              "    </tr>\n",
              "    <tr>\n",
              "      <th>1</th>\n",
              "      <td>gh1dj9</td>\n",
              "      <td>[Project] From books to presentations in 10s w...</td>\n",
              "      <td>MachineLearning</td>\n",
              "      <td>https://v.redd.it/v492uoheuxx41</td>\n",
              "      <td>Project</td>\n",
              "      <td>7798</td>\n",
              "      <td>186</td>\n",
              "      <td>0.99</td>\n",
              "      <td>2020-05-10 13:19:54</td>\n",
              "      <td>2020</td>\n",
              "      <td>The future 🤯</td>\n",
              "    </tr>\n",
              "    <tr>\n",
              "      <th>2</th>\n",
              "      <td>gh1dj9</td>\n",
              "      <td>[Project] From books to presentations in 10s w...</td>\n",
              "      <td>MachineLearning</td>\n",
              "      <td>https://v.redd.it/v492uoheuxx41</td>\n",
              "      <td>Project</td>\n",
              "      <td>7798</td>\n",
              "      <td>186</td>\n",
              "      <td>0.99</td>\n",
              "      <td>2020-05-10 13:19:54</td>\n",
              "      <td>2020</td>\n",
              "      <td>Simple yet very useful. Thank you for sharing ...</td>\n",
              "    </tr>\n",
              "    <tr>\n",
              "      <th>3</th>\n",
              "      <td>gh1dj9</td>\n",
              "      <td>[Project] From books to presentations in 10s w...</td>\n",
              "      <td>MachineLearning</td>\n",
              "      <td>https://v.redd.it/v492uoheuxx41</td>\n",
              "      <td>Project</td>\n",
              "      <td>7798</td>\n",
              "      <td>186</td>\n",
              "      <td>0.99</td>\n",
              "      <td>2020-05-10 13:19:54</td>\n",
              "      <td>2020</td>\n",
              "      <td>Almost guaranteed, Apple will copy your idea i...</td>\n",
              "    </tr>\n",
              "    <tr>\n",
              "      <th>4</th>\n",
              "      <td>gh1dj9</td>\n",
              "      <td>[Project] From books to presentations in 10s w...</td>\n",
              "      <td>MachineLearning</td>\n",
              "      <td>https://v.redd.it/v492uoheuxx41</td>\n",
              "      <td>Project</td>\n",
              "      <td>7798</td>\n",
              "      <td>186</td>\n",
              "      <td>0.99</td>\n",
              "      <td>2020-05-10 13:19:54</td>\n",
              "      <td>2020</td>\n",
              "      <td>Ohh the nightmare of making this into a stable...</td>\n",
              "    </tr>\n",
              "  </tbody>\n",
              "</table>\n",
              "</div>\n",
              "      <button class=\"colab-df-convert\" onclick=\"convertToInteractive('df-8e6dfaa4-1ebd-4018-a23d-ad2f592d41fc')\"\n",
              "              title=\"Convert this dataframe to an interactive table.\"\n",
              "              style=\"display:none;\">\n",
              "        \n",
              "  <svg xmlns=\"http://www.w3.org/2000/svg\" height=\"24px\"viewBox=\"0 0 24 24\"\n",
              "       width=\"24px\">\n",
              "    <path d=\"M0 0h24v24H0V0z\" fill=\"none\"/>\n",
              "    <path d=\"M18.56 5.44l.94 2.06.94-2.06 2.06-.94-2.06-.94-.94-2.06-.94 2.06-2.06.94zm-11 1L8.5 8.5l.94-2.06 2.06-.94-2.06-.94L8.5 2.5l-.94 2.06-2.06.94zm10 10l.94 2.06.94-2.06 2.06-.94-2.06-.94-.94-2.06-.94 2.06-2.06.94z\"/><path d=\"M17.41 7.96l-1.37-1.37c-.4-.4-.92-.59-1.43-.59-.52 0-1.04.2-1.43.59L10.3 9.45l-7.72 7.72c-.78.78-.78 2.05 0 2.83L4 21.41c.39.39.9.59 1.41.59.51 0 1.02-.2 1.41-.59l7.78-7.78 2.81-2.81c.8-.78.8-2.07 0-2.86zM5.41 20L4 18.59l7.72-7.72 1.47 1.35L5.41 20z\"/>\n",
              "  </svg>\n",
              "      </button>\n",
              "      \n",
              "  <style>\n",
              "    .colab-df-container {\n",
              "      display:flex;\n",
              "      flex-wrap:wrap;\n",
              "      gap: 12px;\n",
              "    }\n",
              "\n",
              "    .colab-df-convert {\n",
              "      background-color: #E8F0FE;\n",
              "      border: none;\n",
              "      border-radius: 50%;\n",
              "      cursor: pointer;\n",
              "      display: none;\n",
              "      fill: #1967D2;\n",
              "      height: 32px;\n",
              "      padding: 0 0 0 0;\n",
              "      width: 32px;\n",
              "    }\n",
              "\n",
              "    .colab-df-convert:hover {\n",
              "      background-color: #E2EBFA;\n",
              "      box-shadow: 0px 1px 2px rgba(60, 64, 67, 0.3), 0px 1px 3px 1px rgba(60, 64, 67, 0.15);\n",
              "      fill: #174EA6;\n",
              "    }\n",
              "\n",
              "    [theme=dark] .colab-df-convert {\n",
              "      background-color: #3B4455;\n",
              "      fill: #D2E3FC;\n",
              "    }\n",
              "\n",
              "    [theme=dark] .colab-df-convert:hover {\n",
              "      background-color: #434B5C;\n",
              "      box-shadow: 0px 1px 3px 1px rgba(0, 0, 0, 0.15);\n",
              "      filter: drop-shadow(0px 1px 2px rgba(0, 0, 0, 0.3));\n",
              "      fill: #FFFFFF;\n",
              "    }\n",
              "  </style>\n",
              "\n",
              "      <script>\n",
              "        const buttonEl =\n",
              "          document.querySelector('#df-8e6dfaa4-1ebd-4018-a23d-ad2f592d41fc button.colab-df-convert');\n",
              "        buttonEl.style.display =\n",
              "          google.colab.kernel.accessAllowed ? 'block' : 'none';\n",
              "\n",
              "        async function convertToInteractive(key) {\n",
              "          const element = document.querySelector('#df-8e6dfaa4-1ebd-4018-a23d-ad2f592d41fc');\n",
              "          const dataTable =\n",
              "            await google.colab.kernel.invokeFunction('convertToInteractive',\n",
              "                                                     [key], {});\n",
              "          if (!dataTable) return;\n",
              "\n",
              "          const docLinkHtml = 'Like what you see? Visit the ' +\n",
              "            '<a target=\"_blank\" href=https://colab.research.google.com/notebooks/data_table.ipynb>data table notebook</a>'\n",
              "            + ' to learn more about interactive tables.';\n",
              "          element.innerHTML = '';\n",
              "          dataTable['output_type'] = 'display_data';\n",
              "          await google.colab.output.renderOutput(dataTable, element);\n",
              "          const docLink = document.createElement('div');\n",
              "          docLink.innerHTML = docLinkHtml;\n",
              "          element.appendChild(docLink);\n",
              "        }\n",
              "      </script>\n",
              "    </div>\n",
              "  </div>\n",
              "  "
            ]
          },
          "metadata": {},
          "execution_count": 5
        }
      ]
    },
    {
      "cell_type": "code",
      "source": [
        "target_df=post_comment_df[['subreddit','comment']]\n",
        "target_df.head()"
      ],
      "metadata": {
        "colab": {
          "base_uri": "https://localhost:8080/",
          "height": 206
        },
        "id": "KAPq1ubW9y5O",
        "outputId": "1da77835-0df2-4f26-dcb1-824a2217ceec"
      },
      "execution_count": 6,
      "outputs": [
        {
          "output_type": "execute_result",
          "data": {
            "text/plain": [
              "         subreddit                                            comment\n",
              "0  MachineLearning  Twitter thread: [https://twitter.com/cyrildiag...\n",
              "1  MachineLearning                                       The future 🤯\n",
              "2  MachineLearning  Simple yet very useful. Thank you for sharing ...\n",
              "3  MachineLearning  Almost guaranteed, Apple will copy your idea i...\n",
              "4  MachineLearning  Ohh the nightmare of making this into a stable..."
            ],
            "text/html": [
              "\n",
              "  <div id=\"df-a61dd368-03c9-4fa3-8ed7-f479947dc864\">\n",
              "    <div class=\"colab-df-container\">\n",
              "      <div>\n",
              "<style scoped>\n",
              "    .dataframe tbody tr th:only-of-type {\n",
              "        vertical-align: middle;\n",
              "    }\n",
              "\n",
              "    .dataframe tbody tr th {\n",
              "        vertical-align: top;\n",
              "    }\n",
              "\n",
              "    .dataframe thead th {\n",
              "        text-align: right;\n",
              "    }\n",
              "</style>\n",
              "<table border=\"1\" class=\"dataframe\">\n",
              "  <thead>\n",
              "    <tr style=\"text-align: right;\">\n",
              "      <th></th>\n",
              "      <th>subreddit</th>\n",
              "      <th>comment</th>\n",
              "    </tr>\n",
              "  </thead>\n",
              "  <tbody>\n",
              "    <tr>\n",
              "      <th>0</th>\n",
              "      <td>MachineLearning</td>\n",
              "      <td>Twitter thread: [https://twitter.com/cyrildiag...</td>\n",
              "    </tr>\n",
              "    <tr>\n",
              "      <th>1</th>\n",
              "      <td>MachineLearning</td>\n",
              "      <td>The future 🤯</td>\n",
              "    </tr>\n",
              "    <tr>\n",
              "      <th>2</th>\n",
              "      <td>MachineLearning</td>\n",
              "      <td>Simple yet very useful. Thank you for sharing ...</td>\n",
              "    </tr>\n",
              "    <tr>\n",
              "      <th>3</th>\n",
              "      <td>MachineLearning</td>\n",
              "      <td>Almost guaranteed, Apple will copy your idea i...</td>\n",
              "    </tr>\n",
              "    <tr>\n",
              "      <th>4</th>\n",
              "      <td>MachineLearning</td>\n",
              "      <td>Ohh the nightmare of making this into a stable...</td>\n",
              "    </tr>\n",
              "  </tbody>\n",
              "</table>\n",
              "</div>\n",
              "      <button class=\"colab-df-convert\" onclick=\"convertToInteractive('df-a61dd368-03c9-4fa3-8ed7-f479947dc864')\"\n",
              "              title=\"Convert this dataframe to an interactive table.\"\n",
              "              style=\"display:none;\">\n",
              "        \n",
              "  <svg xmlns=\"http://www.w3.org/2000/svg\" height=\"24px\"viewBox=\"0 0 24 24\"\n",
              "       width=\"24px\">\n",
              "    <path d=\"M0 0h24v24H0V0z\" fill=\"none\"/>\n",
              "    <path d=\"M18.56 5.44l.94 2.06.94-2.06 2.06-.94-2.06-.94-.94-2.06-.94 2.06-2.06.94zm-11 1L8.5 8.5l.94-2.06 2.06-.94-2.06-.94L8.5 2.5l-.94 2.06-2.06.94zm10 10l.94 2.06.94-2.06 2.06-.94-2.06-.94-.94-2.06-.94 2.06-2.06.94z\"/><path d=\"M17.41 7.96l-1.37-1.37c-.4-.4-.92-.59-1.43-.59-.52 0-1.04.2-1.43.59L10.3 9.45l-7.72 7.72c-.78.78-.78 2.05 0 2.83L4 21.41c.39.39.9.59 1.41.59.51 0 1.02-.2 1.41-.59l7.78-7.78 2.81-2.81c.8-.78.8-2.07 0-2.86zM5.41 20L4 18.59l7.72-7.72 1.47 1.35L5.41 20z\"/>\n",
              "  </svg>\n",
              "      </button>\n",
              "      \n",
              "  <style>\n",
              "    .colab-df-container {\n",
              "      display:flex;\n",
              "      flex-wrap:wrap;\n",
              "      gap: 12px;\n",
              "    }\n",
              "\n",
              "    .colab-df-convert {\n",
              "      background-color: #E8F0FE;\n",
              "      border: none;\n",
              "      border-radius: 50%;\n",
              "      cursor: pointer;\n",
              "      display: none;\n",
              "      fill: #1967D2;\n",
              "      height: 32px;\n",
              "      padding: 0 0 0 0;\n",
              "      width: 32px;\n",
              "    }\n",
              "\n",
              "    .colab-df-convert:hover {\n",
              "      background-color: #E2EBFA;\n",
              "      box-shadow: 0px 1px 2px rgba(60, 64, 67, 0.3), 0px 1px 3px 1px rgba(60, 64, 67, 0.15);\n",
              "      fill: #174EA6;\n",
              "    }\n",
              "\n",
              "    [theme=dark] .colab-df-convert {\n",
              "      background-color: #3B4455;\n",
              "      fill: #D2E3FC;\n",
              "    }\n",
              "\n",
              "    [theme=dark] .colab-df-convert:hover {\n",
              "      background-color: #434B5C;\n",
              "      box-shadow: 0px 1px 3px 1px rgba(0, 0, 0, 0.15);\n",
              "      filter: drop-shadow(0px 1px 2px rgba(0, 0, 0, 0.3));\n",
              "      fill: #FFFFFF;\n",
              "    }\n",
              "  </style>\n",
              "\n",
              "      <script>\n",
              "        const buttonEl =\n",
              "          document.querySelector('#df-a61dd368-03c9-4fa3-8ed7-f479947dc864 button.colab-df-convert');\n",
              "        buttonEl.style.display =\n",
              "          google.colab.kernel.accessAllowed ? 'block' : 'none';\n",
              "\n",
              "        async function convertToInteractive(key) {\n",
              "          const element = document.querySelector('#df-a61dd368-03c9-4fa3-8ed7-f479947dc864');\n",
              "          const dataTable =\n",
              "            await google.colab.kernel.invokeFunction('convertToInteractive',\n",
              "                                                     [key], {});\n",
              "          if (!dataTable) return;\n",
              "\n",
              "          const docLinkHtml = 'Like what you see? Visit the ' +\n",
              "            '<a target=\"_blank\" href=https://colab.research.google.com/notebooks/data_table.ipynb>data table notebook</a>'\n",
              "            + ' to learn more about interactive tables.';\n",
              "          element.innerHTML = '';\n",
              "          dataTable['output_type'] = 'display_data';\n",
              "          await google.colab.output.renderOutput(dataTable, element);\n",
              "          const docLink = document.createElement('div');\n",
              "          docLink.innerHTML = docLinkHtml;\n",
              "          element.appendChild(docLink);\n",
              "        }\n",
              "      </script>\n",
              "    </div>\n",
              "  </div>\n",
              "  "
            ]
          },
          "metadata": {},
          "execution_count": 6
        }
      ]
    },
    {
      "cell_type": "markdown",
      "source": [
        "**Split into Train, Dev, Test dataset**"
      ],
      "metadata": {
        "id": "MqqqM4rnBitN"
      }
    },
    {
      "cell_type": "code",
      "source": [
        "from sklearn.model_selection import train_test_split\n",
        "X_train,X_remaining, y_train, y_remaining= train_test_split(target_df['comment'],target_df['subreddit'],train_size=0.5,stratify=target_df['subreddit'])\n",
        "X_dev, X_test, y_dev, y_test = train_test_split(X_remaining,y_remaining,test_size=0.3,stratify=y_remaining)\n",
        "train_set=pd.concat([X_train,y_train],axis=1).reset_index(drop=True)\n",
        "dev_set=pd.concat([X_dev,y_dev],axis=1).reset_index(drop=True)\n",
        "test_set=pd.concat([X_test,y_test],axis=1).reset_index(drop=True)\n",
        "print(f\"Train set size:  \",train_set.size)\n",
        "print(f\"Dev set size:  \",dev_set.size)\n",
        "print(f\"Test set size:  \",test_set.size)"
      ],
      "metadata": {
        "colab": {
          "base_uri": "https://localhost:8080/"
        },
        "id": "ROZBG6P8Bn3C",
        "outputId": "ef319238-c953-45d3-ff32-26851fa03e0a"
      },
      "execution_count": 7,
      "outputs": [
        {
          "output_type": "stream",
          "name": "stdout",
          "text": [
            "Train set size:   223168\n",
            "Dev set size:   156216\n",
            "Test set size:   66952\n"
          ]
        }
      ]
    },
    {
      "cell_type": "code",
      "source": [
        "from matplotlib.pyplot import pie,show\n",
        "import pandas as pd\n",
        "datasplit=['Train', 'Development','Test']\n",
        "size=[train_set.size,dev_set.size,test_set.size]\n",
        "pie(size,labels=datasplit,autopct='%.1f%%')\n",
        "show()\n"
      ],
      "metadata": {
        "colab": {
          "base_uri": "https://localhost:8080/",
          "height": 406
        },
        "id": "LS6o45Z7khdZ",
        "outputId": "2cca6065-8077-4305-f172-1c085f4736c7"
      },
      "execution_count": 14,
      "outputs": [
        {
          "output_type": "display_data",
          "data": {
            "text/plain": [
              "<Figure size 640x480 with 1 Axes>"
            ],
            "image/png": "[encoded data removed]"
          },
          "metadata": {}
        }
      ]
    },
    {
      "cell_type": "code",
      "source": [
        "train_set.head()"
      ],
      "metadata": {
        "colab": {
          "base_uri": "https://localhost:8080/",
          "height": 206
        },
        "id": "0oQ317exFUOh",
        "outputId": "c6a00c85-3e71-4658-85a3-7a8ec305c427"
      },
      "execution_count": 15,
      "outputs": [
        {
          "output_type": "execute_result",
          "data": {
            "text/plain": [
              "                                             comment        subreddit\n",
              "0  you might be referring to Tycho maybe. Kepler ...      datascience\n",
              "1  >No, I don't want to prevent people from apply...      datascience\n",
              "2  Neuromorphic sounds cool. I'm curious how it s...  MachineLearning\n",
              "3  Maybe but most of the levels.fyi data also has...      datascience\n",
              "4  Imagine getting a blowjob by an AI trained by ...      datascience"
            ],
            "text/html": [
              "\n",
              "  <div id=\"df-ba747cee-a19f-49f3-bbbe-2e68da06baf9\">\n",
              "    <div class=\"colab-df-container\">\n",
              "      <div>\n",
              "<style scoped>\n",
              "    .dataframe tbody tr th:only-of-type {\n",
              "        vertical-align: middle;\n",
              "    }\n",
              "\n",
              "    .dataframe tbody tr th {\n",
              "        vertical-align: top;\n",
              "    }\n",
              "\n",
              "    .dataframe thead th {\n",
              "        text-align: right;\n",
              "    }\n",
              "</style>\n",
              "<table border=\"1\" class=\"dataframe\">\n",
              "  <thead>\n",
              "    <tr style=\"text-align: right;\">\n",
              "      <th></th>\n",
              "      <th>comment</th>\n",
              "      <th>subreddit</th>\n",
              "    </tr>\n",
              "  </thead>\n",
              "  <tbody>\n",
              "    <tr>\n",
              "      <th>0</th>\n",
              "      <td>you might be referring to Tycho maybe. Kepler ...</td>\n",
              "      <td>datascience</td>\n",
              "    </tr>\n",
              "    <tr>\n",
              "      <th>1</th>\n",
              "      <td>&gt;No, I don't want to prevent people from apply...</td>\n",
              "      <td>datascience</td>\n",
              "    </tr>\n",
              "    <tr>\n",
              "      <th>2</th>\n",
              "      <td>Neuromorphic sounds cool. I'm curious how it s...</td>\n",
              "      <td>MachineLearning</td>\n",
              "    </tr>\n",
              "    <tr>\n",
              "      <th>3</th>\n",
              "      <td>Maybe but most of the levels.fyi data also has...</td>\n",
              "      <td>datascience</td>\n",
              "    </tr>\n",
              "    <tr>\n",
              "      <th>4</th>\n",
              "      <td>Imagine getting a blowjob by an AI trained by ...</td>\n",
              "      <td>datascience</td>\n",
              "    </tr>\n",
              "  </tbody>\n",
              "</table>\n",
              "</div>\n",
              "      <button class=\"colab-df-convert\" onclick=\"convertToInteractive('df-ba747cee-a19f-49f3-bbbe-2e68da06baf9')\"\n",
              "              title=\"Convert this dataframe to an interactive table.\"\n",
              "              style=\"display:none;\">\n",
              "        \n",
              "  <svg xmlns=\"http://www.w3.org/2000/svg\" height=\"24px\"viewBox=\"0 0 24 24\"\n",
              "       width=\"24px\">\n",
              "    <path d=\"M0 0h24v24H0V0z\" fill=\"none\"/>\n",
              "    <path d=\"M18.56 5.44l.94 2.06.94-2.06 2.06-.94-2.06-.94-.94-2.06-.94 2.06-2.06.94zm-11 1L8.5 8.5l.94-2.06 2.06-.94-2.06-.94L8.5 2.5l-.94 2.06-2.06.94zm10 10l.94 2.06.94-2.06 2.06-.94-2.06-.94-.94-2.06-.94 2.06-2.06.94z\"/><path d=\"M17.41 7.96l-1.37-1.37c-.4-.4-.92-.59-1.43-.59-.52 0-1.04.2-1.43.59L10.3 9.45l-7.72 7.72c-.78.78-.78 2.05 0 2.83L4 21.41c.39.39.9.59 1.41.59.51 0 1.02-.2 1.41-.59l7.78-7.78 2.81-2.81c.8-.78.8-2.07 0-2.86zM5.41 20L4 18.59l7.72-7.72 1.47 1.35L5.41 20z\"/>\n",
              "  </svg>\n",
              "      </button>\n",
              "      \n",
              "  <style>\n",
              "    .colab-df-container {\n",
              "      display:flex;\n",
              "      flex-wrap:wrap;\n",
              "      gap: 12px;\n",
              "    }\n",
              "\n",
              "    .colab-df-convert {\n",
              "      background-color: #E8F0FE;\n",
              "      border: none;\n",
              "      border-radius: 50%;\n",
              "      cursor: pointer;\n",
              "      display: none;\n",
              "      fill: #1967D2;\n",
              "      height: 32px;\n",
              "      padding: 0 0 0 0;\n",
              "      width: 32px;\n",
              "    }\n",
              "\n",
              "    .colab-df-convert:hover {\n",
              "      background-color: #E2EBFA;\n",
              "      box-shadow: 0px 1px 2px rgba(60, 64, 67, 0.3), 0px 1px 3px 1px rgba(60, 64, 67, 0.15);\n",
              "      fill: #174EA6;\n",
              "    }\n",
              "\n",
              "    [theme=dark] .colab-df-convert {\n",
              "      background-color: #3B4455;\n",
              "      fill: #D2E3FC;\n",
              "    }\n",
              "\n",
              "    [theme=dark] .colab-df-convert:hover {\n",
              "      background-color: #434B5C;\n",
              "      box-shadow: 0px 1px 3px 1px rgba(0, 0, 0, 0.15);\n",
              "      filter: drop-shadow(0px 1px 2px rgba(0, 0, 0, 0.3));\n",
              "      fill: #FFFFFF;\n",
              "    }\n",
              "  </style>\n",
              "\n",
              "      <script>\n",
              "        const buttonEl =\n",
              "          document.querySelector('#df-ba747cee-a19f-49f3-bbbe-2e68da06baf9 button.colab-df-convert');\n",
              "        buttonEl.style.display =\n",
              "          google.colab.kernel.accessAllowed ? 'block' : 'none';\n",
              "\n",
              "        async function convertToInteractive(key) {\n",
              "          const element = document.querySelector('#df-ba747cee-a19f-49f3-bbbe-2e68da06baf9');\n",
              "          const dataTable =\n",
              "            await google.colab.kernel.invokeFunction('convertToInteractive',\n",
              "                                                     [key], {});\n",
              "          if (!dataTable) return;\n",
              "\n",
              "          const docLinkHtml = 'Like what you see? Visit the ' +\n",
              "            '<a target=\"_blank\" href=https://colab.research.google.com/notebooks/data_table.ipynb>data table notebook</a>'\n",
              "            + ' to learn more about interactive tables.';\n",
              "          element.innerHTML = '';\n",
              "          dataTable['output_type'] = 'display_data';\n",
              "          await google.colab.output.renderOutput(dataTable, element);\n",
              "          const docLink = document.createElement('div');\n",
              "          docLink.innerHTML = docLinkHtml;\n",
              "          element.appendChild(docLink);\n",
              "        }\n",
              "      </script>\n",
              "    </div>\n",
              "  </div>\n",
              "  "
            ]
          },
          "metadata": {},
          "execution_count": 15
        }
      ]
    },
    {
      "cell_type": "markdown",
      "source": [
        "**Deleting empty comments**"
      ],
      "metadata": {
        "id": "nfRgH6PU22y_"
      }
    },
    {
      "cell_type": "code",
      "source": [
        "import numpy as np\n",
        "train_set.isna().sum()"
      ],
      "metadata": {
        "id": "LkJo2G96R2-v",
        "colab": {
          "base_uri": "https://localhost:8080/"
        },
        "outputId": "ccafecf6-d0d3-4fdc-97e5-33707bfdec33"
      },
      "execution_count": 8,
      "outputs": [
        {
          "output_type": "execute_result",
          "data": {
            "text/plain": [
              "comment      6\n",
              "subreddit    0\n",
              "dtype: int64"
            ]
          },
          "metadata": {},
          "execution_count": 8
        }
      ]
    },
    {
      "cell_type": "code",
      "source": [
        "train_set['comment'].replace('',np.nan,inplace=True)\n",
        "train_set.dropna(subset=['comment'],inplace=True)\n",
        "train_set.isna().sum()\n"
      ],
      "metadata": {
        "colab": {
          "base_uri": "https://localhost:8080/"
        },
        "id": "-rIDVfgvSuYc",
        "outputId": "73c4f914-d2c1-4249-9f3f-bc777c27051b"
      },
      "execution_count": 9,
      "outputs": [
        {
          "output_type": "execute_result",
          "data": {
            "text/plain": [
              "comment      0\n",
              "subreddit    0\n",
              "dtype: int64"
            ]
          },
          "metadata": {},
          "execution_count": 9
        }
      ]
    },
    {
      "cell_type": "code",
      "source": [
        "train_copy=train_set.copy()\n",
        "train_copy.head()"
      ],
      "metadata": {
        "colab": {
          "base_uri": "https://localhost:8080/",
          "height": 206
        },
        "id": "3DI-qhzUOxOX",
        "outputId": "f3462311-0d38-475b-c8e9-ffaae7767f6f"
      },
      "execution_count": 10,
      "outputs": [
        {
          "output_type": "execute_result",
          "data": {
            "text/plain": [
              "                                             comment        subreddit\n",
              "0  Firstly... why? Whats the value they see in it...      datascience\n",
              "1       can your code train the same neuron network?  MachineLearning\n",
              "2  Would be better if more authors published thei...  MachineLearning\n",
              "3  Direct link:  [https://aws.amazon.com/training...       artificial\n",
              "4  The idea of modeling in Bayesian networks and ...      datascience"
            ],
            "text/html": [
              "\n",
              "  <div id=\"df-d7969a20-bf71-45de-aea6-9c16f640554a\">\n",
              "    <div class=\"colab-df-container\">\n",
              "      <div>\n",
              "<style scoped>\n",
              "    .dataframe tbody tr th:only-of-type {\n",
              "        vertical-align: middle;\n",
              "    }\n",
              "\n",
              "    .dataframe tbody tr th {\n",
              "        vertical-align: top;\n",
              "    }\n",
              "\n",
              "    .dataframe thead th {\n",
              "        text-align: right;\n",
              "    }\n",
              "</style>\n",
              "<table border=\"1\" class=\"dataframe\">\n",
              "  <thead>\n",
              "    <tr style=\"text-align: right;\">\n",
              "      <th></th>\n",
              "      <th>comment</th>\n",
              "      <th>subreddit</th>\n",
              "    </tr>\n",
              "  </thead>\n",
              "  <tbody>\n",
              "    <tr>\n",
              "      <th>0</th>\n",
              "      <td>Firstly... why? Whats the value they see in it...</td>\n",
              "      <td>datascience</td>\n",
              "    </tr>\n",
              "    <tr>\n",
              "      <th>1</th>\n",
              "      <td>can your code train the same neuron network?</td>\n",
              "      <td>MachineLearning</td>\n",
              "    </tr>\n",
              "    <tr>\n",
              "      <th>2</th>\n",
              "      <td>Would be better if more authors published thei...</td>\n",
              "      <td>MachineLearning</td>\n",
              "    </tr>\n",
              "    <tr>\n",
              "      <th>3</th>\n",
              "      <td>Direct link:  [https://aws.amazon.com/training...</td>\n",
              "      <td>artificial</td>\n",
              "    </tr>\n",
              "    <tr>\n",
              "      <th>4</th>\n",
              "      <td>The idea of modeling in Bayesian networks and ...</td>\n",
              "      <td>datascience</td>\n",
              "    </tr>\n",
              "  </tbody>\n",
              "</table>\n",
              "</div>\n",
              "      <button class=\"colab-df-convert\" onclick=\"convertToInteractive('df-d7969a20-bf71-45de-aea6-9c16f640554a')\"\n",
              "              title=\"Convert this dataframe to an interactive table.\"\n",
              "              style=\"display:none;\">\n",
              "        \n",
              "  <svg xmlns=\"http://www.w3.org/2000/svg\" height=\"24px\"viewBox=\"0 0 24 24\"\n",
              "       width=\"24px\">\n",
              "    <path d=\"M0 0h24v24H0V0z\" fill=\"none\"/>\n",
              "    <path d=\"M18.56 5.44l.94 2.06.94-2.06 2.06-.94-2.06-.94-.94-2.06-.94 2.06-2.06.94zm-11 1L8.5 8.5l.94-2.06 2.06-.94-2.06-.94L8.5 2.5l-.94 2.06-2.06.94zm10 10l.94 2.06.94-2.06 2.06-.94-2.06-.94-.94-2.06-.94 2.06-2.06.94z\"/><path d=\"M17.41 7.96l-1.37-1.37c-.4-.4-.92-.59-1.43-.59-.52 0-1.04.2-1.43.59L10.3 9.45l-7.72 7.72c-.78.78-.78 2.05 0 2.83L4 21.41c.39.39.9.59 1.41.59.51 0 1.02-.2 1.41-.59l7.78-7.78 2.81-2.81c.8-.78.8-2.07 0-2.86zM5.41 20L4 18.59l7.72-7.72 1.47 1.35L5.41 20z\"/>\n",
              "  </svg>\n",
              "      </button>\n",
              "      \n",
              "  <style>\n",
              "    .colab-df-container {\n",
              "      display:flex;\n",
              "      flex-wrap:wrap;\n",
              "      gap: 12px;\n",
              "    }\n",
              "\n",
              "    .colab-df-convert {\n",
              "      background-color: #E8F0FE;\n",
              "      border: none;\n",
              "      border-radius: 50%;\n",
              "      cursor: pointer;\n",
              "      display: none;\n",
              "      fill: #1967D2;\n",
              "      height: 32px;\n",
              "      padding: 0 0 0 0;\n",
              "      width: 32px;\n",
              "    }\n",
              "\n",
              "    .colab-df-convert:hover {\n",
              "      background-color: #E2EBFA;\n",
              "      box-shadow: 0px 1px 2px rgba(60, 64, 67, 0.3), 0px 1px 3px 1px rgba(60, 64, 67, 0.15);\n",
              "      fill: #174EA6;\n",
              "    }\n",
              "\n",
              "    [theme=dark] .colab-df-convert {\n",
              "      background-color: #3B4455;\n",
              "      fill: #D2E3FC;\n",
              "    }\n",
              "\n",
              "    [theme=dark] .colab-df-convert:hover {\n",
              "      background-color: #434B5C;\n",
              "      box-shadow: 0px 1px 3px 1px rgba(0, 0, 0, 0.15);\n",
              "      filter: drop-shadow(0px 1px 2px rgba(0, 0, 0, 0.3));\n",
              "      fill: #FFFFFF;\n",
              "    }\n",
              "  </style>\n",
              "\n",
              "      <script>\n",
              "        const buttonEl =\n",
              "          document.querySelector('#df-d7969a20-bf71-45de-aea6-9c16f640554a button.colab-df-convert');\n",
              "        buttonEl.style.display =\n",
              "          google.colab.kernel.accessAllowed ? 'block' : 'none';\n",
              "\n",
              "        async function convertToInteractive(key) {\n",
              "          const element = document.querySelector('#df-d7969a20-bf71-45de-aea6-9c16f640554a');\n",
              "          const dataTable =\n",
              "            await google.colab.kernel.invokeFunction('convertToInteractive',\n",
              "                                                     [key], {});\n",
              "          if (!dataTable) return;\n",
              "\n",
              "          const docLinkHtml = 'Like what you see? Visit the ' +\n",
              "            '<a target=\"_blank\" href=https://colab.research.google.com/notebooks/data_table.ipynb>data table notebook</a>'\n",
              "            + ' to learn more about interactive tables.';\n",
              "          element.innerHTML = '';\n",
              "          dataTable['output_type'] = 'display_data';\n",
              "          await google.colab.output.renderOutput(dataTable, element);\n",
              "          const docLink = document.createElement('div');\n",
              "          docLink.innerHTML = docLinkHtml;\n",
              "          element.appendChild(docLink);\n",
              "        }\n",
              "      </script>\n",
              "    </div>\n",
              "  </div>\n",
              "  "
            ]
          },
          "metadata": {},
          "execution_count": 10
        }
      ]
    },
    {
      "cell_type": "markdown",
      "source": [
        "**Pre-processing**"
      ],
      "metadata": {
        "id": "uLavQ6x5G_fx"
      }
    },
    {
      "cell_type": "markdown",
      "source": [
        "**Removing empty rows**"
      ],
      "metadata": {
        "id": "sXSdPjgBtOXJ"
      }
    },
    {
      "cell_type": "code",
      "source": [
        "dev_set.isna().sum()"
      ],
      "metadata": {
        "colab": {
          "base_uri": "https://localhost:8080/"
        },
        "id": "y4kHpEBGtSgp",
        "outputId": "b22f8334-2524-4214-cb3e-a005d1d8895d"
      },
      "execution_count": 11,
      "outputs": [
        {
          "output_type": "execute_result",
          "data": {
            "text/plain": [
              "comment      1\n",
              "subreddit    0\n",
              "dtype: int64"
            ]
          },
          "metadata": {},
          "execution_count": 11
        }
      ]
    },
    {
      "cell_type": "code",
      "source": [
        "import numpy as np\n",
        "dev_set.replace('',np.nan,inplace=True)\n",
        "dev_set.dropna(inplace=True)\n",
        "dev_set.isna().sum()"
      ],
      "metadata": {
        "colab": {
          "base_uri": "https://localhost:8080/"
        },
        "id": "ehW4Y_XptZyQ",
        "outputId": "59847d48-45cb-4d3e-ad41-8023cb7509f1"
      },
      "execution_count": 12,
      "outputs": [
        {
          "output_type": "execute_result",
          "data": {
            "text/plain": [
              "comment      0\n",
              "subreddit    0\n",
              "dtype: int64"
            ]
          },
          "metadata": {},
          "execution_count": 12
        }
      ]
    },
    {
      "cell_type": "code",
      "source": [
        "test_set.isna().sum()"
      ],
      "metadata": {
        "colab": {
          "base_uri": "https://localhost:8080/"
        },
        "id": "MU_2K3hCt5ZH",
        "outputId": "ebd19b36-441a-469d-f685-d3fcdb995733"
      },
      "execution_count": 13,
      "outputs": [
        {
          "output_type": "execute_result",
          "data": {
            "text/plain": [
              "comment      2\n",
              "subreddit    0\n",
              "dtype: int64"
            ]
          },
          "metadata": {},
          "execution_count": 13
        }
      ]
    },
    {
      "cell_type": "code",
      "source": [
        "test_set.replace('',np.nan,inplace=True)\n",
        "test_set.dropna(inplace=True)\n",
        "test_set.isna().sum()"
      ],
      "metadata": {
        "colab": {
          "base_uri": "https://localhost:8080/"
        },
        "id": "nIkN8Fv0t8GB",
        "outputId": "eb0088b1-156b-4668-e6cf-4c0f461a6d1f"
      },
      "execution_count": 14,
      "outputs": [
        {
          "output_type": "execute_result",
          "data": {
            "text/plain": [
              "comment      0\n",
              "subreddit    0\n",
              "dtype: int64"
            ]
          },
          "metadata": {},
          "execution_count": 14
        }
      ]
    },
    {
      "cell_type": "code",
      "source": [
        "import string,re\n",
        "import nltk\n",
        "from nltk import word_tokenize\n",
        "nltk.download('punkt')\n",
        "nltk.download('wordnet')\n",
        "nltk.download('stopwords')\n",
        "from nltk.corpus import stopwords\n",
        "from nltk.stem import WordNetLemmatizer\n",
        "def text_preprocess(comment):\n",
        "  tokens=[word for word in word_tokenize(comment)]\n",
        "  tokens1=[word.lower() for word in tokens if word.lower() not in stopwords.words('english')]\n",
        "  for i in range(len(tokens1)):\n",
        "   tokens1[i]= ''.join([word for word in tokens1[i] if word not in (string.punctuation)])\n",
        "  tokens2=[word for word in tokens1 if word]\n",
        "  tokens3=[re.sub(r'\\s\\s+','',word) for word in tokens2]\n",
        "  word_lem=WordNetLemmatizer()\n",
        "  lem_words=[word_lem.lemmatize(word) for word in tokens3]\n",
        "  return lem_words"
      ],
      "metadata": {
        "colab": {
          "base_uri": "https://localhost:8080/"
        },
        "id": "4lpPppsVJFHS",
        "outputId": "0dae5bf5-806c-4035-b539-b7ccb7c9e688"
      },
      "execution_count": 15,
      "outputs": [
        {
          "output_type": "stream",
          "name": "stderr",
          "text": [
            "[nltk_data] Downloading package punkt to /root/nltk_data...\n",
            "[nltk_data]   Package punkt is already up-to-date!\n",
            "[nltk_data] Downloading package wordnet to /root/nltk_data...\n",
            "[nltk_data]   Package wordnet is already up-to-date!\n",
            "[nltk_data] Downloading package stopwords to /root/nltk_data...\n",
            "[nltk_data]   Package stopwords is already up-to-date!\n"
          ]
        }
      ]
    },
    {
      "cell_type": "code",
      "source": [
        "train_copy['comment']=train_copy['comment'].apply(text_preprocess)\n",
        "train_copy.head()"
      ],
      "metadata": {
        "colab": {
          "base_uri": "https://localhost:8080/",
          "height": 206
        },
        "id": "JEdG5WI9O_lJ",
        "outputId": "9cd339e1-e92a-4282-cd94-a06afb12850c"
      },
      "execution_count": 16,
      "outputs": [
        {
          "output_type": "execute_result",
          "data": {
            "text/plain": [
              "                                             comment        subreddit\n",
              "0             [firstly, whats, value, see, business]      datascience\n",
              "1                     [code, train, neuron, network]  MachineLearning\n",
              "2  [would, better, author, published, code, grad,...  MachineLearning\n",
              "3  [direct, link, http, awsamazoncomtraininglearn...       artificial\n",
              "4  [idea, modeling, bayesian, network, machine, l...      datascience"
            ],
            "text/html": [
              "\n",
              "  <div id=\"df-33a8cbbe-aa53-41bd-938a-7019d3502b9e\">\n",
              "    <div class=\"colab-df-container\">\n",
              "      <div>\n",
              "<style scoped>\n",
              "    .dataframe tbody tr th:only-of-type {\n",
              "        vertical-align: middle;\n",
              "    }\n",
              "\n",
              "    .dataframe tbody tr th {\n",
              "        vertical-align: top;\n",
              "    }\n",
              "\n",
              "    .dataframe thead th {\n",
              "        text-align: right;\n",
              "    }\n",
              "</style>\n",
              "<table border=\"1\" class=\"dataframe\">\n",
              "  <thead>\n",
              "    <tr style=\"text-align: right;\">\n",
              "      <th></th>\n",
              "      <th>comment</th>\n",
              "      <th>subreddit</th>\n",
              "    </tr>\n",
              "  </thead>\n",
              "  <tbody>\n",
              "    <tr>\n",
              "      <th>0</th>\n",
              "      <td>[firstly, whats, value, see, business]</td>\n",
              "      <td>datascience</td>\n",
              "    </tr>\n",
              "    <tr>\n",
              "      <th>1</th>\n",
              "      <td>[code, train, neuron, network]</td>\n",
              "      <td>MachineLearning</td>\n",
              "    </tr>\n",
              "    <tr>\n",
              "      <th>2</th>\n",
              "      <td>[would, better, author, published, code, grad,...</td>\n",
              "      <td>MachineLearning</td>\n",
              "    </tr>\n",
              "    <tr>\n",
              "      <th>3</th>\n",
              "      <td>[direct, link, http, awsamazoncomtraininglearn...</td>\n",
              "      <td>artificial</td>\n",
              "    </tr>\n",
              "    <tr>\n",
              "      <th>4</th>\n",
              "      <td>[idea, modeling, bayesian, network, machine, l...</td>\n",
              "      <td>datascience</td>\n",
              "    </tr>\n",
              "  </tbody>\n",
              "</table>\n",
              "</div>\n",
              "      <button class=\"colab-df-convert\" onclick=\"convertToInteractive('df-33a8cbbe-aa53-41bd-938a-7019d3502b9e')\"\n",
              "              title=\"Convert this dataframe to an interactive table.\"\n",
              "              style=\"display:none;\">\n",
              "        \n",
              "  <svg xmlns=\"http://www.w3.org/2000/svg\" height=\"24px\"viewBox=\"0 0 24 24\"\n",
              "       width=\"24px\">\n",
              "    <path d=\"M0 0h24v24H0V0z\" fill=\"none\"/>\n",
              "    <path d=\"M18.56 5.44l.94 2.06.94-2.06 2.06-.94-2.06-.94-.94-2.06-.94 2.06-2.06.94zm-11 1L8.5 8.5l.94-2.06 2.06-.94-2.06-.94L8.5 2.5l-.94 2.06-2.06.94zm10 10l.94 2.06.94-2.06 2.06-.94-2.06-.94-.94-2.06-.94 2.06-2.06.94z\"/><path d=\"M17.41 7.96l-1.37-1.37c-.4-.4-.92-.59-1.43-.59-.52 0-1.04.2-1.43.59L10.3 9.45l-7.72 7.72c-.78.78-.78 2.05 0 2.83L4 21.41c.39.39.9.59 1.41.59.51 0 1.02-.2 1.41-.59l7.78-7.78 2.81-2.81c.8-.78.8-2.07 0-2.86zM5.41 20L4 18.59l7.72-7.72 1.47 1.35L5.41 20z\"/>\n",
              "  </svg>\n",
              "      </button>\n",
              "      \n",
              "  <style>\n",
              "    .colab-df-container {\n",
              "      display:flex;\n",
              "      flex-wrap:wrap;\n",
              "      gap: 12px;\n",
              "    }\n",
              "\n",
              "    .colab-df-convert {\n",
              "      background-color: #E8F0FE;\n",
              "      border: none;\n",
              "      border-radius: 50%;\n",
              "      cursor: pointer;\n",
              "      display: none;\n",
              "      fill: #1967D2;\n",
              "      height: 32px;\n",
              "      padding: 0 0 0 0;\n",
              "      width: 32px;\n",
              "    }\n",
              "\n",
              "    .colab-df-convert:hover {\n",
              "      background-color: #E2EBFA;\n",
              "      box-shadow: 0px 1px 2px rgba(60, 64, 67, 0.3), 0px 1px 3px 1px rgba(60, 64, 67, 0.15);\n",
              "      fill: #174EA6;\n",
              "    }\n",
              "\n",
              "    [theme=dark] .colab-df-convert {\n",
              "      background-color: #3B4455;\n",
              "      fill: #D2E3FC;\n",
              "    }\n",
              "\n",
              "    [theme=dark] .colab-df-convert:hover {\n",
              "      background-color: #434B5C;\n",
              "      box-shadow: 0px 1px 3px 1px rgba(0, 0, 0, 0.15);\n",
              "      filter: drop-shadow(0px 1px 2px rgba(0, 0, 0, 0.3));\n",
              "      fill: #FFFFFF;\n",
              "    }\n",
              "  </style>\n",
              "\n",
              "      <script>\n",
              "        const buttonEl =\n",
              "          document.querySelector('#df-33a8cbbe-aa53-41bd-938a-7019d3502b9e button.colab-df-convert');\n",
              "        buttonEl.style.display =\n",
              "          google.colab.kernel.accessAllowed ? 'block' : 'none';\n",
              "\n",
              "        async function convertToInteractive(key) {\n",
              "          const element = document.querySelector('#df-33a8cbbe-aa53-41bd-938a-7019d3502b9e');\n",
              "          const dataTable =\n",
              "            await google.colab.kernel.invokeFunction('convertToInteractive',\n",
              "                                                     [key], {});\n",
              "          if (!dataTable) return;\n",
              "\n",
              "          const docLinkHtml = 'Like what you see? Visit the ' +\n",
              "            '<a target=\"_blank\" href=https://colab.research.google.com/notebooks/data_table.ipynb>data table notebook</a>'\n",
              "            + ' to learn more about interactive tables.';\n",
              "          element.innerHTML = '';\n",
              "          dataTable['output_type'] = 'display_data';\n",
              "          await google.colab.output.renderOutput(dataTable, element);\n",
              "          const docLink = document.createElement('div');\n",
              "          docLink.innerHTML = docLinkHtml;\n",
              "          element.appendChild(docLink);\n",
              "        }\n",
              "      </script>\n",
              "    </div>\n",
              "  </div>\n",
              "  "
            ]
          },
          "metadata": {},
          "execution_count": 16
        }
      ]
    },
    {
      "cell_type": "code",
      "source": [
        "text_preprocess(\"Likely, and it will be easier for them, the processing could be done in the iPhone and uploading can be done through airdrop (which supports 'aiming' at people and machines to share files).\")"
      ],
      "metadata": {
        "colab": {
          "base_uri": "https://localhost:8080/"
        },
        "id": "cGfk2TyW5wq7",
        "outputId": "62f01fcd-e15f-4080-cea5-44ea618911f8"
      },
      "execution_count": 25,
      "outputs": [
        {
          "output_type": "execute_result",
          "data": {
            "text/plain": [
              "['likely',\n",
              " 'easier',\n",
              " 'processing',\n",
              " 'could',\n",
              " 'done',\n",
              " 'iphone',\n",
              " 'uploading',\n",
              " 'done',\n",
              " 'airdrop',\n",
              " 'support',\n",
              " 'aiming',\n",
              " 'people',\n",
              " 'machine',\n",
              " 'share',\n",
              " 'file']"
            ]
          },
          "metadata": {},
          "execution_count": 25
        }
      ]
    },
    {
      "cell_type": "markdown",
      "source": [
        "**Calculating total number of words in all comments**"
      ],
      "metadata": {
        "id": "UeSCIqKG6AoU"
      }
    },
    {
      "cell_type": "code",
      "source": [
        "word_list=[]\n",
        "for comment in train_copy['comment']:\n",
        "  for word in comment:\n",
        "    word_list.append(word)\n",
        "word_list= list(set(word_list))\n",
        "total=len(word_list)\n",
        "print(f'total number of words in vocabulary: {total}')"
      ],
      "metadata": {
        "colab": {
          "base_uri": "https://localhost:8080/"
        },
        "id": "eAUEHH946I5a",
        "outputId": "93a39570-4d2a-4103-bf31-dd41e5d875d4"
      },
      "execution_count": 17,
      "outputs": [
        {
          "output_type": "stream",
          "name": "stdout",
          "text": [
            "total number of words in vocabulary: 86019\n"
          ]
        }
      ]
    },
    {
      "cell_type": "code",
      "source": [
        "from collections import defaultdict\n",
        "AI_category=0\n",
        "ML_category=0\n",
        "DataScience_category=0\n",
        "num_AI_words=0\n",
        "num_ML_words=0\n",
        "num_Datasci_words=0\n",
        "AI_words=[]\n",
        "ML_words=[]\n",
        "DS_words=[]\n",
        "word_dict=defaultdict(lambda:[0,0,0])\n",
        "category=list(train_copy['subreddit'])"
      ],
      "metadata": {
        "id": "l8GY2cht_REK"
      },
      "execution_count": 18,
      "outputs": []
    },
    {
      "cell_type": "markdown",
      "source": [
        "**Calculating word frequencies of each word in every comment**"
      ],
      "metadata": {
        "id": "aLOiLzIzDFGy"
      }
    },
    {
      "cell_type": "code",
      "source": [
        "for i, comment in enumerate(list(train_copy['comment'])):\n",
        "  if  category[i] == 'artificial':\n",
        "    AI_category=AI_category+1\n",
        "  elif category[i] == 'MachineLearning':\n",
        "    ML_category=ML_category+1\n",
        "  else:\n",
        "    DataScience_category=DataScience_category+1\n",
        "  for word in (comment):\n",
        "    if category[i] == 'artificial':\n",
        "      word_dict[word][0]+=1\n",
        "      AI_words.append(word)\n",
        "      num_AI_words+=1 \n",
        "    elif category[i] == 'MachineLearning':\n",
        "      word_dict[word][1]+=1\n",
        "      ML_words.append(word)\n",
        "      num_ML_words+=1\n",
        "    else:\n",
        "      word_dict[word][2]+=1\n",
        "      DS_words.append(word)\n",
        "      num_Datasci_words+=1"
      ],
      "metadata": {
        "id": "JnwamRS9Ds46"
      },
      "execution_count": 19,
      "outputs": []
    },
    {
      "cell_type": "code",
      "source": [
        "word_dict"
      ],
      "metadata": {
        "colab": {
          "base_uri": "https://localhost:8080/"
        },
        "id": "yrgYVmj-Ie6-",
        "outputId": "7019cdc2-77a4-4300-8404-0a1dafd512ca"
      },
      "execution_count": 20,
      "outputs": [
        {
          "output_type": "execute_result",
          "data": {
            "text/plain": [
              "defaultdict(<function __main__.<lambda>()>,\n",
              "            {'firstly': [2, 17, 23],\n",
              "             'whats': [14, 26, 53],\n",
              "             'value': [118, 948, 1724],\n",
              "             'see': [649, 3618, 3008],\n",
              "             'business': [91, 587, 2679],\n",
              "             'code': [255, 2661, 2772],\n",
              "             'train': [129, 960, 330],\n",
              "             'neuron': [79, 317, 43],\n",
              "             'network': [325, 2029, 520],\n",
              "             'would': [1594, 8457, 7480],\n",
              "             'better': [490, 2664, 2954],\n",
              "             'author': [38, 894, 176],\n",
              "             'published': [38, 557, 140],\n",
              "             'grad': [14, 205, 608],\n",
              "             'student': [54, 925, 849],\n",
              "             'could': [863, 4241, 3355],\n",
              "             'try': [244, 1502, 1618],\n",
              "             'replicate': [11, 100, 30],\n",
              "             'finding': [33, 308, 457],\n",
              "             'nt': [2656, 15022, 14952],\n",
              "             'publishing': [12, 255, 46],\n",
              "             'conference': [11, 502, 98],\n",
              "             'norm': [7, 103, 83],\n",
              "             'computer': [274, 1026, 773],\n",
              "             'science': [125, 1236, 6273],\n",
              "             'direct': [30, 166, 167],\n",
              "             'link': [183, 996, 617],\n",
              "             'http': [1557, 8936, 3501],\n",
              "             'awsamazoncomtraininglearningpathsmachinelearning': [2, 0, 0],\n",
              "             'remains': [8, 57, 25],\n",
              "             'seen': [148, 823, 895],\n",
              "             'worse': [57, 421, 320],\n",
              "             'offering': [20, 72, 109],\n",
              "             'cost': [105, 618, 624],\n",
              "             'money': [160, 849, 1154],\n",
              "             'amazon': [29, 147, 225],\n",
              "             'course': [160, 1523, 1949],\n",
              "             'use': [656, 4350, 4782],\n",
              "             'machine': [341, 2316, 1347],\n",
              "             'learning': [466, 4333, 2971],\n",
              "             'tool': [219, 895, 1599],\n",
              "             'sagemaker': [1, 9, 29],\n",
              "             'deeplens': [1, 0, 0],\n",
              "             'rekognition': [1, 1, 0],\n",
              "             'lex': [3, 90, 16],\n",
              "             'polly': [2, 0, 0],\n",
              "             'comprehen': [1, 0, 0],\n",
              "             'useful': [143, 812, 915],\n",
              "             'using': [430, 2610, 2547],\n",
              "             'google': [350, 2420, 804],\n",
              "             'facebook': [58, 418, 274],\n",
              "             'm': [709, 4552, 5660],\n",
              "             'developersgooglecommachinelearningcrashcourse': [2, 0, 0],\n",
              "             'microsoft': [83, 201, 175],\n",
              "             'academymicrosoftcomenusprofessionalprogramtracksartificialintelligence': [2,\n",
              "              0,\n",
              "              0],\n",
              "             'coursera': [3, 123, 122],\n",
              "             'wwwcourseraorgspecializationsmachinelearningtensorflowgcp': [2,\n",
              "              0,\n",
              "              0],\n",
              "             'nvidia': [25, 412, 19],\n",
              "             'coursesnvidiacomcoursescoursev1': [2, 0, 0],\n",
              "             'dlicfx01v2about': [2, 0, 0],\n",
              "             'udacity': [4, 38, 21],\n",
              "             'wwwudacitycomcoursemachinelearningengineernanodegree': [2, 0, 0],\n",
              "             'nd009t': [2, 0, 0],\n",
              "             'edx': [2, 8, 21],\n",
              "             'wwwedxorglearnmachinelearning': [2, 0, 0],\n",
              "             'udemy': [2, 11, 122],\n",
              "             'wwwudemycomtopicmachinelearning': [2, 0, 0],\n",
              "             'researchfbcomfacebookaiacademy': [2, 0, 0],\n",
              "             'sure': [366, 2061, 2206],\n",
              "             'understand': [286, 1610, 2003],\n",
              "             'one': [1011, 6238, 6555],\n",
              "             's': [3415, 18073, 15189],\n",
              "             'really': [704, 3959, 4906],\n",
              "             'big': [194, 1259, 1503],\n",
              "             'list': [85, 514, 642],\n",
              "             'mediumfreecodecamporgeverysinglemachinelearningcourseontheinternetrankedbyyourreviews3c4a7b8026c0': [2,\n",
              "              0,\n",
              "              0],\n",
              "             'x200b': [85, 515, 502],\n",
              "             'idea': [306, 2180, 1404],\n",
              "             'modeling': [15, 184, 555],\n",
              "             'bayesian': [5, 155, 216],\n",
              "             'algorithm': [240, 1507, 966],\n",
              "             'different': [384, 2153, 2142],\n",
              "             'generative': [15, 197, 18],\n",
              "             'model': [647, 5883, 5061],\n",
              "             'learn': [249, 1313, 2453],\n",
              "             'joint': [5, 30, 13],\n",
              "             'distribution': [19, 353, 387],\n",
              "             'random': [77, 609, 572],\n",
              "             'variablesfeatures': [0, 0, 1],\n",
              "             'p': [15, 300, 312],\n",
              "             'x': [42, 614, 601],\n",
              "             'whereas': [17, 137, 102],\n",
              "             'general': [159, 962, 813],\n",
              "             'regression': [16, 265, 932],\n",
              "             'svm': [0, 39, 44],\n",
              "             'etc': [189, 1416, 2061],\n",
              "             'conditional': [5, 34, 21],\n",
              "             'bns': [0, 0, 4],\n",
              "             'answer': [205, 872, 1597],\n",
              "             'inferenceprediction': [0, 0, 1],\n",
              "             'question': [328, 1880, 3353],\n",
              "             'instead': [155, 939, 966],\n",
              "             'limited': [94, 309, 224],\n",
              "             'predicting': [8, 95, 107],\n",
              "             'also': [706, 4654, 4926],\n",
              "             'able': [319, 1413, 1514],\n",
              "             'handle': [46, 207, 327],\n",
              "             'missing': [34, 286, 316],\n",
              "             'data': [606, 4438, 22186],\n",
              "             'much': [595, 3802, 4315],\n",
              "             'simply': [107, 659, 530],\n",
              "             'marginalize': [0, 1, 3],\n",
              "             'variable': [34, 257, 616],\n",
              "             'task': [177, 840, 880],\n",
              "             'quite': [123, 984, 810],\n",
              "             'popular': [51, 237, 208],\n",
              "             'causal': [9, 66, 159],\n",
              "             'inference': [17, 343, 273],\n",
              "             'july': [6, 18, 14],\n",
              "             '2021': [16, 54, 46],\n",
              "             'early': [55, 307, 312],\n",
              "             'part': [251, 1622, 1810],\n",
              "             '2020': [21, 104, 91],\n",
              "             'test': [194, 795, 1313],\n",
              "             'unreliable': [3, 17, 6],\n",
              "             'expensive': [44, 222, 201],\n",
              "             'scarce': [1, 14, 5],\n",
              "             'developing': [36, 172, 164],\n",
              "             'country': [104, 435, 366],\n",
              "             'still': [519, 2732, 2422],\n",
              "             'supply': [12, 57, 155],\n",
              "             'amazing': [132, 474, 319],\n",
              "             'great': [291, 1797, 2074],\n",
              "             'job': [220, 1456, 8289],\n",
              "             'getting': [179, 1127, 1811],\n",
              "             'ml': [156, 3419, 2467],\n",
              "             'sciencestats': [0, 1, 1],\n",
              "             'analysis': [46, 409, 1724],\n",
              "             'purpose': [71, 383, 275],\n",
              "             'recommendation': [10, 239, 214],\n",
              "             'thing': [911, 4386, 5136],\n",
              "             'like': [1686, 9171, 10101],\n",
              "             'math': [71, 777, 1612],\n",
              "             'somewhat': [18, 212, 177],\n",
              "             'beginner': [19, 141, 168],\n",
              "             'level': [233, 1193, 2009],\n",
              "             'stuff': [173, 1103, 2068],\n",
              "             'thanks': [270, 1807, 1401],\n",
              "             'forgetting': [4, 41, 31],\n",
              "             'even': [830, 4353, 4391],\n",
              "             've': [343, 2305, 3388],\n",
              "             'sampled': [0, 28, 6],\n",
              "             'imagine': [130, 577, 407],\n",
              "             'pretty': [292, 1603, 1921],\n",
              "             'difficult': [92, 479, 507],\n",
              "             'determine': [26, 114, 118],\n",
              "             'account': [59, 337, 265],\n",
              "             'bot': [163, 951, 259],\n",
              "             'smart': [76, 266, 319],\n",
              "             'stupid': [59, 236, 247],\n",
              "             'people': [1087, 7081, 8437],\n",
              "             'arxivorgabs191110500': [0, 2, 0],\n",
              "             'found': [94, 820, 784],\n",
              "             'githubcomcausalinferencezerotoallcausality4ml': [0, 1, 0],\n",
              "             'paper': [241, 5271, 629],\n",
              "             'implementation': [33, 432, 194],\n",
              "             'wwwcatalyzexcompaperarxiv191110500code': [0, 1, 0],\n",
              "             'opt': [10, 67, 62],\n",
              "             'receiving': [3, 47, 22],\n",
              "             'dm': [9, 76, 153],\n",
              "             '’': [1332, 6557, 18081],\n",
              "             'fuzzy': [4, 32, 17],\n",
              "             'line': [105, 655, 785],\n",
              "             'hell': [43, 184, 295],\n",
              "             'include': [24, 247, 233],\n",
              "             'logistic': [5, 104, 223],\n",
              "             '“': [244, 1141, 2440],\n",
              "             'trained': [170, 690, 187],\n",
              "             'adam': [6, 81, 14],\n",
              "             '”': [238, 1143, 2386],\n",
              "             'conflating': [2, 10, 8],\n",
              "             'criminality': [1, 54, 0],\n",
              "             'convicted': [2, 10, 6],\n",
              "             'crime': [19, 136, 61],\n",
              "             'ridiculous': [26, 135, 136],\n",
              "             'good': [711, 4214, 5527],\n",
              "             'material': [46, 304, 248],\n",
              "             'eg': [79, 902, 541],\n",
              "             'book': [123, 870, 949],\n",
              "             'handon': [0, 1, 1],\n",
              "             'geron': [0, 3, 5],\n",
              "             'aurelien': [0, 1, 2],\n",
              "             'something': [579, 3087, 3263],\n",
              "             'ever': [162, 706, 867],\n",
              "             'personally': [45, 394, 481],\n",
              "             'witnessed': [0, 14, 10],\n",
              "             'either': [134, 836, 1011],\n",
              "             'least': [196, 1165, 1342],\n",
              "             'beyond': [79, 283, 313],\n",
              "             'cringy': [0, 6, 3],\n",
              "             'comment': [218, 1464, 1167],\n",
              "             'without': [285, 1701, 1576],\n",
              "             'subject': [59, 314, 271],\n",
              "             'around': [199, 1142, 1282],\n",
              "             'talking': [139, 646, 689],\n",
              "             'female': [22, 66, 61],\n",
              "             'friend': [61, 326, 482],\n",
              "             'colleague': [7, 158, 265],\n",
              "             'made': [265, 1391, 1184],\n",
              "             'realize': [53, 252, 329],\n",
              "             'everywhere': [24, 91, 113],\n",
              "             'think': [1061, 6428, 6167],\n",
              "             'colleaguefriend': [0, 1, 0],\n",
              "             'way': [716, 4039, 4270],\n",
              "             'likely': [170, 857, 860],\n",
              "             'story': [84, 377, 384],\n",
              "             'sickos': [0, 2, 0],\n",
              "             'weirdo': [1, 3, 9],\n",
              "             'normal': [34, 276, 325],\n",
              "             'time': [726, 4681, 6938],\n",
              "             'often': [97, 853, 1281],\n",
              "             'realizing': [5, 39, 58],\n",
              "             're': [625, 3522, 4778],\n",
              "             'wrong': [186, 1006, 1111],\n",
              "             'surprised': [37, 289, 246],\n",
              "             'academia': [18, 441, 316],\n",
              "             'industry': [64, 687, 1514],\n",
              "             'anything': [275, 1392, 1553],\n",
              "             'd': [247, 1720, 6159],\n",
              "             'expect': [58, 502, 668],\n",
              "             'oh': [104, 507, 605],\n",
              "             'bad': [196, 1174, 1370],\n",
              "             'assumed': [8, 61, 81],\n",
              "             'lecture': [10, 197, 70],\n",
              "             'depends': [37, 280, 558],\n",
              "             'motivated': [3, 75, 65],\n",
              "             'enough': [274, 1543, 1860],\n",
              "             'order': [111, 535, 436],\n",
              "             'willing': [31, 199, 330],\n",
              "             'find': [263, 1780, 2378],\n",
              "             'entrance': [1, 6, 4],\n",
              "             'someone': [258, 1795, 2919],\n",
              "             'gain': [35, 217, 200],\n",
              "             'access': [87, 497, 361],\n",
              "             'experiment': [51, 569, 262],\n",
              "             'dalle': [55, 87, 2],\n",
              "             'true': [200, 985, 1037],\n",
              "             'gps': [2, 21, 10],\n",
              "             'almost': [116, 670, 835],\n",
              "             'exclusively': [4, 47, 58],\n",
              "             'powerful': [65, 214, 123],\n",
              "             'efficient': [38, 245, 194],\n",
              "             'tried': [66, 558, 379],\n",
              "             'nns': [4, 122, 48],\n",
              "             'ca': [319, 1562, 1496],\n",
              "             'afford': [16, 82, 113],\n",
              "             'required': [47, 248, 433],\n",
              "             'training': [301, 1991, 645],\n",
              "             'case': [227, 1949, 1825],\n",
              "             'capable': [65, 193, 155],\n",
              "             'allowing': [19, 89, 37],\n",
              "             'u': [492, 1780, 1756],\n",
              "             'encode': [9, 49, 19],\n",
              "             'priori': [0, 19, 10],\n",
              "             'knowledge': [144, 797, 1377],\n",
              "             'far': [223, 1143, 926],\n",
              "             'le': [193, 1197, 1387],\n",
              "             'although': [61, 418, 390],\n",
              "             'vague': [13, 71, 94],\n",
              "             'might': [337, 2079, 1896],\n",
              "             'cause': [58, 350, 300],\n",
              "             'problem': [421, 3320, 3558],\n",
              "             'ianal': [0, 9, 1],\n",
              "             'feeling': [58, 243, 294],\n",
              "             'ecj': [0, 1, 0],\n",
              "             'example': [278, 2086, 1468],\n",
              "             'buy': [51, 196, 267],\n",
              "             'argument': [131, 580, 246],\n",
              "             'push': [36, 194, 231],\n",
              "             'came': [39, 419, 413],\n",
              "             'shove': [1, 11, 10],\n",
              "             'wow': [66, 306, 258],\n",
              "             'hope': [126, 629, 560],\n",
              "             'follow': [55, 350, 357],\n",
              "             'python': [88, 631, 3550],\n",
              "             'tensorflow': [14, 618, 128],\n",
              "             'baby': [22, 103, 78],\n",
              "             'paid': [32, 267, 654],\n",
              "             'inherent': [16, 40, 28],\n",
              "             'interest': [55, 397, 391],\n",
              "             'fuck': [48, 307, 285],\n",
              "             'rather': [129, 944, 885],\n",
              "             'write': [120, 661, 1019],\n",
              "             'left': [66, 376, 378],\n",
              "             'hand': [133, 623, 622],\n",
              "             'play': [137, 884, 358],\n",
              "             'banjo': [0, 1, 2],\n",
              "             'speak': [44, 180, 236],\n",
              "             'another': [207, 1195, 1215],\n",
              "             'language': [287, 1136, 1261],\n",
              "             'pore': [0, 1, 1],\n",
              "             'date': [14, 134, 251],\n",
              "             'literature': [16, 174, 50],\n",
              "             'research': [252, 3305, 1363],\n",
              "             'trite': [0, 0, 1],\n",
              "             'anyways': [13, 91, 131],\n",
              "             'whatever': [87, 513, 656],\n",
              "             'platform': [50, 230, 301],\n",
              "             'tech': [137, 604, 1271],\n",
              "             'engage': [15, 94, 50],\n",
              "             'detail': [70, 524, 432],\n",
              "             'appropriate': [24, 140, 189],\n",
              "             'process': [178, 993, 1523],\n",
              "             'change': [180, 1161, 1088],\n",
              "             'engaging': [9, 51, 40],\n",
              "             'debate': [40, 126, 61],\n",
              "             'freeze': [2, 17, 23],\n",
              "             'drawing': [14, 83, 26],\n",
              "             'wasting': [4, 27, 80],\n",
              "             'everyone': [151, 875, 1143],\n",
              "             'interestingly': [8, 28, 13],\n",
              "             'end': [159, 1092, 1493],\n",
              "             'correlation': [13, 83, 139],\n",
              "             'certain': [92, 553, 523],\n",
              "             'pose': [14, 106, 17],\n",
              "             'gender': [57, 188, 77],\n",
              "             'type': [132, 724, 1149],\n",
              "             'commonly': [7, 42, 36],\n",
              "             'associated': [19, 96, 66],\n",
              "             'changing': [39, 164, 210],\n",
              "             'source': [167, 1119, 652],\n",
              "             'person': [253, 1059, 1472],\n",
              "             'look': [465, 2549, 2265],\n",
              "             'feminine': [1, 9, 5],\n",
              "             'vice': [5, 32, 34],\n",
              "             'versa': [3, 29, 30],\n",
              "             'revenue': [22, 78, 158],\n",
              "             'charge': [15, 86, 112],\n",
              "             'api': [53, 384, 193],\n",
              "             'insightful': [3, 35, 37],\n",
              "             'go': [432, 2353, 2976],\n",
              "             'accounting': [4, 21, 104],\n",
              "             'structural': [3, 47, 28],\n",
              "             'issue': [174, 1377, 1132],\n",
              "             'maybe': [295, 1621, 1775],\n",
              "             'inside': [43, 159, 128],\n",
              "             'core': [29, 271, 255],\n",
              "             'depending': [33, 149, 266],\n",
              "             'relevant': [44, 383, 491],\n",
              "             'timestamp': [2, 9, 7],\n",
              "             'set': [178, 1252, 1369],\n",
              "             'right': [487, 2307, 2420],\n",
              "             'expectation': [19, 137, 382],\n",
              "             'nordic': [0, 1, 3],\n",
              "             'glass': [22, 49, 23],\n",
              "             'ceiling': [2, 15, 20],\n",
              "             'show': [167, 877, 867],\n",
              "             'equity': [2, 25, 70],\n",
              "             'suffers': [3, 18, 18],\n",
              "             'government': [99, 405, 268],\n",
              "             'overreach': [0, 2, 3],\n",
              "             'rise': [17, 47, 61],\n",
              "             'welfare': [13, 21, 6],\n",
              "             'state': [152, 883, 451],\n",
              "             'doubleedged': [0, 2, 3],\n",
              "             'sword': [3, 24, 10],\n",
              "             'woman': [52, 386, 291],\n",
              "             'professional': [29, 230, 468],\n",
              "             'progress': [64, 381, 144],\n",
              "             'reasoncom20180308nordic': [0, 0, 1],\n",
              "             'let': [228, 1040, 1180],\n",
              "             'guess': [140, 837, 770],\n",
              "             'toptal': [0, 2, 0],\n",
              "             'deep': [171, 1582, 645],\n",
              "             'need': [659, 3359, 5564],\n",
              "             'took': [69, 431, 712],\n",
              "             'intro': [11, 68, 123],\n",
              "             'ai': [2697, 3985, 984],\n",
              "             'class': [84, 638, 1068],\n",
              "             'hardly': [13, 104, 60],\n",
              "             'touched': [4, 28, 46],\n",
              "             'upon': [43, 204, 136],\n",
              "             'covlutional': [0, 1, 0],\n",
              "             'layer': [84, 635, 136],\n",
              "             'idk': [14, 80, 164],\n",
              "             'hence': [17, 137, 150],\n",
              "             'truly': [57, 239, 199],\n",
              "             'alive': [29, 78, 29],\n",
              "             'cool': [226, 902, 604],\n",
              "             'sharing': [51, 380, 381],\n",
              "             'exactly': [159, 810, 868],\n",
              "             'role': [35, 309, 3039],\n",
              "             'many': [364, 2566, 2810],\n",
              "             'position': [61, 582, 1696],\n",
              "             'hiring': [10, 177, 1175],\n",
              "             'explain': [72, 415, 683],\n",
              "             'stakeholder': [1, 16, 350],\n",
              "             'client': [14, 77, 525],\n",
              "             'totally': [55, 329, 449],\n",
              "             'reasonable': [25, 308, 281],\n",
              "             'outside': [67, 328, 492],\n",
              "             'group': [85, 697, 596],\n",
              "             'ask': [124, 555, 1560],\n",
              "             'know': [737, 4083, 6232],\n",
              "             'going': [433, 2079, 2633],\n",
              "             'respond': [25, 123, 120],\n",
              "             'cheat': [11, 41, 61],\n",
              "             'create': [225, 653, 717],\n",
              "             'studying': [14, 115, 213],\n",
              "             'bird': [28, 68, 13],\n",
              "             'get': [891, 5128, 8335],\n",
              "             'number': [159, 1157, 1210],\n",
              "             'make': [860, 4708, 5214],\n",
              "             'chart': [10, 22, 391],\n",
              "             'put': [174, 953, 1167],\n",
              "             'internet': [85, 379, 173],\n",
              "             'generates': [19, 64, 49],\n",
              "             'lot': [418, 3132, 4642],\n",
              "             'yes': [298, 1396, 1468],\n",
              "             'first': [353, 2037, 2259],\n",
              "             'step': [97, 720, 643],\n",
              "             'combine': [20, 75, 50],\n",
              "             'generalize': [5, 95, 28],\n",
              "             'new': [395, 2300, 2337],\n",
              "             'described': [26, 188, 131],\n",
              "             'next': [151, 812, 822],\n",
              "             'junior': [2, 58, 388],\n",
              "             'requires': [45, 289, 378],\n",
              "             'internship': [4, 65, 463],\n",
              "             'publication': [14, 327, 109],\n",
              "             '5': [99, 595, 968],\n",
              "             'year': [480, 2488, 4353],\n",
              "             'experience': [255, 987, 3765],\n",
              "             'related': [49, 485, 600],\n",
              "             'questioning': [2, 27, 31],\n",
              "             'memorysaving': [0, 2, 0],\n",
              "             'gradient': [21, 343, 142],\n",
              "             'currently': [85, 462, 590],\n",
              "             'implemented': [20, 165, 113],\n",
              "             'anywhere': [35, 163, 182],\n",
              "             'pytorch': [7, 876, 97],\n",
              "             'presume': [2, 20, 11],\n",
              "             'referring': [16, 133, 101],\n",
              "             'sublinear': [0, 5, 0],\n",
              "             'memory': [80, 472, 208],\n",
              "             'usage': [35, 145, 90],\n",
              "             'deleted': [349, 1881, 1695],\n",
              "             'kind': [252, 1397, 1486],\n",
              "             'deal': [67, 372, 441],\n",
              "             'shit': [119, 500, 853],\n",
              "             'sale': [15, 70, 376],\n",
              "             'rep': [2, 9, 35],\n",
              "             'regard': [20, 111, 84],\n",
              "             'marketing': [28, 186, 467],\n",
              "             'team': [99, 1002, 2642],\n",
              "             'de': [7, 63, 283],\n",
              "             'happens': [73, 376, 359],\n",
              "             'society': [107, 284, 129],\n",
              "             'boomer': [3, 15, 32],\n",
              "             'fail': [30, 143, 283],\n",
              "             'upwards': [2, 5, 24],\n",
              "             'supposed': [41, 184, 214],\n",
              "             'lung': [4, 21, 7],\n",
              "             'scientist': [58, 511, 4834],\n",
              "             'equivalent': [22, 209, 169],\n",
              "             '1020': [2, 25, 26],\n",
              "             'analyst': [5, 32, 1975],\n",
              "             'goodfellow': [2, 106, 6],\n",
              "             'thousand': [50, 269, 205],\n",
              "             'leverage': [5, 55, 120],\n",
              "             'skill': [76, 407, 2513],\n",
              "             'wisely': [0, 4, 9],\n",
              "             'startup': [16, 180, 460],\n",
              "             'employing': [3, 10, 19],\n",
              "             'winston': [0, 4, 1],\n",
              "             'churchill': [0, 4, 3],\n",
              "             'village': [0, 20, 6],\n",
              "             'mayor': [1, 5, 2],\n",
              "             'matrix': [32, 292, 231],\n",
              "             'multiplication': [6, 81, 28],\n",
              "             'sum': [5, 98, 103],\n",
              "             'written': [63, 363, 371],\n",
              "             'vector': [26, 302, 113],\n",
              "             'product': [107, 681, 1094],\n",
              "             'relates': [6, 32, 32],\n",
              "             'op': [65, 434, 931],\n",
              "             'gebru': [1, 138, 2],\n",
              "             'call': [134, 628, 872],\n",
              "             'lecun': [7, 168, 5],\n",
              "             'white': [73, 317, 139],\n",
              "             'supremacist': [2, 31, 1],\n",
              "             'actually': [416, 2395, 2560],\n",
              "             'occur': [16, 49, 22],\n",
              "             'recall': [18, 78, 124],\n",
              "             'oo': [1, 11, 21],\n",
              "             'agree': [160, 1099, 1215],\n",
              "             'obviously': [57, 446, 399],\n",
              "             'unappealing': [0, 2, 3],\n",
              "             'finish': [9, 234, 154],\n",
              "             'work': [787, 6498, 9337],\n",
              "             'fire': [35, 132, 143],\n",
              "             'personal': [85, 361, 489],\n",
              "             'pc': [19, 73, 55],\n",
              "             'clear': [93, 621, 477],\n",
              "             'benefit': [91, 340, 431],\n",
              "             'working': [180, 1410, 2462],\n",
              "             'environment': [92, 397, 528],\n",
              "             'wish': [42, 248, 319],\n",
              "             'develop': [59, 267, 305],\n",
              "             'youtube': [71, 385, 209],\n",
              "             'ad': [43, 212, 228],\n",
              "             'block': [21, 172, 89],\n",
              "             'give': [283, 1432, 1800],\n",
              "             'overall': [27, 202, 222],\n",
              "             'possible': [204, 1141, 818],\n",
              "             'reason': [181, 1231, 1167],\n",
              "             'interesting': [221, 1290, 882],\n",
              "             'letting': [13, 78, 67],\n",
              "             'shame': [9, 69, 79],\n",
              "             'take': [383, 2200, 3133],\n",
              "             '1': [185, 1706, 1686],\n",
              "             'page': [79, 475, 285],\n",
              "             'submission': [6, 143, 41],\n",
              "             'publish': [12, 421, 91],\n",
              "             'proceeding': [3, 20, 3],\n",
              "             'though': [292, 1716, 1891],\n",
              "             'post': [208, 1399, 1714],\n",
              "             'helped': [21, 108, 270],\n",
              "             'deciding': [7, 63, 58],\n",
              "             'keep': [198, 925, 1155],\n",
              "             'following': [56, 264, 217],\n",
              "             'never': [246, 1401, 2027],\n",
              "             'complete': [46, 236, 328],\n",
              "             'due': [72, 506, 472],\n",
              "             'explanation': [28, 264, 194],\n",
              "             'refund': [1, 49, 4],\n",
              "             'thought': [264, 1115, 1062],\n",
              "             'mentioned': [43, 392, 435],\n",
              "             'causation': [1, 12, 29],\n",
              "             'determined': [13, 34, 27],\n",
              "             'observational': [0, 3, 26],\n",
              "             'well': [519, 3011, 3333],\n",
              "             'style': [66, 399, 192],\n",
              "             'transfer': [28, 202, 84],\n",
              "             'typically': [18, 144, 300],\n",
              "             'gan': [32, 210, 4],\n",
              "             'since': [210, 1406, 1294],\n",
              "             'miss': [20, 98, 138],\n",
              "             'point': [461, 2818, 2420],\n",
              "             'incredibly': [41, 202, 204],\n",
              "             'hard': [153, 1177, 1493],\n",
              "             'gbm': [0, 2, 19],\n",
              "             'mean': [454, 2349, 2683],\n",
              "             'glm': [1, 6, 33],\n",
              "             'senior': [9, 96, 783],\n",
              "             'management': [13, 171, 1012],\n",
              "             'wanted': [61, 391, 621],\n",
              "             'incentivize': [2, 9, 5],\n",
              "             'bank': [17, 104, 257],\n",
              "             'member': [7, 169, 166],\n",
              "             'debit': [0, 0, 2],\n",
              "             'card': [22, 197, 98],\n",
              "             'instituted': [0, 0, 2],\n",
              "             'program': [133, 632, 1196],\n",
              "             'overdrafted': [0, 0, 1],\n",
              "             'changed': [20, 243, 212],\n",
              "             'fee': [6, 36, 67],\n",
              "             'day': [227, 1344, 2565],\n",
              "             'deposited': [0, 1, 1],\n",
              "             'deposit': [0, 4, 8],\n",
              "             'higher': [71, 410, 578],\n",
              "             '18': [9, 56, 42],\n",
              "             'month': [79, 633, 1334],\n",
              "             'asked': [82, 313, 809],\n",
              "             'result': [215, 2058, 1174],\n",
              "             'income': [34, 54, 142],\n",
              "             'become': [116, 592, 686],\n",
              "             'essentially': [38, 233, 238],\n",
              "             '0': [49, 283, 326],\n",
              "             'performing': [5, 62, 73],\n",
              "             'week': [66, 619, 1164],\n",
              "             'finally': [46, 246, 181],\n",
              "             'discovered': [19, 98, 60],\n",
              "             'click': [34, 201, 240],\n",
              "             'whenever': [12, 95, 111],\n",
              "             'went': [32, 363, 568],\n",
              "             'branch': [8, 78, 77],\n",
              "             'online': [80, 404, 514],\n",
              "             'banking': [8, 24, 85],\n",
              "             'skip': [9, 77, 73],\n",
              "             'disable': [3, 17, 9],\n",
              "             'charged': [2, 22, 13],\n",
              "             'overdraft': [0, 0, 2],\n",
              "             'entry': [11, 100, 578],\n",
              "             'want': [505, 2916, 4320],\n",
              "             'pay': [89, 464, 1424],\n",
              "             'ciao': [0, 0, 1],\n",
              "             'hey': [64, 300, 406],\n",
              "             'github': [62, 497, 307],\n",
              "             'raw': [22, 143, 103],\n",
              "             'download': [25, 153, 73],\n",
              "             'copy': [46, 319, 188],\n",
              "             'pdreadcsv': [0, 2, 5],\n",
              "             'thats': [35, 131, 239],\n",
              "             'rawgithubusercontentcomramikrispincoronaviruscsvmastercoronavirusdatasetcsv': [0,\n",
              "              0,\n",
              "              2],\n",
              "             'experienced': [20, 80, 310],\n",
              "             'guy': [116, 845, 999],\n",
              "             'please': [114, 698, 565],\n",
              "             'hundred': [43, 229, 214],\n",
              "             'diploma': [0, 12, 30],\n",
              "             'excited': [28, 153, 79],\n",
              "             'add': [78, 764, 753],\n",
              "             'solved': [35, 213, 147],\n",
              "             'hit': [37, 212, 296],\n",
              "             'close': [98, 411, 296],\n",
              "             'reality': [109, 285, 348],\n",
              "             'last': [136, 819, 962],\n",
              "             'advancedusefulecc': [0, 0, 1],\n",
              "             'ignorereject': [0, 0, 1],\n",
              "             'feel': [203, 1443, 2071],\n",
              "             'hassle': [3, 16, 15],\n",
              "             'compared': [49, 323, 317],\n",
              "             'bonus': [11, 42, 444],\n",
              "             'implementing': [11, 114, 108],\n",
              "             'incredible': [36, 118, 62],\n",
              "             'dream': [53, 130, 112],\n",
              "             'nba': [3, 8, 27],\n",
              "             'sweet': [18, 41, 51],\n",
              "             'realized': [10, 113, 164],\n",
              "             'used': [387, 2212, 2114],\n",
              "             'watch': [78, 294, 173],\n",
              "             'cubing': [0, 4, 0],\n",
              "             'video': [388, 1594, 366],\n",
              "             'ago': [122, 686, 684],\n",
              "             'happy': [39, 343, 481],\n",
              "             'wait': [80, 326, 271],\n",
              "             'tesla': [38, 198, 15],\n",
              "             'future': [195, 813, 617],\n",
              "             'assignment': [15, 70, 259],\n",
              "             'employed': [3, 31, 90],\n",
              "             'company': [263, 2022, 6826],\n",
              "             'fact': [148, 1006, 738],\n",
              "             'single': [130, 755, 552],\n",
              "             'best': [223, 1371, 1840],\n",
              "             'ass': [5, 43, 91],\n",
              "             'candidate': [15, 157, 1319],\n",
              "             'long': [210, 1211, 1306],\n",
              "             'asking': [71, 352, 772],\n",
              "             'happiest': [2, 2, 2],\n",
              "             'solve': [88, 518, 673],\n",
              "             'puzzle': [5, 22, 34],\n",
              "             'little': [169, 871, 1057],\n",
              "             'bearing': [0, 11, 14],\n",
              "             'whether': [114, 696, 546],\n",
              "             '8': [21, 194, 269],\n",
              "             'hour': [84, 623, 1509],\n",
              "             'opinion': [93, 559, 488],\n",
              "             'yeah': [201, 991, 1459],\n",
              "             'study': [55, 431, 576],\n",
              "             'impressive': [92, 327, 106],\n",
              "             'accolade': [0, 4, 3],\n",
              "             'context': [106, 546, 402],\n",
              "             'life': [204, 909, 955],\n",
              "             'defined': [21, 121, 146],\n",
              "             'undergrad': [5, 166, 436],\n",
              "             'major': [63, 320, 508],\n",
              "             'gpa': [0, 17, 24],\n",
              "             'adult': [19, 64, 42],\n",
              "             'grow': [20, 88, 183],\n",
              "             'ba': [2, 16, 75],\n",
              "             'accomplishment': [12, 46, 33],\n",
              "             'embellishment': [0, 0, 3],\n",
              "             'fluff': [0, 21, 25],\n",
              "             'probably': [309, 1740, 2052],\n",
              "             'linkedin': [1, 81, 558],\n",
              "             'hold': [49, 232, 184],\n",
              "             'speaks': [4, 23, 38],\n",
              "             'buzzword': [5, 37, 132],\n",
              "             'actual': [126, 555, 776],\n",
              "             'substance': [5, 53, 21],\n",
              "             'credential': [0, 31, 63],\n",
              "             'name': [94, 773, 716],\n",
              "             'seems': [268, 1757, 1105],\n",
              "             'bit': [178, 1164, 1264],\n",
              "             'unfair': [9, 99, 41],\n",
              "             'provided': [24, 176, 170],\n",
              "             'output': [133, 1014, 356],\n",
              "             'bar': [23, 116, 267],\n",
              "             'said': [256, 1427, 1572],\n",
              "             'daughter': [4, 14, 9],\n",
              "             'turned': [22, 130, 166],\n",
              "             'walked': [3, 30, 27],\n",
              "             'lillian': [0, 2, 0],\n",
              "             'looking': [143, 914, 1623],\n",
              "             'eye': [104, 312, 189],\n",
              "             'moment': [63, 265, 220],\n",
              "             'looked': [26, 260, 199],\n",
              "             'back': [224, 1136, 1382],\n",
              "             'door': [14, 114, 187],\n",
              "             'locked': [5, 41, 18],\n",
              "             'quickly': [54, 300, 415],\n",
              "             'place': [137, 911, 1164],\n",
              "             'walk': [19, 112, 158],\n",
              "             'damn': [45, 170, 240],\n",
              "             'scary': [25, 67, 41],\n",
              "             'sigh': [5, 15, 15],\n",
              "             'girl': [18, 111, 36],\n",
              "             'face': [162, 636, 172],\n",
              "             'taking': [85, 478, 666],\n",
              "             'care': [110, 664, 873],\n",
              "             'two': [205, 1266, 1329],\n",
              "             'shoulder': [1, 32, 26],\n",
              "             'coming': [61, 410, 472],\n",
              "             'home': [40, 226, 512],\n",
              "             'yet': [195, 844, 624],\n",
              "             'added': [38, 225, 147],\n",
              "             'shrug': [1, 14, 16],\n",
              "             'blinked': [0, 1, 0],\n",
              "             'sighed': [0, 2, 0],\n",
              "             'wo': [141, 573, 589],\n",
              "             'bringing': [15, 69, 66],\n",
              "             'along': [66, 291, 333],\n",
              "             'brother': [8, 63, 39],\n",
              "             'tonight': [5, 7, 10],\n",
              "             'grin': [0, 2, 3],\n",
              "             'mixture': [1, 29, 12],\n",
              "             'concern': [33, 291, 159],\n",
              "             'awe': [1, 5, 4],\n",
              "             'nodded': [0, 4, 2],\n",
              "             'giving': [49, 299, 309],\n",
              "             'kiss': [0, 13, 6],\n",
              "             'pulled': [4, 38, 70],\n",
              "             'together': [76, 370, 415],\n",
              "             'smile': [7, 32, 23],\n",
              "             'faded': [0, 2, 2],\n",
              "             'hugged': [0, 2, 0],\n",
              "             'opened': [2, 41, 46],\n",
              "             'slightly': [26, 193, 162],\n",
              "             'young': [15, 142, 110],\n",
              "             'blond': [2, 5, 0],\n",
              "             'man': [128, 486, 484],\n",
              "             'sitting': [13, 53, 63],\n",
              "             'alone': [42, 233, 249],\n",
              "             'girlfriend': [3, 19, 18],\n",
              "             'sat': [2, 38, 33],\n",
              "             'across': [49, 372, 421],\n",
              "             'stared': [1, 6, 0],\n",
              "             'fascination': [0, 6, 0],\n",
              "             'knew': [33, 189, 322],\n",
              "             'small': [115, 765, 691],\n",
              "             'dating': [4, 16, 13],\n",
              "             'couple': [52, 386, 534],\n",
              "             'replied': [5, 55, 37],\n",
              "             'sad': [34, 149, 115],\n",
              "             'love': [165, 896, 998],\n",
              "             'stern': [0, 3, 1],\n",
              "             'thinking': [165, 621, 733],\n",
              "             'worriedly': [0, 1, 0],\n",
              "             'older': [16, 85, 97],\n",
              "             'confusion': [6, 61, 67],\n",
              "             'nice': [126, 809, 723],\n",
              "             'boy': [13, 72, 65],\n",
              "             'beep': [15, 320, 13],\n",
              "             'boop': [11, 313, 11],\n",
              "             'bypassing': [0, 0, 2],\n",
              "             'recruiter': [1, 31, 604],\n",
              "             'tbh': [15, 85, 178],\n",
              "             'impossible': [67, 274, 194],\n",
              "             'hide': [30, 118, 107],\n",
              "             'hire': [27, 219, 902],\n",
              "             'sort': [116, 608, 570],\n",
              "             'contractual': [0, 3, 3],\n",
              "             'period': [27, 123, 150],\n",
              "             'anyway': [65, 327, 374],\n",
              "             'sweat': [3, 13, 24],\n",
              "             'regardless': [30, 213, 203],\n",
              "             'party': [34, 216, 134],\n",
              "             'contract': [26, 76, 163],\n",
              "             'rest': [49, 276, 362],\n",
              "             'suggest': [30, 231, 261],\n",
              "             'picking': [12, 67, 86],\n",
              "             'sticking': [1, 23, 36],\n",
              "             'hurt': [16, 108, 121],\n",
              "             'talk': [86, 656, 689],\n",
              "             'thank': [123, 874, 916],\n",
              "             'interview': [21, 279, 2748],\n",
              "             '12': [14, 135, 213],\n",
              "             'objectively': [7, 50, 22],\n",
              "             'existing': [49, 286, 189],\n",
              "             'pcr': [0, 3, 3],\n",
              "             'based': [209, 1165, 1132],\n",
              "             'worked': [51, 509, 1086],\n",
              "             'correctly': [31, 194, 174],\n",
              "             'involved': [35, 256, 292],\n",
              "             'accurate': [75, 270, 224],\n",
              "             'agreed': [39, 163, 208],\n",
              "             'sometimes': [62, 501, 946],\n",
              "             'decrease': [7, 41, 27],\n",
              "             'credibility': [4, 29, 42],\n",
              "             'kaust': [0, 4, 0],\n",
              "             'infrastructure': [12, 113, 263],\n",
              "             'mother': [10, 64, 26],\n",
              "             'saint': [1, 13, 2],\n",
              "             'probability': [15, 340, 472],\n",
              "             'check': [126, 596, 680],\n",
              "             '25': [24, 94, 166],\n",
              "             'prolly': [1, 3, 10],\n",
              "             'bomb': [6, 50, 29],\n",
              "             'real': [314, 1442, 1396],\n",
              "             'world': [388, 1446, 1055],\n",
              "             'benifit': [1, 1, 0],\n",
              "             'stoner': [2, 0, 0],\n",
              "             'agreenthat': [0, 0, 1],\n",
              "             'roi': [0, 12, 56],\n",
              "             'necessarily': [50, 293, 267],\n",
              "             'da': [3, 27, 202],\n",
              "             '85': [1, 17, 33],\n",
              "             'aiml': [17, 91, 68],\n",
              "             'project': [212, 1484, 2986],\n",
              "             'bring': [44, 209, 288],\n",
              "             'wasted': [4, 60, 78],\n",
              "             'feature': [72, 811, 961],\n",
              "             'user': [98, 625, 698],\n",
              "             'subreddit': [32, 253, 228],\n",
              "             'content': [145, 709, 426],\n",
              "             'subreddits': [11, 51, 37],\n",
              "             'signal': [43, 180, 125],\n",
              "             'arguing': [17, 105, 76],\n",
              "             'ethic': [71, 383, 68],\n",
              "             'unethicalinvalid': [0, 1, 0],\n",
              "             'strong': [71, 338, 395],\n",
              "             'evidence': [33, 316, 211],\n",
              "             'biased': [25, 217, 130],\n",
              "             'researcher': [86, 1219, 186],\n",
              "             'philosophical': [25, 57, 18],\n",
              "             'subjectivity': [3, 8, 3],\n",
              "             'epistemology': [1, 2, 1],\n",
              "             'sensory': [4, 18, 3],\n",
              "             'observation': [16, 132, 107],\n",
              "             'human': [1085, 2889, 455],\n",
              "             'valid': [22, 161, 142],\n",
              "             'empirical': [7, 87, 26],\n",
              "             'whole': [133, 786, 673],\n",
              "             'invalid': [4, 26, 20],\n",
              "             'huge': [84, 600, 600],\n",
              "             'complicated': [40, 194, 236],\n",
              "             'indeed': [44, 280, 189],\n",
              "             'addressing': [3, 34, 13],\n",
              "             'addressed': [7, 68, 43],\n",
              "             'raised': [7, 64, 28],\n",
              "             'argue': [32, 209, 204],\n",
              "             'conclusion': [27, 195, 151],\n",
              "             'oversimplification': [1, 6, 4],\n",
              "             'league': [6, 64, 48],\n",
              "             'term': [171, 874, 975],\n",
              "             'reasoning': [45, 235, 94],\n",
              "             'timeline': [6, 43, 68],\n",
              "             'bootcamps': [0, 3, 76],\n",
              "             'boom': [8, 44, 29],\n",
              "             'center': [24, 94, 65],\n",
              "             'complain': [5, 59, 96],\n",
              "             'fix': [27, 246, 226],\n",
              "             'attitude': [5, 80, 122],\n",
              "             'help': [216, 1283, 1967],\n",
              "             'anyone': [187, 980, 921],\n",
              "             'suggesting': [7, 77, 62],\n",
              "             'contribute': [9, 130, 91],\n",
              "             'solution': [116, 782, 1000],\n",
              "             'integrating': [6, 22, 22],\n",
              "             'making': [226, 1121, 1262],\n",
              "             'pull': [26, 130, 193],\n",
              "             'request': [32, 154, 265],\n",
              "             'sorry': [83, 406, 463],\n",
              "             'fragile': [2, 13, 6],\n",
              "             'ego': [6, 57, 72],\n",
              "             'luckily': [2, 27, 49],\n",
              "             'open': [140, 1087, 610],\n",
              "             'wax': [0, 5, 1],\n",
              "             'poetic': [4, 3, 2],\n",
              "             'updoots': [0, 1, 0],\n",
              "             '3': [144, 991, 1297],\n",
              "             'vindictiveness': [0, 2, 0],\n",
              "             'decision': [100, 513, 837],\n",
              "             'theory': [153, 738, 511],\n",
              "             'according': [33, 206, 103],\n",
              "             'supposedly': [3, 34, 31],\n",
              "             'acting': [10, 74, 39],\n",
              "             'rationally': [1, 12, 3],\n",
              "             'arbitrarily': [4, 35, 19],\n",
              "             'spiteful': [0, 1, 0],\n",
              "             'feed': [34, 171, 118],\n",
              "             'minimum': [20, 194, 192],\n",
              "             'preprocessing': [1, 57, 91],\n",
              "             'inspection': [2, 9, 7],\n",
              "             'score': [26, 259, 191],\n",
              "             'btw': [20, 151, 144],\n",
              "             'leetcode': [3, 37, 272],\n",
              "             'patch': [4, 51, 12],\n",
              "             'built': [63, 339, 437],\n",
              "             'architecture': [45, 525, 160],\n",
              "             'difference': [108, 683, 653],\n",
              "             'quality': [78, 581, 550],\n",
              "             'distance': [33, 114, 64],\n",
              "             'v': [55, 535, 511],\n",
              "             'f2f': [0, 0, 3],\n",
              "             'classroom': [1, 8, 20],\n",
              "             'otherwise': [58, 369, 339],\n",
              "             'identical': [9, 78, 42],\n",
              "             'unpopular': [4, 20, 33],\n",
              "             'highly': [45, 316, 439],\n",
              "             'technical': [47, 306, 1145],\n",
              "             'education': [29, 160, 520],\n",
              "             'scam': [14, 59, 48],\n",
              "             'invented': [18, 112, 43],\n",
              "             'university': [38, 523, 566],\n",
              "             'fleece': [0, 1, 2],\n",
              "             'possibility': [27, 166, 76],\n",
              "             'attending': [1, 19, 22],\n",
              "             'participate': [10, 39, 30],\n",
              "             'lacking': [8, 59, 80],\n",
              "             'academic': [34, 517, 431],\n",
              "             'rigor': [1, 43, 56],\n",
              "             'forfeit': [1, 0, 1],\n",
              "             'magic': [41, 115, 130],\n",
              "             'handed': [2, 15, 43],\n",
              "             'profit': [48, 210, 190],\n",
              "             'school': [61, 532, 1141],\n",
              "             'seek': [17, 62, 62],\n",
              "             'd1': [0, 4, 4],\n",
              "             'football': [3, 11, 28],\n",
              "             'correct': [97, 520, 456],\n",
              "             'plan': [47, 338, 302],\n",
              "             'adding': [34, 201, 171],\n",
              "             'torrent': [0, 22, 1],\n",
              "             'available': [87, 619, 394],\n",
              "             'dont': [30, 230, 370],\n",
              "             'web': [48, 214, 302],\n",
              "             'mature': [5, 38, 97],\n",
              "             'organization': [23, 158, 414],\n",
              "             'advanced': [76, 215, 532],\n",
              "             'analytics': [4, 55, 1285],\n",
              "             'technique': [64, 496, 349],\n",
              "             'insurance': [7, 50, 153],\n",
              "             'retail': [3, 10, 68],\n",
              "             'medium': [81, 426, 501],\n",
              "             '10': [86, 542, 897],\n",
              "             'every': [229, 1298, 1714],\n",
              "             'datagrip': [0, 0, 3],\n",
              "             'ides': [2, 4, 20],\n",
              "             'including': [41, 348, 279],\n",
              "             'pycharm': [0, 28, 132],\n",
              "             'loved': [9, 68, 72],\n",
              "             'dataspell': [0, 0, 4],\n",
              "             'weird': [45, 284, 288],\n",
              "             'browser': [21, 103, 53],\n",
              "             'hang': [4, 30, 56],\n",
              "             '1015': [4, 14, 28],\n",
              "             'minute': [71, 318, 404],\n",
              "             'security': [28, 127, 162],\n",
              "             'app': [66, 232, 200],\n",
              "             'installed': [10, 42, 61],\n",
              "             'unfortunately': [36, 236, 287],\n",
              "             'anymore': [38, 197, 204],\n",
              "             'absolutely': [89, 430, 618],\n",
              "             'metric': [17, 297, 385],\n",
              "             'optimize': [9, 103, 94],\n",
              "             'else': [169, 854, 1047],\n",
              "             'labeled': [15, 93, 68],\n",
              "             'semisupervised': [1, 15, 2],\n",
              "             'unsupervised': [14, 183, 33],\n",
              "             'truth': [24, 239, 223],\n",
              "             'assume': [56, 384, 316],\n",
              "             'okay': [54, 211, 283],\n",
              "             'extra': [37, 166, 273],\n",
              "             'paranoid': [2, 7, 2],\n",
              "             'dumb': [32, 141, 188],\n",
              "             'text': [228, 710, 353],\n",
              "             'editor': [9, 54, 38],\n",
              "             'gedit': [0, 0, 1],\n",
              "             'notepad': [1, 3, 15],\n",
              "             'decide': [31, 210, 190],\n",
              "             'c': [60, 639, 1066],\n",
              "             'mailclient': [0, 0, 1],\n",
              "             'delete': [28, 143, 138],\n",
              "             'away': [112, 609, 613],\n",
              "             'previous': [39, 337, 314],\n",
              "             'mandatory': [5, 34, 29],\n",
              "             'vacation': [2, 13, 94],\n",
              "             'support': [64, 714, 544],\n",
              "             'outweigh': [2, 9, 8],\n",
              "             'pipelining': [0, 3, 19],\n",
              "             'ton': [31, 302, 491],\n",
              "             'larger': [38, 274, 230],\n",
              "             'r': [22, 261, 2801],\n",
              "             'aware': [48, 276, 231],\n",
              "             'unknown': [15, 92, 58],\n",
              "             'background': [43, 444, 1056],\n",
              "             'today': [111, 454, 324],\n",
              "             'information': [238, 1089, 738],\n",
              "             'doublecheck': [0, 1, 2],\n",
              "             ...})"
            ]
          },
          "metadata": {},
          "execution_count": 20
        }
      ]
    },
    {
      "cell_type": "code",
      "source": [
        "word_dict_copy=word_dict.copy()\n",
        "count=0\n",
        "for i, (k,v) in enumerate(word_dict_copy.items()):\n",
        "  if (v[0]<4 and v[1]<4 and v[2]<4):\n",
        "    del(k)\n",
        "    count+=1"
      ],
      "metadata": {
        "id": "pOPXbBb1jw5j"
      },
      "execution_count": 21,
      "outputs": []
    },
    {
      "cell_type": "code",
      "source": [
        "print(f\"Total number of rare words: {count}\")"
      ],
      "metadata": {
        "colab": {
          "base_uri": "https://localhost:8080/"
        },
        "id": "gSFBzdD_zfxL",
        "outputId": "fb022136-3b66-4745-95fd-b45cb060fb31"
      },
      "execution_count": 22,
      "outputs": [
        {
          "output_type": "stream",
          "name": "stdout",
          "text": [
            "Total number of rare words: 67721\n"
          ]
        }
      ]
    },
    {
      "cell_type": "code",
      "source": [
        "no_rarewords=total-count\n",
        "print(f'Total number of words after removing rarewords: {no_rarewords}')"
      ],
      "metadata": {
        "colab": {
          "base_uri": "https://localhost:8080/"
        },
        "id": "a4uYN2u5zgjd",
        "outputId": "2c479afe-0590-4771-efdb-686817c3ee5f"
      },
      "execution_count": 23,
      "outputs": [
        {
          "output_type": "stream",
          "name": "stdout",
          "text": [
            "Total number of words after removing rarewords: 18298\n"
          ]
        }
      ]
    },
    {
      "cell_type": "markdown",
      "source": [
        "# Probability Calculation"
      ],
      "metadata": {
        "id": "x7X0NGRpIlnC"
      }
    },
    {
      "cell_type": "markdown",
      "source": [
        "**P(Artificial Intelligence), P(Machine Learning), P(Data Science)**"
      ],
      "metadata": {
        "id": "YoNg2pvuOyrB"
      }
    },
    {
      "cell_type": "code",
      "source": [
        "prob_AI=train_copy['subreddit'].value_counts(normalize=True)['artificial']\n",
        "prob_ML=train_copy['subreddit'].value_counts(normalize=True)['MachineLearning']\n",
        "prob_DS=train_copy['subreddit'].value_counts(normalize=True)['datascience']\n",
        "print(f\"P(Artificial Intelligence) = {prob_AI} P(Machine Learning) = {prob_ML} P(Data Science) = {prob_DS}\")"
      ],
      "metadata": {
        "colab": {
          "base_uri": "https://localhost:8080/"
        },
        "id": "d485e7rXOvbm",
        "outputId": "08c015dc-cfbf-4804-aeb0-8e7e2049118f"
      },
      "execution_count": 40,
      "outputs": [
        {
          "output_type": "stream",
          "name": "stdout",
          "text": [
            "P(Artificial Intelligence) = 0.09100034055672061 P(Machine Learning) = 0.4288415694287609 P(Data Science) = 0.4801580900145185\n"
          ]
        }
      ]
    },
    {
      "cell_type": "markdown",
      "source": [
        "**P(Artificial Intelligence|word), P(Machine Learning|word), P(Datas Science|word)**"
      ],
      "metadata": {
        "id": "0xTGRsxJb4-j"
      }
    },
    {
      "cell_type": "code",
      "source": [
        "import math\n",
        "features=1 #feature=comments\n",
        "def cond_prob(category,word,alpha):\n",
        "  if alpha == 'no':\n",
        "   if category == 'artificial':\n",
        "    return math.log(word_dict[word][0]/num_AI_words)\n",
        "   elif category == 'MachineLearning':\n",
        "    return math.log(word_dict[word][1]/num_ML_words)\n",
        "   else:\n",
        "    return math.log(word_dict[word][2]/num_Datasci_words)\n",
        "  else:\n",
        "    if category == 'artificial':\n",
        "     return math.log(word_dict[word][0]+alpha/num_AI_words+features*alpha)\n",
        "    elif category == 'MachineLearning':\n",
        "     return math.log(word_dict[word][1]+alpha/num_ML_words+features*alpha)\n",
        "    else:\n",
        "     return math.log(word_dict[word][2]/num_Datasci_words+features*alpha)"
      ],
      "metadata": {
        "id": "wnK_aEEDb7hE"
      },
      "execution_count": 41,
      "outputs": []
    },
    {
      "cell_type": "code",
      "source": [
        "print(\"With no alpha P(word=forward|Artificial Intelligence) = \",cond_prob('artificial','forward','no'))"
      ],
      "metadata": {
        "colab": {
          "base_uri": "https://localhost:8080/"
        },
        "id": "LP8Rx95Bciyk",
        "outputId": "2688b0f4-d9ce-4458-8545-43eec4019384"
      },
      "execution_count": 48,
      "outputs": [
        {
          "output_type": "stream",
          "name": "stdout",
          "text": [
            "With no alpha P(word=forward|Artificial Intelligence) =  -8.077732931192894\n"
          ]
        }
      ]
    },
    {
      "cell_type": "code",
      "source": [
        "print(\"With no alpha P(word=forward|Machine Learning) = \",cond_prob('MachineLearning','forward','no'))"
      ],
      "metadata": {
        "colab": {
          "base_uri": "https://localhost:8080/"
        },
        "id": "Xb9JURYY_9uu",
        "outputId": "d0a820df-4423-4c7e-90a1-9ef88159a784"
      },
      "execution_count": 49,
      "outputs": [
        {
          "output_type": "stream",
          "name": "stdout",
          "text": [
            "With no alpha P(word=forward|Machine Learning) =  -8.038448439324501\n"
          ]
        }
      ]
    },
    {
      "cell_type": "code",
      "source": [
        "print(\"With no alpha P(word=forward|Data Science) = \",cond_prob('datascience','forward','no'))"
      ],
      "metadata": {
        "colab": {
          "base_uri": "https://localhost:8080/"
        },
        "id": "o4G0ARpcALBI",
        "outputId": "732a8378-5cdf-4604-96d9-a246be40e0fb"
      },
      "execution_count": 50,
      "outputs": [
        {
          "output_type": "stream",
          "name": "stdout",
          "text": [
            "With no alpha P(word=forward|Data Science) =  -8.50433895892507\n"
          ]
        }
      ]
    },
    {
      "cell_type": "markdown",
      "source": [
        "Among the three probablities, Prob is higher for category=Machine Learning therefore the word 'forward' belongs to MachineLearning category"
      ],
      "metadata": {
        "id": "W8NQv_XPEFmd"
      }
    },
    {
      "cell_type": "markdown",
      "source": [
        "**Calculating Probability where evidence = comment, hypothesis=subreddit category P(Artificial Intelligence|comment), P(Machine Learning|comment), P(Data Science|comment)**"
      ],
      "metadata": {
        "id": "VpxaQTN5_dSl"
      }
    },
    {
      "cell_type": "code",
      "source": [
        "def comment_probability(category, comment,alpha):\n",
        "  if category == 'artificial':\n",
        "    prob=math.log(AI_category/len(train_copy))\n",
        "  elif category == 'MachineLearning':\n",
        "    prob=math.log(ML_category/len(train_copy))\n",
        "  else:\n",
        "    prob=math.log(DataScience_category/len(train_copy))\n",
        "  preprocessed_comments=[]\n",
        "  preprocessed_comments=text_preprocess(comment)\n",
        "  for word in preprocessed_comments:\n",
        "     prob=prob+cond_prob(category,word,alpha)\n",
        "  return prob"
      ],
      "metadata": {
        "id": "tDpzS4gpBNr7"
      },
      "execution_count": 51,
      "outputs": []
    },
    {
      "cell_type": "markdown",
      "source": [
        "**Predicting class**"
      ],
      "metadata": {
        "id": "MxAfDk06Fm64"
      }
    },
    {
      "cell_type": "code",
      "source": [
        "def predict_class(comment,alpha):\n",
        " if (comment_probability('artificial',comment,alpha)*prob_AI > comment_probability('MachineLearning',comment,alpha)*prob_ML) and (comment_probability('artificial',comment,alpha)*prob_AI > comment_probability('datascience',comment,alpha)*prob_DS):\n",
        "   return \"artificial\"\n",
        " elif (comment_probability('MachineLearning',comment,alpha)*prob_ML > comment_probability('artificial',comment,alpha)*prob_AI) and (comment_probability('MachineLearning',comment,alpha)*prob_ML > comment_probability('datascience',comment,alpha)*prob_DS):\n",
        "    return \"MachineLearning\"\n",
        " else:\n",
        "    return \"datascience\""
      ],
      "metadata": {
        "id": "CWIaqHfwFpS_"
      },
      "execution_count": 52,
      "outputs": []
    },
    {
      "cell_type": "markdown",
      "source": [
        "**probability of a comment and class prediction**"
      ],
      "metadata": {
        "id": "5c39VPg3G_WM"
      }
    },
    {
      "cell_type": "code",
      "source": [
        "print(comment_probability('artificial','This system ended up deployed in banks to parse written checks, so I don\\'t think it was tweaked just for these examples, but they did expect to have fully visible digits.','no'))"
      ],
      "metadata": {
        "colab": {
          "base_uri": "https://localhost:8080/",
          "height": 328
        },
        "id": "RAqUrg8zCBWO",
        "outputId": "1940feb2-9775-4b66-968a-cb869946b002"
      },
      "execution_count": 53,
      "outputs": [
        {
          "output_type": "error",
          "ename": "ValueError",
          "evalue": "ignored",
          "traceback": [
            "\u001b[0;31m---------------------------------------------------------------------------\u001b[0m",
            "\u001b[0;31mValueError\u001b[0m                                Traceback (most recent call last)",
            "\u001b[0;32m<ipython-input-53-722824b83a57>\u001b[0m in \u001b[0;36m<cell line: 1>\u001b[0;34m()\u001b[0m\n\u001b[0;32m----> 1\u001b[0;31m \u001b[0mprint\u001b[0m\u001b[0;34m(\u001b[0m\u001b[0mcomment_probability\u001b[0m\u001b[0;34m(\u001b[0m\u001b[0;34m'artificial'\u001b[0m\u001b[0;34m,\u001b[0m\u001b[0;34m'This system ended up deployed in banks to parse written checks, so I don\\'t think it was tweaked just for these examples, but they did expect to have fully visible digits.'\u001b[0m\u001b[0;34m,\u001b[0m\u001b[0;34m'no'\u001b[0m\u001b[0;34m)\u001b[0m\u001b[0;34m)\u001b[0m\u001b[0;34m\u001b[0m\u001b[0;34m\u001b[0m\u001b[0m\n\u001b[0m",
            "\u001b[0;32m<ipython-input-51-a2b1a1df748d>\u001b[0m in \u001b[0;36mcomment_probability\u001b[0;34m(category, comment, alpha)\u001b[0m\n\u001b[1;32m      9\u001b[0m   \u001b[0mpreprocessed_comments\u001b[0m\u001b[0;34m=\u001b[0m\u001b[0mtext_preprocess\u001b[0m\u001b[0;34m(\u001b[0m\u001b[0mcomment\u001b[0m\u001b[0;34m)\u001b[0m\u001b[0;34m\u001b[0m\u001b[0;34m\u001b[0m\u001b[0m\n\u001b[1;32m     10\u001b[0m   \u001b[0;32mfor\u001b[0m \u001b[0mword\u001b[0m \u001b[0;32min\u001b[0m \u001b[0mpreprocessed_comments\u001b[0m\u001b[0;34m:\u001b[0m\u001b[0;34m\u001b[0m\u001b[0;34m\u001b[0m\u001b[0m\n\u001b[0;32m---> 11\u001b[0;31m      \u001b[0mprob\u001b[0m\u001b[0;34m=\u001b[0m\u001b[0mprob\u001b[0m\u001b[0;34m+\u001b[0m\u001b[0mcond_prob\u001b[0m\u001b[0;34m(\u001b[0m\u001b[0mcategory\u001b[0m\u001b[0;34m,\u001b[0m\u001b[0mword\u001b[0m\u001b[0;34m,\u001b[0m\u001b[0malpha\u001b[0m\u001b[0;34m)\u001b[0m\u001b[0;34m\u001b[0m\u001b[0;34m\u001b[0m\u001b[0m\n\u001b[0m\u001b[1;32m     12\u001b[0m   \u001b[0;32mreturn\u001b[0m \u001b[0mprob\u001b[0m\u001b[0;34m\u001b[0m\u001b[0;34m\u001b[0m\u001b[0m\n",
            "\u001b[0;32m<ipython-input-41-b49d5754a93c>\u001b[0m in \u001b[0;36mcond_prob\u001b[0;34m(category, word, alpha)\u001b[0m\n\u001b[1;32m      4\u001b[0m   \u001b[0;32mif\u001b[0m \u001b[0malpha\u001b[0m \u001b[0;34m==\u001b[0m \u001b[0;34m'no'\u001b[0m\u001b[0;34m:\u001b[0m\u001b[0;34m\u001b[0m\u001b[0;34m\u001b[0m\u001b[0m\n\u001b[1;32m      5\u001b[0m    \u001b[0;32mif\u001b[0m \u001b[0mcategory\u001b[0m \u001b[0;34m==\u001b[0m \u001b[0;34m'artificial'\u001b[0m\u001b[0;34m:\u001b[0m\u001b[0;34m\u001b[0m\u001b[0;34m\u001b[0m\u001b[0m\n\u001b[0;32m----> 6\u001b[0;31m     \u001b[0;32mreturn\u001b[0m \u001b[0mmath\u001b[0m\u001b[0;34m.\u001b[0m\u001b[0mlog\u001b[0m\u001b[0;34m(\u001b[0m\u001b[0mword_dict\u001b[0m\u001b[0;34m[\u001b[0m\u001b[0mword\u001b[0m\u001b[0;34m]\u001b[0m\u001b[0;34m[\u001b[0m\u001b[0;36m0\u001b[0m\u001b[0;34m]\u001b[0m\u001b[0;34m/\u001b[0m\u001b[0mnum_AI_words\u001b[0m\u001b[0;34m)\u001b[0m\u001b[0;34m\u001b[0m\u001b[0;34m\u001b[0m\u001b[0m\n\u001b[0m\u001b[1;32m      7\u001b[0m    \u001b[0;32melif\u001b[0m \u001b[0mcategory\u001b[0m \u001b[0;34m==\u001b[0m \u001b[0;34m'MachineLearning'\u001b[0m\u001b[0;34m:\u001b[0m\u001b[0;34m\u001b[0m\u001b[0;34m\u001b[0m\u001b[0m\n\u001b[1;32m      8\u001b[0m     \u001b[0;32mreturn\u001b[0m \u001b[0mmath\u001b[0m\u001b[0;34m.\u001b[0m\u001b[0mlog\u001b[0m\u001b[0;34m(\u001b[0m\u001b[0mword_dict\u001b[0m\u001b[0;34m[\u001b[0m\u001b[0mword\u001b[0m\u001b[0;34m]\u001b[0m\u001b[0;34m[\u001b[0m\u001b[0;36m1\u001b[0m\u001b[0;34m]\u001b[0m\u001b[0;34m/\u001b[0m\u001b[0mnum_ML_words\u001b[0m\u001b[0;34m)\u001b[0m\u001b[0;34m\u001b[0m\u001b[0;34m\u001b[0m\u001b[0m\n",
            "\u001b[0;31mValueError\u001b[0m: math domain error"
          ]
        }
      ]
    },
    {
      "cell_type": "markdown",
      "source": [
        "**Original Category**"
      ],
      "metadata": {
        "id": "pK-YIJqHNcIE"
      }
    },
    {
      "cell_type": "code",
      "source": [
        "print(post_comment_df.query('comment==\"This system ended up deployed in banks to parse written checks, so I don\\'t think it was tweaked just for these examples, but they did expect to have fully visible digits.\"')['subreddit'])"
      ],
      "metadata": {
        "colab": {
          "base_uri": "https://localhost:8080/"
        },
        "id": "EMaFjJcFNbQo",
        "outputId": "94af0449-3bc2-44f2-9903-2fdaa2b2bd92"
      },
      "execution_count": 54,
      "outputs": [
        {
          "output_type": "stream",
          "name": "stdout",
          "text": [
            "252    MachineLearning\n",
            "Name: subreddit, dtype: object\n"
          ]
        }
      ]
    },
    {
      "cell_type": "markdown",
      "source": [
        "**Predicted category**"
      ],
      "metadata": {
        "id": "FxlybKQGNiGW"
      }
    },
    {
      "cell_type": "code",
      "source": [
        "print(comment_probability('artificial','This system ended up deployed in banks to parse written checks, so I don\\'t think it was tweaked just for these examples, but they did expect to have fully visible digits.',0.5))"
      ],
      "metadata": {
        "colab": {
          "base_uri": "https://localhost:8080/"
        },
        "id": "jphYv5l-FWoj",
        "outputId": "70d72d98-4f11-47b1-dcc0-6be987f5e437"
      },
      "execution_count": 55,
      "outputs": [
        {
          "output_type": "stream",
          "name": "stdout",
          "text": [
            "54.27159209321105\n"
          ]
        }
      ]
    },
    {
      "cell_type": "code",
      "source": [
        "predict_class('This system ended up deployed in banks to parse written checks, so I don\\'t think it was tweaked just for these examples, but they did expect to have fully visible digits.',0.5)"
      ],
      "metadata": {
        "colab": {
          "base_uri": "https://localhost:8080/",
          "height": 35
        },
        "id": "Fk1JzoHALyEb",
        "outputId": "077457d7-33da-44b4-cf7e-0e8acedb9147"
      },
      "execution_count": 56,
      "outputs": [
        {
          "output_type": "execute_result",
          "data": {
            "text/plain": [
              "'MachineLearning'"
            ],
            "application/vnd.google.colaboratory.intrinsic+json": {
              "type": "string"
            }
          },
          "metadata": {},
          "execution_count": 56
        }
      ]
    },
    {
      "cell_type": "code",
      "source": [
        "print(comment_probability('artificial','This system ended up deployed in banks to parse written checks, so I don\\'t think it was tweaked just for these examples, but they did expect to have fully visible digits.',1))"
      ],
      "metadata": {
        "colab": {
          "base_uri": "https://localhost:8080/"
        },
        "id": "K9z-GbnUFZq0",
        "outputId": "3ad1c8fa-b6ba-4b7e-8a6c-426c3cb09ab9"
      },
      "execution_count": 57,
      "outputs": [
        {
          "output_type": "stream",
          "name": "stdout",
          "text": [
            "55.33008184846226\n"
          ]
        }
      ]
    },
    {
      "cell_type": "code",
      "source": [
        "predict_class('This system ended up deployed in banks to parse written checks, so I don\\'t think it was tweaked just for these examples, but they did expect to have fully visible digits.',1)"
      ],
      "metadata": {
        "colab": {
          "base_uri": "https://localhost:8080/",
          "height": 35
        },
        "id": "RaCBi49yL0PE",
        "outputId": "66ed2d13-0d00-43d1-cc05-4b57e0d78d6b"
      },
      "execution_count": 58,
      "outputs": [
        {
          "output_type": "execute_result",
          "data": {
            "text/plain": [
              "'MachineLearning'"
            ],
            "application/vnd.google.colaboratory.intrinsic+json": {
              "type": "string"
            }
          },
          "metadata": {},
          "execution_count": 58
        }
      ]
    },
    {
      "cell_type": "code",
      "source": [
        "print(comment_probability('artificial','This system ended up deployed in banks to parse written checks, so I don\\'t think it was tweaked just for these examples, but they did expect to have fully visible digits.',10))"
      ],
      "metadata": {
        "colab": {
          "base_uri": "https://localhost:8080/"
        },
        "id": "wqOU5-pdFc4m",
        "outputId": "796203ec-72e2-404a-c32a-75eeb6144bc6"
      },
      "execution_count": 59,
      "outputs": [
        {
          "output_type": "stream",
          "name": "stdout",
          "text": [
            "62.116185968456676\n"
          ]
        }
      ]
    },
    {
      "cell_type": "code",
      "source": [
        "predict_class('This system ended up deployed in banks to parse written checks, so I don\\'t think it was tweaked just for these examples, but they did expect to have fully visible digits.',10)"
      ],
      "metadata": {
        "colab": {
          "base_uri": "https://localhost:8080/",
          "height": 35
        },
        "id": "-fMiBjyFL32P",
        "outputId": "c2a142f5-fdc4-4fe6-b501-596bcdd0cfe6"
      },
      "execution_count": 60,
      "outputs": [
        {
          "output_type": "execute_result",
          "data": {
            "text/plain": [
              "'MachineLearning'"
            ],
            "application/vnd.google.colaboratory.intrinsic+json": {
              "type": "string"
            }
          },
          "metadata": {},
          "execution_count": 60
        }
      ]
    },
    {
      "cell_type": "code",
      "source": [
        "print(comment_probability('artificial','This system ended up deployed in banks to parse written checks, so I don\\'t think it was tweaked just for these examples, but they did expect to have fully visible digits.',100))"
      ],
      "metadata": {
        "colab": {
          "base_uri": "https://localhost:8080/"
        },
        "id": "pWijlWpYFfJE",
        "outputId": "23226284-e6e2-47db-ce6a-85661138b79a"
      },
      "execution_count": 61,
      "outputs": [
        {
          "output_type": "stream",
          "name": "stdout",
          "text": [
            "78.31787415300964\n"
          ]
        }
      ]
    },
    {
      "cell_type": "code",
      "source": [
        "predict_class('This system ended up deployed in banks to parse written checks, so I don\\'t think it was tweaked just for these examples, but they did expect to have fully visible digits.',100)"
      ],
      "metadata": {
        "colab": {
          "base_uri": "https://localhost:8080/",
          "height": 35
        },
        "id": "Hm8pW3lHL9BW",
        "outputId": "5f4197c5-9e33-45a1-83d8-aee000a4935b"
      },
      "execution_count": 62,
      "outputs": [
        {
          "output_type": "execute_result",
          "data": {
            "text/plain": [
              "'MachineLearning'"
            ],
            "application/vnd.google.colaboratory.intrinsic+json": {
              "type": "string"
            }
          },
          "metadata": {},
          "execution_count": 62
        }
      ]
    },
    {
      "cell_type": "code",
      "source": [
        "print(comment_probability('artificial','This system ended up deployed in banks to parse written checks, so I don\\'t think it was tweaked just for these examples, but they did expect to have fully visible digits.',1000))"
      ],
      "metadata": {
        "colab": {
          "base_uri": "https://localhost:8080/"
        },
        "id": "8uILHEvFFhfz",
        "outputId": "0f739276-8c74-4f58-8877-5f41f9d77140"
      },
      "execution_count": 63,
      "outputs": [
        {
          "output_type": "stream",
          "name": "stdout",
          "text": [
            "104.22358780980413\n"
          ]
        }
      ]
    },
    {
      "cell_type": "code",
      "source": [
        "predict_class('This system ended up deployed in banks to parse written checks, so I don\\'t think it was tweaked just for these examples, but they did expect to have fully visible digits.',1000)"
      ],
      "metadata": {
        "colab": {
          "base_uri": "https://localhost:8080/",
          "height": 35
        },
        "id": "KFFF20F_MB5d",
        "outputId": "61545742-c849-490e-f12b-fcdfe5897036"
      },
      "execution_count": 64,
      "outputs": [
        {
          "output_type": "execute_result",
          "data": {
            "text/plain": [
              "'datascience'"
            ],
            "application/vnd.google.colaboratory.intrinsic+json": {
              "type": "string"
            }
          },
          "metadata": {},
          "execution_count": 64
        }
      ]
    },
    {
      "cell_type": "code",
      "source": [
        "print(comment_probability('artificial','This system ended up deployed in banks to parse written checks, so I don\\'t think it was tweaked just for these examples, but they did expect to have fully visible digits.',5000))"
      ],
      "metadata": {
        "colab": {
          "base_uri": "https://localhost:8080/"
        },
        "id": "TPjOD9TQFjox",
        "outputId": "3c0a43c1-b596-4f79-c2a5-2e86ba42af1e"
      },
      "execution_count": 65,
      "outputs": [
        {
          "output_type": "stream",
          "name": "stdout",
          "text": [
            "126.19542849731612\n"
          ]
        }
      ]
    },
    {
      "cell_type": "code",
      "source": [
        "predict_class('This system ended up deployed in banks to parse written checks, so I don\\'t think it was tweaked just for these examples, but they did expect to have fully visible digits.',5000)"
      ],
      "metadata": {
        "colab": {
          "base_uri": "https://localhost:8080/",
          "height": 35
        },
        "id": "oCowBPTkMIF7",
        "outputId": "2b863884-3cd2-4cec-c77a-6d02d9054d8e"
      },
      "execution_count": 66,
      "outputs": [
        {
          "output_type": "execute_result",
          "data": {
            "text/plain": [
              "'datascience'"
            ],
            "application/vnd.google.colaboratory.intrinsic+json": {
              "type": "string"
            }
          },
          "metadata": {},
          "execution_count": 66
        }
      ]
    },
    {
      "cell_type": "markdown",
      "source": [
        "If we observe the probabilities, the highest probability is achieved when alpha=5000, but wif we observe the class prediction, it is wrong when alpha is both 1000 and 5000. This means the hyperparameter tuning didnt work when alpha is 1000 and 5000"
      ],
      "metadata": {
        "id": "53fdhDtmMLLx"
      }
    },
    {
      "cell_type": "markdown",
      "source": [
        "**Calculating accuracy on Dev set**"
      ],
      "metadata": {
        "id": "1ZoenvC-OTRb"
      }
    },
    {
      "cell_type": "code",
      "source": [
        "def create_dict(df):\n",
        " for i, comment in enumerate(list(df)):\n",
        "  if  category[i] == 'artificial':\n",
        "    AI_category=AI_category+1\n",
        "  elif category[i] == 'MachineLearning':\n",
        "    ML_category=ML_category+1\n",
        "  else:\n",
        "    DataScience_category=DataScience_category+1\n",
        "  for word in (comment):\n",
        "    if category[i] == 'artificial':\n",
        "      word_dict[word][0]+=1\n",
        "      AI_words.append(word)\n",
        "      num_AI_words+=1 \n",
        "    elif category[i] == 'MachineLearning':\n",
        "      word_dict[word][1]+=1\n",
        "      ML_words.append(word)\n",
        "      num_ML_words+=1\n",
        "    else:\n",
        "      word_dict[word][2]+=1\n",
        "      DS_words.append(word)\n",
        "      num_Datasci_words+=1\n",
        "    return word_dict"
      ],
      "metadata": {
        "id": "JIldnHexsjz8"
      },
      "execution_count": 67,
      "outputs": []
    },
    {
      "cell_type": "code",
      "source": [
        "def find_accuracy(alpha):\n",
        " correct_pred=0\n",
        " incorrect_pred=0\n",
        " subreddit=list(dev_set['subreddit'])\n",
        " for i, comment in enumerate(list(dev_set['comment'])):\n",
        "   if predict_class(comment,alpha) == subreddit[i]:\n",
        "    correct_pred+=1\n",
        "   else:\n",
        "    incorrect_pred+=1\n",
        " return (f\"Accuracy when alpha is {alpha}= {correct_pred/(correct_pred+incorrect_pred)}\")"
      ],
      "metadata": {
        "id": "lcebShv-N043"
      },
      "execution_count": 68,
      "outputs": []
    },
    {
      "cell_type": "markdown",
      "source": [
        "**Alpha = 1**"
      ],
      "metadata": {
        "id": "e4Aa4HqJaM5E"
      }
    },
    {
      "cell_type": "code",
      "source": [
        "find_accuracy(1)"
      ],
      "metadata": {
        "colab": {
          "base_uri": "https://localhost:8080/",
          "height": 35
        },
        "id": "xlV-ADNuageh",
        "outputId": "9b680236-d6f7-483b-ee37-0fbd8d115321"
      },
      "execution_count": 70,
      "outputs": [
        {
          "output_type": "execute_result",
          "data": {
            "text/plain": [
              "'Accuracy when alpha is 1= 0.42682645770914956'"
            ],
            "application/vnd.google.colaboratory.intrinsic+json": {
              "type": "string"
            }
          },
          "metadata": {},
          "execution_count": 70
        }
      ]
    },
    {
      "cell_type": "markdown",
      "source": [
        "**Alpha=100**"
      ],
      "metadata": {
        "id": "1gJTVT5uBVTS"
      }
    },
    {
      "cell_type": "code",
      "source": [
        "find_accuracy(100)"
      ],
      "metadata": {
        "colab": {
          "base_uri": "https://localhost:8080/",
          "height": 35
        },
        "id": "i_Qg7CyqakB5",
        "outputId": "d7084a55-70ef-4348-c999-93947402e2f9"
      },
      "execution_count": 71,
      "outputs": [
        {
          "output_type": "execute_result",
          "data": {
            "text/plain": [
              "'Accuracy when alpha is 100= 0.4322680597167806'"
            ],
            "application/vnd.google.colaboratory.intrinsic+json": {
              "type": "string"
            }
          },
          "metadata": {},
          "execution_count": 71
        }
      ]
    },
    {
      "cell_type": "markdown",
      "source": [
        "**comparision of Laplace Smoothing**"
      ],
      "metadata": {
        "id": "kTwrk_Ps6Kna"
      }
    },
    {
      "cell_type": "code",
      "source": [
        "import seaborn as sns\n",
        "acc=[0.42682645770914956,0.4322680597167806]\n",
        "label=['alpha=1','alpha=100']\n",
        "sns.pointplot(data=None,x=label,y=acc)"
      ],
      "metadata": {
        "colab": {
          "base_uri": "https://localhost:8080/",
          "height": 447
        },
        "id": "Y6acdupG6NxL",
        "outputId": "bb002e55-d25e-4cfc-a753-af448de065af"
      },
      "execution_count": 76,
      "outputs": [
        {
          "output_type": "execute_result",
          "data": {
            "text/plain": [
              "<Axes: >"
            ]
          },
          "metadata": {},
          "execution_count": 76
        },
        {
          "output_type": "display_data",
          "data": {
            "text/plain": [
              "<Figure size 640x480 with 1 Axes>"
            ],
            "image/png": "[encoded data removed]"
          },
          "metadata": {}
        }
      ]
    },
    {
      "cell_type": "markdown",
      "source": [
        "Among all the accuracies, the accuracy is higher for alpha = 100. Therefore, I will use alpha= 100 for finding the accuracy of test dataset"
      ],
      "metadata": {
        "id": "jFtK78AA0wBb"
      }
    },
    {
      "cell_type": "markdown",
      "source": [
        "**Test Accuracy**"
      ],
      "metadata": {
        "id": "0JBpnGMBpHEg"
      }
    },
    {
      "cell_type": "code",
      "source": [
        "def test_accuracy(alpha):\n",
        " correct_pred=0\n",
        " incorrect_pred=0\n",
        " subreddit=list(test_set['subreddit'])\n",
        " for i, comment in enumerate(list(test_set['comment'])):\n",
        "   if predict_class(comment,alpha) == subreddit[i]:\n",
        "    correct_pred+=1\n",
        "   else:\n",
        "    incorrect_pred+=1\n",
        " return (f\"Accuracy when alpha is {alpha}= {correct_pred/(correct_pred+incorrect_pred)}\")"
      ],
      "metadata": {
        "id": "8lJ9P96SpGht"
      },
      "execution_count": null,
      "outputs": []
    },
    {
      "cell_type": "code",
      "source": [
        "test_accuracy(100)"
      ],
      "metadata": {
        "colab": {
          "base_uri": "https://localhost:8080/",
          "height": 35
        },
        "id": "Q3S2_GNu54rs",
        "outputId": "f683164d-3d56-48c5-8680-4a73e87e2482"
      },
      "execution_count": null,
      "outputs": [
        {
          "output_type": "execute_result",
          "data": {
            "text/plain": [
              "'Accuracy when alpha is 100= 0.43279091502682215'"
            ],
            "application/vnd.google.colaboratory.intrinsic+json": {
              "type": "string"
            }
          },
          "metadata": {},
          "execution_count": 185
        }
      ]
    },
    {
      "cell_type": "code",
      "source": [
        "acc=[0.42682645770914956,0.4322680597167806,0.43279091502682215]\n",
        "label=['Dev Accuracy 1','Dev accuracy 100','Test accuracy']\n",
        "sns.lineplot(data=None,x=label,y=acc)"
      ],
      "metadata": {
        "colab": {
          "base_uri": "https://localhost:8080/",
          "height": 447
        },
        "id": "1vhAI776Ns5f",
        "outputId": "54bf6eb0-634e-4aaa-e996-cea1bf02004c"
      },
      "execution_count": 75,
      "outputs": [
        {
          "output_type": "execute_result",
          "data": {
            "text/plain": [
              "<Axes: >"
            ]
          },
          "metadata": {},
          "execution_count": 75
        },
        {
          "output_type": "display_data",
          "data": {
            "text/plain": [
              "<Figure size 640x480 with 1 Axes>"
            ],
            "image/png": "[encoded data removed]"
          },
          "metadata": {}
        }
      ]
    },
    {
      "cell_type": "markdown",
      "source": [
        "**KNN Text classifier**"
      ],
      "metadata": {
        "id": "2gP3zO6x_9SO"
      }
    },
    {
      "cell_type": "code",
      "source": [
        "from sklearn.feature_extraction.text import CountVectorizer\n",
        "from sklearn.feature_extraction.text import TfidfTransformer\n",
        "from sklearn.neighbors import KNeighborsClassifier\n",
        "from sklearn.pipeline import Pipeline\n",
        "from sklearn.preprocessing import StandardScaler"
      ],
      "metadata": {
        "id": "VpbXKBRfB9oO"
      },
      "execution_count": 77,
      "outputs": []
    },
    {
      "cell_type": "code",
      "source": [
        "from sklearn.model_selection import train_test_split\n",
        "X_train,X_remaining, y_train, y_remaining= train_test_split(train_set['comment'],train_set['subreddit'],train_size=0.5,stratify=train_set['subreddit'])\n",
        "X_test, X_dev, y_test, y_dev = train_test_split(X_remaining,y_remaining,test_size=0.3,stratify=y_remaining)\n",
        "train_set=pd.concat([X_train,y_train],axis=1).reset_index(drop=True)\n",
        "dev_set=pd.concat([X_dev,y_dev],axis=1).reset_index(drop=True)\n",
        "test_set=pd.concat([X_test,y_test],axis=1).reset_index(drop=True)\n",
        "print(f\"Train set size:  \",train_set.size)\n",
        "print(f\"Dev set size:  \",dev_set.size)\n",
        "print(f\"Test set size:  \",test_set.size)"
      ],
      "metadata": {
        "colab": {
          "base_uri": "https://localhost:8080/"
        },
        "id": "O9ineVNzsBse",
        "outputId": "66f1950d-d325-4247-974b-b0c8c437568c"
      },
      "execution_count": 78,
      "outputs": [
        {
          "output_type": "stream",
          "name": "stdout",
          "text": [
            "Train set size:   111582\n",
            "Dev set size:   33476\n",
            "Test set size:   78106\n"
          ]
        }
      ]
    },
    {
      "cell_type": "code",
      "source": [
        "knn_train=train_set.copy()\n",
        "knn_train"
      ],
      "metadata": {
        "colab": {
          "base_uri": "https://localhost:8080/",
          "height": 424
        },
        "id": "8K4WgABEYb3h",
        "outputId": "35556f11-ad34-4c31-88dc-a1ec57336207"
      },
      "execution_count": 79,
      "outputs": [
        {
          "output_type": "execute_result",
          "data": {
            "text/plain": [
              "                                                 comment        subreddit\n",
              "0      Also the process of creation for the vast majo...  MachineLearning\n",
              "1      Oh yes ofc. I mean it's hilarious for me (us) ...      datascience\n",
              "2      Given a large enough blender and a hydraulic p...      datascience\n",
              "3      So according to their blog post, you are right...  MachineLearning\n",
              "4                                              [deleted]  MachineLearning\n",
              "...                                                  ...              ...\n",
              "55786                                It’s Fusilli Jerry!  MachineLearning\n",
              "55787                                          [deleted]       artificial\n",
              "55788  Google sells the result of their models in GCP...  MachineLearning\n",
              "55789  Eh, I'd say that depends on how dangerous a ty...      datascience\n",
              "55790  You're likely not going to get very strong ref...  MachineLearning\n",
              "\n",
              "[55791 rows x 2 columns]"
            ],
            "text/html": [
              "\n",
              "  <div id=\"df-a3839233-721c-43d3-b459-6675b1b838f2\">\n",
              "    <div class=\"colab-df-container\">\n",
              "      <div>\n",
              "<style scoped>\n",
              "    .dataframe tbody tr th:only-of-type {\n",
              "        vertical-align: middle;\n",
              "    }\n",
              "\n",
              "    .dataframe tbody tr th {\n",
              "        vertical-align: top;\n",
              "    }\n",
              "\n",
              "    .dataframe thead th {\n",
              "        text-align: right;\n",
              "    }\n",
              "</style>\n",
              "<table border=\"1\" class=\"dataframe\">\n",
              "  <thead>\n",
              "    <tr style=\"text-align: right;\">\n",
              "      <th></th>\n",
              "      <th>comment</th>\n",
              "      <th>subreddit</th>\n",
              "    </tr>\n",
              "  </thead>\n",
              "  <tbody>\n",
              "    <tr>\n",
              "      <th>0</th>\n",
              "      <td>Also the process of creation for the vast majo...</td>\n",
              "      <td>MachineLearning</td>\n",
              "    </tr>\n",
              "    <tr>\n",
              "      <th>1</th>\n",
              "      <td>Oh yes ofc. I mean it's hilarious for me (us) ...</td>\n",
              "      <td>datascience</td>\n",
              "    </tr>\n",
              "    <tr>\n",
              "      <th>2</th>\n",
              "      <td>Given a large enough blender and a hydraulic p...</td>\n",
              "      <td>datascience</td>\n",
              "    </tr>\n",
              "    <tr>\n",
              "      <th>3</th>\n",
              "      <td>So according to their blog post, you are right...</td>\n",
              "      <td>MachineLearning</td>\n",
              "    </tr>\n",
              "    <tr>\n",
              "      <th>4</th>\n",
              "      <td>[deleted]</td>\n",
              "      <td>MachineLearning</td>\n",
              "    </tr>\n",
              "    <tr>\n",
              "      <th>...</th>\n",
              "      <td>...</td>\n",
              "      <td>...</td>\n",
              "    </tr>\n",
              "    <tr>\n",
              "      <th>55786</th>\n",
              "      <td>It’s Fusilli Jerry!</td>\n",
              "      <td>MachineLearning</td>\n",
              "    </tr>\n",
              "    <tr>\n",
              "      <th>55787</th>\n",
              "      <td>[deleted]</td>\n",
              "      <td>artificial</td>\n",
              "    </tr>\n",
              "    <tr>\n",
              "      <th>55788</th>\n",
              "      <td>Google sells the result of their models in GCP...</td>\n",
              "      <td>MachineLearning</td>\n",
              "    </tr>\n",
              "    <tr>\n",
              "      <th>55789</th>\n",
              "      <td>Eh, I'd say that depends on how dangerous a ty...</td>\n",
              "      <td>datascience</td>\n",
              "    </tr>\n",
              "    <tr>\n",
              "      <th>55790</th>\n",
              "      <td>You're likely not going to get very strong ref...</td>\n",
              "      <td>MachineLearning</td>\n",
              "    </tr>\n",
              "  </tbody>\n",
              "</table>\n",
              "<p>55791 rows × 2 columns</p>\n",
              "</div>\n",
              "      <button class=\"colab-df-convert\" onclick=\"convertToInteractive('df-a3839233-721c-43d3-b459-6675b1b838f2')\"\n",
              "              title=\"Convert this dataframe to an interactive table.\"\n",
              "              style=\"display:none;\">\n",
              "        \n",
              "  <svg xmlns=\"http://www.w3.org/2000/svg\" height=\"24px\"viewBox=\"0 0 24 24\"\n",
              "       width=\"24px\">\n",
              "    <path d=\"M0 0h24v24H0V0z\" fill=\"none\"/>\n",
              "    <path d=\"M18.56 5.44l.94 2.06.94-2.06 2.06-.94-2.06-.94-.94-2.06-.94 2.06-2.06.94zm-11 1L8.5 8.5l.94-2.06 2.06-.94-2.06-.94L8.5 2.5l-.94 2.06-2.06.94zm10 10l.94 2.06.94-2.06 2.06-.94-2.06-.94-.94-2.06-.94 2.06-2.06.94z\"/><path d=\"M17.41 7.96l-1.37-1.37c-.4-.4-.92-.59-1.43-.59-.52 0-1.04.2-1.43.59L10.3 9.45l-7.72 7.72c-.78.78-.78 2.05 0 2.83L4 21.41c.39.39.9.59 1.41.59.51 0 1.02-.2 1.41-.59l7.78-7.78 2.81-2.81c.8-.78.8-2.07 0-2.86zM5.41 20L4 18.59l7.72-7.72 1.47 1.35L5.41 20z\"/>\n",
              "  </svg>\n",
              "      </button>\n",
              "      \n",
              "  <style>\n",
              "    .colab-df-container {\n",
              "      display:flex;\n",
              "      flex-wrap:wrap;\n",
              "      gap: 12px;\n",
              "    }\n",
              "\n",
              "    .colab-df-convert {\n",
              "      background-color: #E8F0FE;\n",
              "      border: none;\n",
              "      border-radius: 50%;\n",
              "      cursor: pointer;\n",
              "      display: none;\n",
              "      fill: #1967D2;\n",
              "      height: 32px;\n",
              "      padding: 0 0 0 0;\n",
              "      width: 32px;\n",
              "    }\n",
              "\n",
              "    .colab-df-convert:hover {\n",
              "      background-color: #E2EBFA;\n",
              "      box-shadow: 0px 1px 2px rgba(60, 64, 67, 0.3), 0px 1px 3px 1px rgba(60, 64, 67, 0.15);\n",
              "      fill: #174EA6;\n",
              "    }\n",
              "\n",
              "    [theme=dark] .colab-df-convert {\n",
              "      background-color: #3B4455;\n",
              "      fill: #D2E3FC;\n",
              "    }\n",
              "\n",
              "    [theme=dark] .colab-df-convert:hover {\n",
              "      background-color: #434B5C;\n",
              "      box-shadow: 0px 1px 3px 1px rgba(0, 0, 0, 0.15);\n",
              "      filter: drop-shadow(0px 1px 2px rgba(0, 0, 0, 0.3));\n",
              "      fill: #FFFFFF;\n",
              "    }\n",
              "  </style>\n",
              "\n",
              "      <script>\n",
              "        const buttonEl =\n",
              "          document.querySelector('#df-a3839233-721c-43d3-b459-6675b1b838f2 button.colab-df-convert');\n",
              "        buttonEl.style.display =\n",
              "          google.colab.kernel.accessAllowed ? 'block' : 'none';\n",
              "\n",
              "        async function convertToInteractive(key) {\n",
              "          const element = document.querySelector('#df-a3839233-721c-43d3-b459-6675b1b838f2');\n",
              "          const dataTable =\n",
              "            await google.colab.kernel.invokeFunction('convertToInteractive',\n",
              "                                                     [key], {});\n",
              "          if (!dataTable) return;\n",
              "\n",
              "          const docLinkHtml = 'Like what you see? Visit the ' +\n",
              "            '<a target=\"_blank\" href=https://colab.research.google.com/notebooks/data_table.ipynb>data table notebook</a>'\n",
              "            + ' to learn more about interactive tables.';\n",
              "          element.innerHTML = '';\n",
              "          dataTable['output_type'] = 'display_data';\n",
              "          await google.colab.output.renderOutput(dataTable, element);\n",
              "          const docLink = document.createElement('div');\n",
              "          docLink.innerHTML = docLinkHtml;\n",
              "          element.appendChild(docLink);\n",
              "        }\n",
              "      </script>\n",
              "    </div>\n",
              "  </div>\n",
              "  "
            ]
          },
          "metadata": {},
          "execution_count": 79
        }
      ]
    },
    {
      "cell_type": "code",
      "source": [
        "count_vect = CountVectorizer()\n",
        "X_train_counts = count_vect.fit_transform(knn_train['comment'])\n",
        "# transform a count matrix to a normalized tf-idf representation (tf-idf transformer)\n",
        "tfidf_transformer = TfidfTransformer()\n",
        "X_train_tfidf = tfidf_transformer.fit_transform(X_train_counts)"
      ],
      "metadata": {
        "id": "5pm4WKubYEBZ"
      },
      "execution_count": 81,
      "outputs": []
    },
    {
      "cell_type": "code",
      "source": [
        "knn = KNeighborsClassifier(n_neighbors=5)\n",
        "# training our classifier ; train_data.target will be having numbers assigned for each category in train data\n",
        "clf = knn.fit(X_train_tfidf, knn_train['subreddit'])\n",
        "# Input Data to predict their classes of the given categories\n",
        "docs_new = ['There is a new blog post with more details at  [https://ml-jku.github.io/hopfield-layers/](https://ml-jku.github.io/hopfield-layers/)', 'This is the best answer I have gotten so far! I am going to try this out! So as a data person it may be possible to rise in an organization if they are serious about the investments.']\n",
        "# building up feature vector of our input\n",
        "X_new_counts = count_vect.transform(docs_new)\n",
        "# We call transform instead of fit_transform because it's already been fit\n",
        "X_new_tfidf = tfidf_transformer.transform(X_new_counts)"
      ],
      "metadata": {
        "id": "K7nLd6s1YMyb"
      },
      "execution_count": 82,
      "outputs": []
    },
    {
      "cell_type": "code",
      "source": [
        "predicted = clf.predict(X_new_tfidf)\n",
        "for i in range(len(predicted)):\n",
        "    print((docs_new[i], predicted[i]))"
      ],
      "metadata": {
        "colab": {
          "base_uri": "https://localhost:8080/"
        },
        "id": "brB6Ur5BTgqR",
        "outputId": "db12e406-3d0c-4408-a86a-e3d99b437555"
      },
      "execution_count": 83,
      "outputs": [
        {
          "output_type": "stream",
          "name": "stdout",
          "text": [
            "('There is a new blog post with more details at  [https://ml-jku.github.io/hopfield-layers/](https://ml-jku.github.io/hopfield-layers/)', 'MachineLearning')\n",
            "('This is the best answer I have gotten so far! I am going to try this out! So as a data person it may be possible to rise in an organization if they are serious about the investments.', 'datascience')\n"
          ]
        }
      ]
    },
    {
      "cell_type": "code",
      "source": [
        "pipeline = Pipeline([\n",
        "    ('vect', CountVectorizer()),\n",
        "    ('tfidf', TfidfTransformer()),\n",
        "    ('clf', knn),\n",
        "])\n",
        "pipeline.fit(knn_train['comment'], knn_train['subreddit'])"
      ],
      "metadata": {
        "colab": {
          "base_uri": "https://localhost:8080/",
          "height": 161
        },
        "id": "d0X3d1I3Lss5",
        "outputId": "2f1cd4be-b550-465e-c454-15120d3cc41f"
      },
      "execution_count": 28,
      "outputs": [
        {
          "output_type": "execute_result",
          "data": {
            "text/plain": [
              "Pipeline(steps=[('vect', CountVectorizer()), ('tfidf', TfidfTransformer()),\n",
              "                ('clf', KNeighborsClassifier())])"
            ],
            "text/html": [
              "<style>#sk-container-id-1 {color: black;background-color: white;}#sk-container-id-1 pre{padding: 0;}#sk-container-id-1 div.sk-toggleable {background-color: white;}#sk-container-id-1 label.sk-toggleable__label {cursor: pointer;display: block;width: 100%;margin-bottom: 0;padding: 0.3em;box-sizing: border-box;text-align: center;}#sk-container-id-1 label.sk-toggleable__label-arrow:before {content: \"▸\";float: left;margin-right: 0.25em;color: #696969;}#sk-container-id-1 label.sk-toggleable__label-arrow:hover:before {color: black;}#sk-container-id-1 div.sk-estimator:hover label.sk-toggleable__label-arrow:before {color: black;}#sk-container-id-1 div.sk-toggleable__content {max-height: 0;max-width: 0;overflow: hidden;text-align: left;background-color: #f0f8ff;}#sk-container-id-1 div.sk-toggleable__content pre {margin: 0.2em;color: black;border-radius: 0.25em;background-color: #f0f8ff;}#sk-container-id-1 input.sk-toggleable__control:checked~div.sk-toggleable__content {max-height: 200px;max-width: 100%;overflow: auto;}#sk-container-id-1 input.sk-toggleable__control:checked~label.sk-toggleable__label-arrow:before {content: \"▾\";}#sk-container-id-1 div.sk-estimator input.sk-toggleable__control:checked~label.sk-toggleable__label {background-color: #d4ebff;}#sk-container-id-1 div.sk-label input.sk-toggleable__control:checked~label.sk-toggleable__label {background-color: #d4ebff;}#sk-container-id-1 input.sk-hidden--visually {border: 0;clip: rect(1px 1px 1px 1px);clip: rect(1px, 1px, 1px, 1px);height: 1px;margin: -1px;overflow: hidden;padding: 0;position: absolute;width: 1px;}#sk-container-id-1 div.sk-estimator {font-family: monospace;background-color: #f0f8ff;border: 1px dotted black;border-radius: 0.25em;box-sizing: border-box;margin-bottom: 0.5em;}#sk-container-id-1 div.sk-estimator:hover {background-color: #d4ebff;}#sk-container-id-1 div.sk-parallel-item::after {content: \"\";width: 100%;border-bottom: 1px solid gray;flex-grow: 1;}#sk-container-id-1 div.sk-label:hover label.sk-toggleable__label {background-color: #d4ebff;}#sk-container-id-1 div.sk-serial::before {content: \"\";position: absolute;border-left: 1px solid gray;box-sizing: border-box;top: 0;bottom: 0;left: 50%;z-index: 0;}#sk-container-id-1 div.sk-serial {display: flex;flex-direction: column;align-items: center;background-color: white;padding-right: 0.2em;padding-left: 0.2em;position: relative;}#sk-container-id-1 div.sk-item {position: relative;z-index: 1;}#sk-container-id-1 div.sk-parallel {display: flex;align-items: stretch;justify-content: center;background-color: white;position: relative;}#sk-container-id-1 div.sk-item::before, #sk-container-id-1 div.sk-parallel-item::before {content: \"\";position: absolute;border-left: 1px solid gray;box-sizing: border-box;top: 0;bottom: 0;left: 50%;z-index: -1;}#sk-container-id-1 div.sk-parallel-item {display: flex;flex-direction: column;z-index: 1;position: relative;background-color: white;}#sk-container-id-1 div.sk-parallel-item:first-child::after {align-self: flex-end;width: 50%;}#sk-container-id-1 div.sk-parallel-item:last-child::after {align-self: flex-start;width: 50%;}#sk-container-id-1 div.sk-parallel-item:only-child::after {width: 0;}#sk-container-id-1 div.sk-dashed-wrapped {border: 1px dashed gray;margin: 0 0.4em 0.5em 0.4em;box-sizing: border-box;padding-bottom: 0.4em;background-color: white;}#sk-container-id-1 div.sk-label label {font-family: monospace;font-weight: bold;display: inline-block;line-height: 1.2em;}#sk-container-id-1 div.sk-label-container {text-align: center;}#sk-container-id-1 div.sk-container {/* jupyter's `normalize.less` sets `[hidden] { display: none; }` but bootstrap.min.css set `[hidden] { display: none !important; }` so we also need the `!important` here to be able to override the default hidden behavior on the sphinx rendered scikit-learn.org. See: https://github.com/scikit-learn/scikit-learn/issues/21755 */display: inline-block !important;position: relative;}#sk-container-id-1 div.sk-text-repr-fallback {display: none;}</style><div id=\"sk-container-id-1\" class=\"sk-top-container\"><div class=\"sk-text-repr-fallback\"><pre>Pipeline(steps=[(&#x27;vect&#x27;, CountVectorizer()), (&#x27;tfidf&#x27;, TfidfTransformer()),\n",
              "                (&#x27;clf&#x27;, KNeighborsClassifier())])</pre><b>In a Jupyter environment, please rerun this cell to show the HTML representation or trust the notebook. <br />On GitHub, the HTML representation is unable to render, please try loading this page with nbviewer.org.</b></div><div class=\"sk-container\" hidden><div class=\"sk-item sk-dashed-wrapped\"><div class=\"sk-label-container\"><div class=\"sk-label sk-toggleable\"><input class=\"sk-toggleable__control sk-hidden--visually\" id=\"sk-estimator-id-1\" type=\"checkbox\" ><label for=\"sk-estimator-id-1\" class=\"sk-toggleable__label sk-toggleable__label-arrow\">Pipeline</label><div class=\"sk-toggleable__content\"><pre>Pipeline(steps=[(&#x27;vect&#x27;, CountVectorizer()), (&#x27;tfidf&#x27;, TfidfTransformer()),\n",
              "                (&#x27;clf&#x27;, KNeighborsClassifier())])</pre></div></div></div><div class=\"sk-serial\"><div class=\"sk-item\"><div class=\"sk-estimator sk-toggleable\"><input class=\"sk-toggleable__control sk-hidden--visually\" id=\"sk-estimator-id-2\" type=\"checkbox\" ><label for=\"sk-estimator-id-2\" class=\"sk-toggleable__label sk-toggleable__label-arrow\">CountVectorizer</label><div class=\"sk-toggleable__content\"><pre>CountVectorizer()</pre></div></div></div><div class=\"sk-item\"><div class=\"sk-estimator sk-toggleable\"><input class=\"sk-toggleable__control sk-hidden--visually\" id=\"sk-estimator-id-3\" type=\"checkbox\" ><label for=\"sk-estimator-id-3\" class=\"sk-toggleable__label sk-toggleable__label-arrow\">TfidfTransformer</label><div class=\"sk-toggleable__content\"><pre>TfidfTransformer()</pre></div></div></div><div class=\"sk-item\"><div class=\"sk-estimator sk-toggleable\"><input class=\"sk-toggleable__control sk-hidden--visually\" id=\"sk-estimator-id-4\" type=\"checkbox\" ><label for=\"sk-estimator-id-4\" class=\"sk-toggleable__label sk-toggleable__label-arrow\">KNeighborsClassifier</label><div class=\"sk-toggleable__content\"><pre>KNeighborsClassifier()</pre></div></div></div></div></div></div></div>"
            ]
          },
          "metadata": {},
          "execution_count": 28
        }
      ]
    },
    {
      "cell_type": "markdown",
      "source": [
        "**Accuracy of Dev dataset**"
      ],
      "metadata": {
        "id": "vPd4SUkeNEHq"
      }
    },
    {
      "cell_type": "code",
      "source": [
        "# Predicting our dev data\n",
        "predicted_data = pipeline.predict(dev_set['comment'])\n",
        "print('We got an accuracy of',np.mean(predicted_data == dev_set['subreddit'])*100, '% over the dev data.')"
      ],
      "metadata": {
        "colab": {
          "base_uri": "https://localhost:8080/"
        },
        "id": "oc2nsOcGNCWI",
        "outputId": "941a9640-2cdf-4a1b-9114-22311d0eec3c"
      },
      "execution_count": 51,
      "outputs": [
        {
          "output_type": "stream",
          "name": "stdout",
          "text": [
            "We got an accuracy of 49.3517356754496 % over the dev data.\n"
          ]
        }
      ]
    },
    {
      "cell_type": "markdown",
      "source": [
        "**Accuracy on Test dataset**"
      ],
      "metadata": {
        "id": "rm_AvoodaP0Q"
      }
    },
    {
      "cell_type": "code",
      "source": [
        "# Predicting our test data\n",
        "knn = KNeighborsClassifier(n_neighbors=9)\n",
        "pipeline.fit(knn_train['comment'], knn_train['subreddit'])\n",
        "predicted_data = pipeline.predict(test_set['comment'])\n",
        "print('We got an accuracy of',np.mean(predicted_data == test_set['subreddit'])*100, '% over the test data.')"
      ],
      "metadata": {
        "id": "re8LuPeKM4oj",
        "colab": {
          "base_uri": "https://localhost:8080/"
        },
        "outputId": "3852c50f-cd30-4457-d6d2-4716d9361957"
      },
      "execution_count": 56,
      "outputs": [
        {
          "output_type": "stream",
          "name": "stdout",
          "text": [
            "We got an accuracy of 50.116508334827024 % over the test data.\n"
          ]
        }
      ]
    },
    {
      "cell_type": "code",
      "source": [
        "import seaborn as sns\n",
        "acc=[49.3517356754496,50.116508334827024]\n",
        "label=['Dev Accuracy','Test Accuracy']\n",
        "sns.lineplot(data=None, x=label, y=acc)"
      ],
      "metadata": {
        "colab": {
          "base_uri": "https://localhost:8080/",
          "height": 447
        },
        "id": "vA-UWl_oa-Eb",
        "outputId": "644c75b6-433b-4b35-ba51-cccc53d882a3"
      },
      "execution_count": 33,
      "outputs": [
        {
          "output_type": "execute_result",
          "data": {
            "text/plain": [
              "<Axes: >"
            ]
          },
          "metadata": {},
          "execution_count": 33
        },
        {
          "output_type": "display_data",
          "data": {
            "text/plain": [
              "<Figure size 640x480 with 1 Axes>"
            ],
            "image/png": "[encoded data removed]"
          },
          "metadata": {}
        }
      ]
    },
    {
      "cell_type": "markdown",
      "source": [
        "**SVM Text classifier**"
      ],
      "metadata": {
        "id": "aPu9daGDAZmA"
      }
    },
    {
      "cell_type": "code",
      "source": [
        "X_train,X_remaining, y_train, y_remaining= train_test_split(train_set['comment'],train_set['subreddit'],train_size=0.5,stratify=train_set['subreddit'])\n",
        "X_test, X_dev, y_test, y_dev = train_test_split(X_remaining,y_remaining,test_size=0.3,stratify=y_remaining)\n",
        "train_set=pd.concat([X_train,y_train],axis=1).reset_index(drop=True)\n",
        "dev_set=pd.concat([X_dev,y_dev],axis=1).reset_index(drop=True)\n",
        "test_set=pd.concat([X_test,y_test],axis=1).reset_index(drop=True)\n",
        "print(f\"Train set size:  \",train_set.size)\n",
        "print(f\"Dev set size:  \",dev_set.size)\n",
        "print(f\"Test set size:  \",test_set.size)"
      ],
      "metadata": {
        "colab": {
          "base_uri": "https://localhost:8080/"
        },
        "id": "N1_paB0AOvQG",
        "outputId": "fff8cfea-3705-45cd-c2da-dc96852eb989"
      },
      "execution_count": 24,
      "outputs": [
        {
          "output_type": "stream",
          "name": "stdout",
          "text": [
            "Train set size:   111578\n",
            "Dev set size:   33474\n",
            "Test set size:   78104\n"
          ]
        }
      ]
    },
    {
      "cell_type": "code",
      "source": [
        "from sklearn import svm\n",
        "from sklearn import metrics\n",
        "from sklearn.feature_extraction.text import TfidfVectorizer\n",
        "Tfidf_vect = TfidfVectorizer(max_features=5000)\n",
        "Tfidf_vect.fit(word_dict)\n",
        "Train_X_Tfidf = Tfidf_vect.transform(X_train)\n",
        "Dev_X_Tfidf = Tfidf_vect.transform(X_dev)\n",
        "Test_X_Tfidf = Tfidf_vect.transform(X_test)"
      ],
      "metadata": {
        "id": "KOaElhJ0cwW4"
      },
      "execution_count": 25,
      "outputs": []
    },
    {
      "cell_type": "markdown",
      "source": [
        "**Accuracy on Dev Set**"
      ],
      "metadata": {
        "id": "CiMpt7LaVRLk"
      }
    },
    {
      "cell_type": "code",
      "source": [
        "from sklearn.metrics import accuracy_score\n",
        "linear_svm= svm.SVC(C=1.0, kernel='linear', degree=3, gamma='auto')\n",
        "linear_svm.fit(Train_X_Tfidf,y_train)\n",
        "# predict the labels on validation dataset\n",
        "predictions_SVM = linear_svm.predict(Dev_X_Tfidf)\n",
        "# Use accuracy_score function to get the accuracy\n",
        "print(\"SVM Accuracy Score -> \",accuracy_score(predictions_SVM, y_dev)*100)"
      ],
      "metadata": {
        "colab": {
          "base_uri": "https://localhost:8080/"
        },
        "id": "Hf-5nSOeU0gN",
        "outputId": "45e33e4e-ff9f-424b-f00a-b2ab1244b62e"
      },
      "execution_count": 26,
      "outputs": [
        {
          "output_type": "stream",
          "name": "stdout",
          "text": [
            "SVM Accuracy Score ->  64.93397861026469\n"
          ]
        }
      ]
    },
    {
      "cell_type": "code",
      "source": [
        "rbf_svm= svm.SVC(C=1.0, kernel='rbf', degree=3, gamma='auto')\n",
        "rbf_svm.fit(Train_X_Tfidf,y_train)\n",
        "# predict the labels on validation dataset\n",
        "predictions_SVM = rbf_svm.predict(Dev_X_Tfidf)\n",
        "# Use accuracy_score function to get the accuracy\n",
        "print(\"SVM Accuracy Score -> \",accuracy_score(predictions_SVM, y_dev)*100)"
      ],
      "metadata": {
        "colab": {
          "base_uri": "https://localhost:8080/"
        },
        "id": "DqNh6QT5Ys5j",
        "outputId": "d00e3dd9-c7cd-4e2e-a851-639ca76d0a43"
      },
      "execution_count": 27,
      "outputs": [
        {
          "output_type": "stream",
          "name": "stdout",
          "text": [
            "SVM Accuracy Score ->  48.01935830794049\n"
          ]
        }
      ]
    },
    {
      "cell_type": "markdown",
      "source": [
        "**Accuracy on Test Set**"
      ],
      "metadata": {
        "id": "Dv3GQwRBVTqU"
      }
    },
    {
      "cell_type": "code",
      "source": [
        "from sklearn.metrics import accuracy_score\n",
        "linear_svm= svm.SVC(C=1.0, kernel='linear', degree=3, gamma='auto')\n",
        "linear_svm.fit(Train_X_Tfidf,y_train)\n",
        "# predict the labels on validation dataset\n",
        "predictions_SVM = linear_svm.predict(Test_X_Tfidf)\n",
        "# Use accuracy_score function to get the accuracy\n",
        "print(\"SVM Accuracy Score -> \",accuracy_score(predictions_SVM, y_test)*100)"
      ],
      "metadata": {
        "colab": {
          "base_uri": "https://localhost:8080/"
        },
        "id": "16Yj456VGLbI",
        "outputId": "ea758b6d-a6a0-423a-9a26-ebbd4ef62ff1"
      },
      "execution_count": 34,
      "outputs": [
        {
          "output_type": "stream",
          "name": "stdout",
          "text": [
            "SVM Accuracy Score ->  64.13243879954932\n"
          ]
        }
      ]
    },
    {
      "cell_type": "code",
      "source": [
        "acc=[64.93397861026469,48.01935830794049,64.13243879954932]\n",
        "label=['Dev Kernel=linear','Dev Kernel=rbf','Test Kernel=linear']\n",
        "sns.lineplot(x=label,y=acc)"
      ],
      "metadata": {
        "colab": {
          "base_uri": "https://localhost:8080/",
          "height": 447
        },
        "id": "0Okf3p-olQ1J",
        "outputId": "b46af376-8052-405f-847f-02e3b650f67f"
      },
      "execution_count": 61,
      "outputs": [
        {
          "output_type": "execute_result",
          "data": {
            "text/plain": [
              "<Axes: >"
            ]
          },
          "metadata": {},
          "execution_count": 61
        },
        {
          "output_type": "display_data",
          "data": {
            "text/plain": [
              "<Figure size 640x480 with 1 Axes>"
            ],
            "image/png": "[encoded data removed]"
          },
          "metadata": {}
        }
      ]
    },
    {
      "cell_type": "markdown",
      "source": [
        "**Decision Tree Text classifier**"
      ],
      "metadata": {
        "id": "Qtnm4CzSAhXn"
      }
    },
    {
      "cell_type": "code",
      "source": [
        "from sklearn.tree import DecisionTreeClassifier\n",
        "dc=DecisionTreeClassifier(criterion = \"gini\",random_state = 100,max_depth=3, min_samples_leaf=5)\n",
        "dc.fit(Train_X_Tfidf,y_train)\n",
        "dev_dc=dc.predict(Dev_X_Tfidf)\n",
        "print(\"Accuracy of Dev set:\",metrics.accuracy_score(dev_dc, y_dev)*100)"
      ],
      "metadata": {
        "id": "GX1reL_9d2Iu",
        "colab": {
          "base_uri": "https://localhost:8080/"
        },
        "outputId": "34b6805e-bd9b-41a8-b928-c2ebc9d12d65"
      },
      "execution_count": 36,
      "outputs": [
        {
          "output_type": "stream",
          "name": "stdout",
          "text": [
            "Accuracy of Dev set: 52.69761606022585\n"
          ]
        }
      ]
    },
    {
      "cell_type": "code",
      "source": [
        "from sklearn.tree import DecisionTreeClassifier\n",
        "dc=DecisionTreeClassifier(criterion = \"gini\",random_state = 100,max_depth=6, min_samples_leaf=8)\n",
        "dc.fit(Train_X_Tfidf,y_train)\n",
        "dev_dc=dc.predict(Dev_X_Tfidf)\n",
        "print(\"Accuracy of Dev set:\",metrics.accuracy_score(dev_dc, y_dev)*100)"
      ],
      "metadata": {
        "colab": {
          "base_uri": "https://localhost:8080/"
        },
        "id": "DZNtW01_ipcy",
        "outputId": "276b85ff-532d-4da2-cf06-912a01b239e6"
      },
      "execution_count": 37,
      "outputs": [
        {
          "output_type": "stream",
          "name": "stdout",
          "text": [
            "Accuracy of Dev set: 55.12337933918863\n"
          ]
        }
      ]
    },
    {
      "cell_type": "code",
      "source": [
        "from sklearn.tree import DecisionTreeClassifier\n",
        "dc=DecisionTreeClassifier(criterion = \"gini\",random_state = 100,max_depth=100, min_samples_leaf=10)\n",
        "dc.fit(Train_X_Tfidf,y_train)\n",
        "dev_dc=dc.predict(Dev_X_Tfidf)\n",
        "print(\"Accuracy of Dev set:\",metrics.accuracy_score(dev_dc, y_dev)*100)"
      ],
      "metadata": {
        "colab": {
          "base_uri": "https://localhost:8080/"
        },
        "id": "XlgX9UGviuQK",
        "outputId": "2fc775fa-d7af-4b52-8d5d-8ba556398391"
      },
      "execution_count": 38,
      "outputs": [
        {
          "output_type": "stream",
          "name": "stdout",
          "text": [
            "Accuracy of Dev set: 57.08908406524466\n"
          ]
        }
      ]
    },
    {
      "cell_type": "code",
      "source": [
        "from sklearn.tree import DecisionTreeClassifier\n",
        "dc=DecisionTreeClassifier(criterion = \"gini\",random_state = 100,max_depth=500, min_samples_leaf=15)\n",
        "dc.fit(Train_X_Tfidf,y_train)\n",
        "dev_dc=dc.predict(Dev_X_Tfidf)\n",
        "print(\"Accuracy of Dev set:\",metrics.accuracy_score(dev_dc, y_dev)*100)"
      ],
      "metadata": {
        "colab": {
          "base_uri": "https://localhost:8080/"
        },
        "id": "bnY2p1Jwi3q7",
        "outputId": "d92d1b75-6986-4699-c026-7c58d2ff381e"
      },
      "execution_count": 39,
      "outputs": [
        {
          "output_type": "stream",
          "name": "stdout",
          "text": [
            "Accuracy of Dev set: 58.22429348150804\n"
          ]
        }
      ]
    },
    {
      "cell_type": "code",
      "source": [
        "from sklearn.tree import DecisionTreeClassifier\n",
        "dc=DecisionTreeClassifier(criterion = \"gini\",random_state = 100,max_depth=500, min_samples_leaf=5)\n",
        "dc.fit(Train_X_Tfidf,y_train)\n",
        "dev_dc=dc.predict(Dev_X_Tfidf)\n",
        "print(\"Accuracy of Dev set:\",metrics.accuracy_score(dev_dc, y_dev)*100)"
      ],
      "metadata": {
        "colab": {
          "base_uri": "https://localhost:8080/"
        },
        "id": "PUCxVsJzjBo6",
        "outputId": "b2a182ca-7bec-48bf-c849-e0ea3076c08c"
      },
      "execution_count": 40,
      "outputs": [
        {
          "output_type": "stream",
          "name": "stdout",
          "text": [
            "Accuracy of Dev set: 56.22871482344506\n"
          ]
        }
      ]
    },
    {
      "cell_type": "code",
      "source": [
        "from sklearn.tree import DecisionTreeClassifier\n",
        "dc=DecisionTreeClassifier(criterion = \"gini\",random_state = 100,max_depth=3000, min_samples_leaf=200)\n",
        "dc.fit(Train_X_Tfidf,y_train)\n",
        "dev_dc=dc.predict(Dev_X_Tfidf)\n",
        "print(\"Accuracy of Dev set:\",metrics.accuracy_score(dev_dc, y_dev)*100)"
      ],
      "metadata": {
        "colab": {
          "base_uri": "https://localhost:8080/"
        },
        "id": "XJ2Jm6RbjM5p",
        "outputId": "b98fd63d-87e3-488c-8471-2d1671e28a1f"
      },
      "execution_count": 48,
      "outputs": [
        {
          "output_type": "stream",
          "name": "stdout",
          "text": [
            "Accuracy of Dev set: 59.41327597538388\n"
          ]
        }
      ]
    },
    {
      "cell_type": "markdown",
      "source": [
        "**Test Accuracy**"
      ],
      "metadata": {
        "id": "txUvLrfrjqxb"
      }
    },
    {
      "cell_type": "code",
      "source": [
        "from sklearn.tree import DecisionTreeClassifier\n",
        "dc=DecisionTreeClassifier(criterion = \"gini\",random_state = 100,max_depth=3000, min_samples_leaf=200)\n",
        "dc.fit(Train_X_Tfidf,y_train)\n",
        "test_dc=dc.predict(Test_X_Tfidf)\n",
        "print(\"Accuracy of Test set:\",metrics.accuracy_score(test_dc, y_test)*100)"
      ],
      "metadata": {
        "id": "YGXIeFFJd_FG",
        "colab": {
          "base_uri": "https://localhost:8080/"
        },
        "outputId": "c85e2c9b-356b-4f2f-a197-ed2d8dc385bf"
      },
      "execution_count": 49,
      "outputs": [
        {
          "output_type": "stream",
          "name": "stdout",
          "text": [
            "Accuracy of Test set: 59.093004199528835\n"
          ]
        }
      ]
    },
    {
      "cell_type": "code",
      "source": [
        "acc=[52.69761606022585,55.12337933918863,57.08908406524466,58.22429348150804,56.22871482344506,59.41327597538388,59.093004199528835]\n",
        "label=['Devacc [3,5]','[6,8]','[100,10]','[500,15]','[500,5]','[3000,200]','           Test[3000,200]']\n",
        "sns.lineplot(x=label,y=acc)"
      ],
      "metadata": {
        "colab": {
          "base_uri": "https://localhost:8080/",
          "height": 447
        },
        "id": "iNhpzxhvllSy",
        "outputId": "eded7da2-f597-4194-a52c-23f265cbd60f"
      },
      "execution_count": 76,
      "outputs": [
        {
          "output_type": "execute_result",
          "data": {
            "text/plain": [
              "<Axes: >"
            ]
          },
          "metadata": {},
          "execution_count": 76
        },
        {
          "output_type": "display_data",
          "data": {
            "text/plain": [
              "<Figure size 640x480 with 1 Axes>"
            ],
            "image/png": "[encoded data removed]"
          },
          "metadata": {}
        }
      ]
    },
    {
      "cell_type": "markdown",
      "source": [
        "**Logistic Regression classifier**"
      ],
      "metadata": {
        "id": "BLJpaZE-jvDa"
      }
    },
    {
      "cell_type": "markdown",
      "source": [
        "**Accuracy of Dev set**"
      ],
      "metadata": {
        "id": "eb1Z2028kQ5p"
      }
    },
    {
      "cell_type": "code",
      "source": [
        "from sklearn import linear_model\n",
        "lr_model= linear_model.LogisticRegression(max_iter=1000)  \n",
        "lr_model.fit(Train_X_Tfidf,y_train)  \n",
        "predictions_lr = lr_model.predict(Dev_X_Tfidf)\n",
        "print(\"Accuracy of Dev set:\",metrics.accuracy_score(y_dev,predictions_lr)*100)"
      ],
      "metadata": {
        "colab": {
          "base_uri": "https://localhost:8080/"
        },
        "id": "LOcsZSpbjxub",
        "outputId": "e02459ef-94b7-4202-df51-7d6933973d3e"
      },
      "execution_count": 52,
      "outputs": [
        {
          "output_type": "stream",
          "name": "stdout",
          "text": [
            "Accuracy of Dev set: 65.1430961343132\n"
          ]
        }
      ]
    },
    {
      "cell_type": "code",
      "source": [
        "from sklearn import linear_model\n",
        "lr_model= linear_model.LogisticRegression(max_iter=10000)  \n",
        "lr_model.fit(Train_X_Tfidf,y_train)  \n",
        "predictions_lr = lr_model.predict(Dev_X_Tfidf)\n",
        "print(\"Accuracy of Dev set:\",metrics.accuracy_score(y_dev,predictions_lr)*100)"
      ],
      "metadata": {
        "colab": {
          "base_uri": "https://localhost:8080/"
        },
        "id": "phPJxZb0kNRh",
        "outputId": "01314587-d13e-43e7-dbf5-6e5dd99da993"
      },
      "execution_count": 54,
      "outputs": [
        {
          "output_type": "stream",
          "name": "stdout",
          "text": [
            "Accuracy of Dev set: 65.1430961343132\n"
          ]
        }
      ]
    },
    {
      "cell_type": "markdown",
      "source": [],
      "metadata": {
        "id": "JpFoWUPwkU4x"
      }
    },
    {
      "cell_type": "code",
      "source": [
        "from sklearn import linear_model\n",
        "lr_model= linear_model.LogisticRegression(max_iter=10000)  \n",
        "lr_model.fit(Train_X_Tfidf,y_train)  \n",
        "predictions_lr = lr_model.predict(Test_X_Tfidf)\n",
        "print(\"Accuracy of Test set:\",metrics.accuracy_score(y_test,predictions_lr)*100)"
      ],
      "metadata": {
        "colab": {
          "base_uri": "https://localhost:8080/"
        },
        "id": "QZ0yks1Oj-cJ",
        "outputId": "d0db23e1-024c-48be-d34c-a984510422db"
      },
      "execution_count": 56,
      "outputs": [
        {
          "output_type": "stream",
          "name": "stdout",
          "text": [
            "Accuracy of Test set: 64.40899313735532\n"
          ]
        }
      ]
    },
    {
      "cell_type": "code",
      "source": [
        "acc=[65.1430961343132,65.1430961343132,64.40899313735532]\n",
        "labels=['Dev iter=1000','Dev iter=10000','Test iter=10000']\n",
        "sns.lineplot(x=labels,y=acc)"
      ],
      "metadata": {
        "colab": {
          "base_uri": "https://localhost:8080/",
          "height": 447
        },
        "id": "_uUObRA4nbJU",
        "outputId": "60dd1984-b7e1-4758-9aee-157fdb664d7d"
      },
      "execution_count": 78,
      "outputs": [
        {
          "output_type": "execute_result",
          "data": {
            "text/plain": [
              "<Axes: >"
            ]
          },
          "metadata": {},
          "execution_count": 78
        },
        {
          "output_type": "display_data",
          "data": {
            "text/plain": [
              "<Figure size 640x480 with 1 Axes>"
            ],
            "image/png": "[encoded data removed]"
          },
          "metadata": {}
        }
      ]
    },
    {
      "cell_type": "markdown",
      "source": [
        "**Random Forest classifier**"
      ],
      "metadata": {
        "id": "ABaqs-fzklKx"
      }
    },
    {
      "cell_type": "code",
      "source": [
        "from sklearn.ensemble import RandomForestClassifier\n",
        "model = RandomForestClassifier(n_estimators=100, max_depth=5, random_state=1)\n",
        "model.fit(Train_X_Tfidf,y_train)\n",
        "predictions_rf = model.predict(Dev_X_Tfidf)\n",
        "print(\"Accuracy of Dev set:\",metrics.accuracy_score(y_dev,predictions_rf)*100)"
      ],
      "metadata": {
        "colab": {
          "base_uri": "https://localhost:8080/"
        },
        "id": "Wm9xaqxVkrV4",
        "outputId": "3360a8a4-32bc-47d3-cb5b-c7ef0e1103b0"
      },
      "execution_count": 58,
      "outputs": [
        {
          "output_type": "stream",
          "name": "stdout",
          "text": [
            "Accuracy of Dev set: 53.52811137001853\n"
          ]
        }
      ]
    },
    {
      "cell_type": "code",
      "source": [
        "from sklearn.ensemble import RandomForestClassifier\n",
        "model = RandomForestClassifier(n_estimators=1000, max_depth=5, random_state=1)\n",
        "model.fit(Train_X_Tfidf,y_train)\n",
        "predictions_rf = model.predict(Dev_X_Tfidf)\n",
        "print(\"Accuracy of Dev set:\",metrics.accuracy_score(y_dev,predictions_rf)*100)"
      ],
      "metadata": {
        "colab": {
          "base_uri": "https://localhost:8080/"
        },
        "id": "4k_yyJnGk8di",
        "outputId": "b16990f6-e35d-4186-8e3d-bb159e39de40"
      },
      "execution_count": 59,
      "outputs": [
        {
          "output_type": "stream",
          "name": "stdout",
          "text": [
            "Accuracy of Dev set: 53.74917846686981\n"
          ]
        }
      ]
    },
    {
      "cell_type": "markdown",
      "source": [
        "**Test accuracy**"
      ],
      "metadata": {
        "id": "OzNKbm_SlCVU"
      }
    },
    {
      "cell_type": "code",
      "source": [
        "from sklearn.ensemble import RandomForestClassifier\n",
        "model = RandomForestClassifier(n_estimators=1000, max_depth=5, random_state=1)\n",
        "model.fit(Train_X_Tfidf,y_train)\n",
        "predictions_rf = model.predict(Test_X_Tfidf)\n",
        "print(\"Accuracy of Test set:\",metrics.accuracy_score(y_test,predictions_rf)*100)"
      ],
      "metadata": {
        "colab": {
          "base_uri": "https://localhost:8080/"
        },
        "id": "xUMQ--d_lFEj",
        "outputId": "f14623be-7bd9-4527-b86a-6e9e54738520"
      },
      "execution_count": 60,
      "outputs": [
        {
          "output_type": "stream",
          "name": "stdout",
          "text": [
            "Accuracy of Test set: 53.44924715763597\n"
          ]
        }
      ]
    },
    {
      "cell_type": "code",
      "source": [
        "acc=[53.52811137001853,53.74917846686981,53.44924715763597]\n",
        "labels=['dev est=100','dev est=1000','test est=1000']\n",
        "sns.lineplot(x=labels,y=acc)"
      ],
      "metadata": {
        "colab": {
          "base_uri": "https://localhost:8080/",
          "height": 447
        },
        "id": "g-cmEj6pnuhA",
        "outputId": "4936c96b-1ff1-43cf-8e93-87f82962cdc5"
      },
      "execution_count": 79,
      "outputs": [
        {
          "output_type": "execute_result",
          "data": {
            "text/plain": [
              "<Axes: >"
            ]
          },
          "metadata": {},
          "execution_count": 79
        },
        {
          "output_type": "display_data",
          "data": {
            "text/plain": [
              "<Figure size 640x480 with 1 Axes>"
            ],
            "image/png": "[encoded data removed]"
          },
          "metadata": {}
        }
      ]
    },
    {
      "cell_type": "markdown",
      "source": [
        "**Accuracies of all classifiers**"
      ],
      "metadata": {
        "id": "VpxyH-4uohvN"
      }
    },
    {
      "cell_type": "code",
      "source": [
        "acc=[43.279091502682215,50.116508334827024,64.13243879954932,59.093004199528835,64.40899313735532,53.44924715763597]\n",
        "labels=['NaiveBayes','KNN','SVM','DecTree','LogRegr','   RandomForest']\n",
        "sns.barplot(x=labels,y=acc)"
      ],
      "metadata": {
        "colab": {
          "base_uri": "https://localhost:8080/",
          "height": 447
        },
        "id": "zNeTJ3YVokGJ",
        "outputId": "6e741ed5-9ec1-4adc-cd11-b7c2b09217d7"
      },
      "execution_count": 81,
      "outputs": [
        {
          "output_type": "execute_result",
          "data": {
            "text/plain": [
              "<Axes: >"
            ]
          },
          "metadata": {},
          "execution_count": 81
        },
        {
          "output_type": "display_data",
          "data": {
            "text/plain": [
              "<Figure size 640x480 with 1 Axes>"
            ],
            "image/png": "[encoded data removed]"
          },
          "metadata": {}
        }
      ]
    }
  ]
}