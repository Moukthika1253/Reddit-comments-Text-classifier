{
  "nbformat": 4,
  "nbformat_minor": 0,
  "metadata": {
    "colab": {
      "provenance": [],
      "gpuType": "T4",
      "authorship_tag": "ABX9TyOzaE2DGt1noD3/5AXCg4Bh",
      "include_colab_link": true
    },
    "kernelspec": {
      "name": "python3",
      "display_name": "Python 3"
    },
    "language_info": {
      "name": "python"
    },
    "accelerator": "GPU",
    "gpuClass": "standard"
  },
  "cells": [
    {
      "cell_type": "markdown",
      "metadata": {
        "id": "view-in-github",
        "colab_type": "text"
      },
      "source": [
        "<a href=\"https://colab.research.google.com/github/Moukthika1253/Reddit-comments-text-classifier/blob/main/SubReddit_category_text_classifier.ipynb\" target=\"_parent\"><img src=\"https://colab.research.google.com/assets/colab-badge.svg\" alt=\"Open In Colab\"/></a>"
      ]
    },
    {
      "cell_type": "markdown",
      "source": [
        "**Loading dataset**"
      ],
      "metadata": {
        "id": "H_H_y_ANBd1-"
      }
    },
    {
      "cell_type": "code",
      "source": [
        "import pandas as pd\n",
        "post_df=pd.read_csv('/content/Top_Posts.csv')\n",
        "comment_df=pd.read_csv('/content/Top_Posts_Comments.csv')"
      ],
      "metadata": {
        "id": "wjN7FwT17oW5"
      },
      "execution_count": 1,
      "outputs": []
    },
    {
      "cell_type": "code",
      "source": [
        "post_df.head()"
      ],
      "metadata": {
        "colab": {
          "base_uri": "https://localhost:8080/",
          "height": 617
        },
        "id": "V79L73DD6dbM",
        "outputId": "fbcf7e41-225d-4391-d92e-8aafb96fb5cb"
      },
      "execution_count": 2,
      "outputs": [
        {
          "output_type": "execute_result",
          "data": {
            "text/plain": [
              "  post_id                                         post_title        subreddit  \\\n",
              "0  gh1dj9  [Project] From books to presentations in 10s w...  MachineLearning   \n",
              "1  kuc6tz  [D] A Demo from 1993 of 32-year-old Yann LeCun...  MachineLearning   \n",
              "2  g7nfvb  [R] First Order Motion Model applied to animat...  MachineLearning   \n",
              "3  lui92h  [N] AI can turn old photos into moving Images ...  MachineLearning   \n",
              "4  ohxnts  [D] This AI reveals how much time politicians ...  MachineLearning   \n",
              "\n",
              "                              post_url  flair_text  score  comments  \\\n",
              "0      https://v.redd.it/v492uoheuxx41     Project   7798       186   \n",
              "1      https://v.redd.it/25nxi9ojfha61  Discussion   5851       133   \n",
              "2      https://v.redd.it/rlmmjm1q5wu41    Research   4761       111   \n",
              "3      https://v.redd.it/ikd5gjlbi8k61        News   4688       230   \n",
              "4  https://i.redd.it/34sgziebfia71.jpg  Discussion   4568       228   \n",
              "\n",
              "   upvote_ratio            date-time  year  \n",
              "0          0.99  2020-05-10 13:19:54  2020  \n",
              "1          0.98  2021-01-10 10:30:36  2021  \n",
              "2          0.97  2020-04-25 04:27:23  2020  \n",
              "3          0.97  2021-02-28 15:12:28  2021  \n",
              "4          0.96  2021-07-11 04:18:59  2021  "
            ],
            "text/html": [
              "\n",
              "  <div id=\"df-5e6b20d9-7536-4175-82c6-bce94f4f0304\">\n",
              "    <div class=\"colab-df-container\">\n",
              "      <div>\n",
              "<style scoped>\n",
              "    .dataframe tbody tr th:only-of-type {\n",
              "        vertical-align: middle;\n",
              "    }\n",
              "\n",
              "    .dataframe tbody tr th {\n",
              "        vertical-align: top;\n",
              "    }\n",
              "\n",
              "    .dataframe thead th {\n",
              "        text-align: right;\n",
              "    }\n",
              "</style>\n",
              "<table border=\"1\" class=\"dataframe\">\n",
              "  <thead>\n",
              "    <tr style=\"text-align: right;\">\n",
              "      <th></th>\n",
              "      <th>post_id</th>\n",
              "      <th>post_title</th>\n",
              "      <th>subreddit</th>\n",
              "      <th>post_url</th>\n",
              "      <th>flair_text</th>\n",
              "      <th>score</th>\n",
              "      <th>comments</th>\n",
              "      <th>upvote_ratio</th>\n",
              "      <th>date-time</th>\n",
              "      <th>year</th>\n",
              "    </tr>\n",
              "  </thead>\n",
              "  <tbody>\n",
              "    <tr>\n",
              "      <th>0</th>\n",
              "      <td>gh1dj9</td>\n",
              "      <td>[Project] From books to presentations in 10s w...</td>\n",
              "      <td>MachineLearning</td>\n",
              "      <td>https://v.redd.it/v492uoheuxx41</td>\n",
              "      <td>Project</td>\n",
              "      <td>7798</td>\n",
              "      <td>186</td>\n",
              "      <td>0.99</td>\n",
              "      <td>2020-05-10 13:19:54</td>\n",
              "      <td>2020</td>\n",
              "    </tr>\n",
              "    <tr>\n",
              "      <th>1</th>\n",
              "      <td>kuc6tz</td>\n",
              "      <td>[D] A Demo from 1993 of 32-year-old Yann LeCun...</td>\n",
              "      <td>MachineLearning</td>\n",
              "      <td>https://v.redd.it/25nxi9ojfha61</td>\n",
              "      <td>Discussion</td>\n",
              "      <td>5851</td>\n",
              "      <td>133</td>\n",
              "      <td>0.98</td>\n",
              "      <td>2021-01-10 10:30:36</td>\n",
              "      <td>2021</td>\n",
              "    </tr>\n",
              "    <tr>\n",
              "      <th>2</th>\n",
              "      <td>g7nfvb</td>\n",
              "      <td>[R] First Order Motion Model applied to animat...</td>\n",
              "      <td>MachineLearning</td>\n",
              "      <td>https://v.redd.it/rlmmjm1q5wu41</td>\n",
              "      <td>Research</td>\n",
              "      <td>4761</td>\n",
              "      <td>111</td>\n",
              "      <td>0.97</td>\n",
              "      <td>2020-04-25 04:27:23</td>\n",
              "      <td>2020</td>\n",
              "    </tr>\n",
              "    <tr>\n",
              "      <th>3</th>\n",
              "      <td>lui92h</td>\n",
              "      <td>[N] AI can turn old photos into moving Images ...</td>\n",
              "      <td>MachineLearning</td>\n",
              "      <td>https://v.redd.it/ikd5gjlbi8k61</td>\n",
              "      <td>News</td>\n",
              "      <td>4688</td>\n",
              "      <td>230</td>\n",
              "      <td>0.97</td>\n",
              "      <td>2021-02-28 15:12:28</td>\n",
              "      <td>2021</td>\n",
              "    </tr>\n",
              "    <tr>\n",
              "      <th>4</th>\n",
              "      <td>ohxnts</td>\n",
              "      <td>[D] This AI reveals how much time politicians ...</td>\n",
              "      <td>MachineLearning</td>\n",
              "      <td>https://i.redd.it/34sgziebfia71.jpg</td>\n",
              "      <td>Discussion</td>\n",
              "      <td>4568</td>\n",
              "      <td>228</td>\n",
              "      <td>0.96</td>\n",
              "      <td>2021-07-11 04:18:59</td>\n",
              "      <td>2021</td>\n",
              "    </tr>\n",
              "  </tbody>\n",
              "</table>\n",
              "</div>\n",
              "      <button class=\"colab-df-convert\" onclick=\"convertToInteractive('df-5e6b20d9-7536-4175-82c6-bce94f4f0304')\"\n",
              "              title=\"Convert this dataframe to an interactive table.\"\n",
              "              style=\"display:none;\">\n",
              "        \n",
              "  <svg xmlns=\"http://www.w3.org/2000/svg\" height=\"24px\"viewBox=\"0 0 24 24\"\n",
              "       width=\"24px\">\n",
              "    <path d=\"M0 0h24v24H0V0z\" fill=\"none\"/>\n",
              "    <path d=\"M18.56 5.44l.94 2.06.94-2.06 2.06-.94-2.06-.94-.94-2.06-.94 2.06-2.06.94zm-11 1L8.5 8.5l.94-2.06 2.06-.94-2.06-.94L8.5 2.5l-.94 2.06-2.06.94zm10 10l.94 2.06.94-2.06 2.06-.94-2.06-.94-.94-2.06-.94 2.06-2.06.94z\"/><path d=\"M17.41 7.96l-1.37-1.37c-.4-.4-.92-.59-1.43-.59-.52 0-1.04.2-1.43.59L10.3 9.45l-7.72 7.72c-.78.78-.78 2.05 0 2.83L4 21.41c.39.39.9.59 1.41.59.51 0 1.02-.2 1.41-.59l7.78-7.78 2.81-2.81c.8-.78.8-2.07 0-2.86zM5.41 20L4 18.59l7.72-7.72 1.47 1.35L5.41 20z\"/>\n",
              "  </svg>\n",
              "      </button>\n",
              "      \n",
              "  <style>\n",
              "    .colab-df-container {\n",
              "      display:flex;\n",
              "      flex-wrap:wrap;\n",
              "      gap: 12px;\n",
              "    }\n",
              "\n",
              "    .colab-df-convert {\n",
              "      background-color: #E8F0FE;\n",
              "      border: none;\n",
              "      border-radius: 50%;\n",
              "      cursor: pointer;\n",
              "      display: none;\n",
              "      fill: #1967D2;\n",
              "      height: 32px;\n",
              "      padding: 0 0 0 0;\n",
              "      width: 32px;\n",
              "    }\n",
              "\n",
              "    .colab-df-convert:hover {\n",
              "      background-color: #E2EBFA;\n",
              "      box-shadow: 0px 1px 2px rgba(60, 64, 67, 0.3), 0px 1px 3px 1px rgba(60, 64, 67, 0.15);\n",
              "      fill: #174EA6;\n",
              "    }\n",
              "\n",
              "    [theme=dark] .colab-df-convert {\n",
              "      background-color: #3B4455;\n",
              "      fill: #D2E3FC;\n",
              "    }\n",
              "\n",
              "    [theme=dark] .colab-df-convert:hover {\n",
              "      background-color: #434B5C;\n",
              "      box-shadow: 0px 1px 3px 1px rgba(0, 0, 0, 0.15);\n",
              "      filter: drop-shadow(0px 1px 2px rgba(0, 0, 0, 0.3));\n",
              "      fill: #FFFFFF;\n",
              "    }\n",
              "  </style>\n",
              "\n",
              "      <script>\n",
              "        const buttonEl =\n",
              "          document.querySelector('#df-5e6b20d9-7536-4175-82c6-bce94f4f0304 button.colab-df-convert');\n",
              "        buttonEl.style.display =\n",
              "          google.colab.kernel.accessAllowed ? 'block' : 'none';\n",
              "\n",
              "        async function convertToInteractive(key) {\n",
              "          const element = document.querySelector('#df-5e6b20d9-7536-4175-82c6-bce94f4f0304');\n",
              "          const dataTable =\n",
              "            await google.colab.kernel.invokeFunction('convertToInteractive',\n",
              "                                                     [key], {});\n",
              "          if (!dataTable) return;\n",
              "\n",
              "          const docLinkHtml = 'Like what you see? Visit the ' +\n",
              "            '<a target=\"_blank\" href=https://colab.research.google.com/notebooks/data_table.ipynb>data table notebook</a>'\n",
              "            + ' to learn more about interactive tables.';\n",
              "          element.innerHTML = '';\n",
              "          dataTable['output_type'] = 'display_data';\n",
              "          await google.colab.output.renderOutput(dataTable, element);\n",
              "          const docLink = document.createElement('div');\n",
              "          docLink.innerHTML = docLinkHtml;\n",
              "          element.appendChild(docLink);\n",
              "        }\n",
              "      </script>\n",
              "    </div>\n",
              "  </div>\n",
              "  "
            ]
          },
          "metadata": {},
          "execution_count": 2
        }
      ]
    },
    {
      "cell_type": "code",
      "source": [
        "comment_df.head()"
      ],
      "metadata": {
        "colab": {
          "base_uri": "https://localhost:8080/",
          "height": 206
        },
        "id": "rdvF2Bpz8JET",
        "outputId": "048b4edd-2e03-4199-b343-479cc8aa4e60"
      },
      "execution_count": 4,
      "outputs": [
        {
          "output_type": "execute_result",
          "data": {
            "text/plain": [
              "  post_id                                            comment\n",
              "0  gh1dj9  Twitter thread: [https://twitter.com/cyrildiag...\n",
              "1  gh1dj9                                       The future 🤯\n",
              "2  gh1dj9  Simple yet very useful. Thank you for sharing ...\n",
              "3  gh1dj9  Almost guaranteed, Apple will copy your idea i...\n",
              "4  gh1dj9  Ohh the nightmare of making this into a stable..."
            ],
            "text/html": [
              "\n",
              "  <div id=\"df-e998a1fa-fe75-446e-b563-aeeaab467d8e\">\n",
              "    <div class=\"colab-df-container\">\n",
              "      <div>\n",
              "<style scoped>\n",
              "    .dataframe tbody tr th:only-of-type {\n",
              "        vertical-align: middle;\n",
              "    }\n",
              "\n",
              "    .dataframe tbody tr th {\n",
              "        vertical-align: top;\n",
              "    }\n",
              "\n",
              "    .dataframe thead th {\n",
              "        text-align: right;\n",
              "    }\n",
              "</style>\n",
              "<table border=\"1\" class=\"dataframe\">\n",
              "  <thead>\n",
              "    <tr style=\"text-align: right;\">\n",
              "      <th></th>\n",
              "      <th>post_id</th>\n",
              "      <th>comment</th>\n",
              "    </tr>\n",
              "  </thead>\n",
              "  <tbody>\n",
              "    <tr>\n",
              "      <th>0</th>\n",
              "      <td>gh1dj9</td>\n",
              "      <td>Twitter thread: [https://twitter.com/cyrildiag...</td>\n",
              "    </tr>\n",
              "    <tr>\n",
              "      <th>1</th>\n",
              "      <td>gh1dj9</td>\n",
              "      <td>The future 🤯</td>\n",
              "    </tr>\n",
              "    <tr>\n",
              "      <th>2</th>\n",
              "      <td>gh1dj9</td>\n",
              "      <td>Simple yet very useful. Thank you for sharing ...</td>\n",
              "    </tr>\n",
              "    <tr>\n",
              "      <th>3</th>\n",
              "      <td>gh1dj9</td>\n",
              "      <td>Almost guaranteed, Apple will copy your idea i...</td>\n",
              "    </tr>\n",
              "    <tr>\n",
              "      <th>4</th>\n",
              "      <td>gh1dj9</td>\n",
              "      <td>Ohh the nightmare of making this into a stable...</td>\n",
              "    </tr>\n",
              "  </tbody>\n",
              "</table>\n",
              "</div>\n",
              "      <button class=\"colab-df-convert\" onclick=\"convertToInteractive('df-e998a1fa-fe75-446e-b563-aeeaab467d8e')\"\n",
              "              title=\"Convert this dataframe to an interactive table.\"\n",
              "              style=\"display:none;\">\n",
              "        \n",
              "  <svg xmlns=\"http://www.w3.org/2000/svg\" height=\"24px\"viewBox=\"0 0 24 24\"\n",
              "       width=\"24px\">\n",
              "    <path d=\"M0 0h24v24H0V0z\" fill=\"none\"/>\n",
              "    <path d=\"M18.56 5.44l.94 2.06.94-2.06 2.06-.94-2.06-.94-.94-2.06-.94 2.06-2.06.94zm-11 1L8.5 8.5l.94-2.06 2.06-.94-2.06-.94L8.5 2.5l-.94 2.06-2.06.94zm10 10l.94 2.06.94-2.06 2.06-.94-2.06-.94-.94-2.06-.94 2.06-2.06.94z\"/><path d=\"M17.41 7.96l-1.37-1.37c-.4-.4-.92-.59-1.43-.59-.52 0-1.04.2-1.43.59L10.3 9.45l-7.72 7.72c-.78.78-.78 2.05 0 2.83L4 21.41c.39.39.9.59 1.41.59.51 0 1.02-.2 1.41-.59l7.78-7.78 2.81-2.81c.8-.78.8-2.07 0-2.86zM5.41 20L4 18.59l7.72-7.72 1.47 1.35L5.41 20z\"/>\n",
              "  </svg>\n",
              "      </button>\n",
              "      \n",
              "  <style>\n",
              "    .colab-df-container {\n",
              "      display:flex;\n",
              "      flex-wrap:wrap;\n",
              "      gap: 12px;\n",
              "    }\n",
              "\n",
              "    .colab-df-convert {\n",
              "      background-color: #E8F0FE;\n",
              "      border: none;\n",
              "      border-radius: 50%;\n",
              "      cursor: pointer;\n",
              "      display: none;\n",
              "      fill: #1967D2;\n",
              "      height: 32px;\n",
              "      padding: 0 0 0 0;\n",
              "      width: 32px;\n",
              "    }\n",
              "\n",
              "    .colab-df-convert:hover {\n",
              "      background-color: #E2EBFA;\n",
              "      box-shadow: 0px 1px 2px rgba(60, 64, 67, 0.3), 0px 1px 3px 1px rgba(60, 64, 67, 0.15);\n",
              "      fill: #174EA6;\n",
              "    }\n",
              "\n",
              "    [theme=dark] .colab-df-convert {\n",
              "      background-color: #3B4455;\n",
              "      fill: #D2E3FC;\n",
              "    }\n",
              "\n",
              "    [theme=dark] .colab-df-convert:hover {\n",
              "      background-color: #434B5C;\n",
              "      box-shadow: 0px 1px 3px 1px rgba(0, 0, 0, 0.15);\n",
              "      filter: drop-shadow(0px 1px 2px rgba(0, 0, 0, 0.3));\n",
              "      fill: #FFFFFF;\n",
              "    }\n",
              "  </style>\n",
              "\n",
              "      <script>\n",
              "        const buttonEl =\n",
              "          document.querySelector('#df-e998a1fa-fe75-446e-b563-aeeaab467d8e button.colab-df-convert');\n",
              "        buttonEl.style.display =\n",
              "          google.colab.kernel.accessAllowed ? 'block' : 'none';\n",
              "\n",
              "        async function convertToInteractive(key) {\n",
              "          const element = document.querySelector('#df-e998a1fa-fe75-446e-b563-aeeaab467d8e');\n",
              "          const dataTable =\n",
              "            await google.colab.kernel.invokeFunction('convertToInteractive',\n",
              "                                                     [key], {});\n",
              "          if (!dataTable) return;\n",
              "\n",
              "          const docLinkHtml = 'Like what you see? Visit the ' +\n",
              "            '<a target=\"_blank\" href=https://colab.research.google.com/notebooks/data_table.ipynb>data table notebook</a>'\n",
              "            + ' to learn more about interactive tables.';\n",
              "          element.innerHTML = '';\n",
              "          dataTable['output_type'] = 'display_data';\n",
              "          await google.colab.output.renderOutput(dataTable, element);\n",
              "          const docLink = document.createElement('div');\n",
              "          docLink.innerHTML = docLinkHtml;\n",
              "          element.appendChild(docLink);\n",
              "        }\n",
              "      </script>\n",
              "    </div>\n",
              "  </div>\n",
              "  "
            ]
          },
          "metadata": {},
          "execution_count": 4
        }
      ]
    },
    {
      "cell_type": "code",
      "source": [
        "post_comment_df=pd.merge(post_df,comment_df,how='inner',on='post_id')\n",
        "post_comment_df.head()"
      ],
      "metadata": {
        "colab": {
          "base_uri": "https://localhost:8080/",
          "height": 635
        },
        "id": "ke-ptUfD8NCC",
        "outputId": "97d51b1a-695a-41bb-a22a-9b07686d2a79"
      },
      "execution_count": 3,
      "outputs": [
        {
          "output_type": "execute_result",
          "data": {
            "text/plain": [
              "  post_id                                         post_title        subreddit  \\\n",
              "0  gh1dj9  [Project] From books to presentations in 10s w...  MachineLearning   \n",
              "1  gh1dj9  [Project] From books to presentations in 10s w...  MachineLearning   \n",
              "2  gh1dj9  [Project] From books to presentations in 10s w...  MachineLearning   \n",
              "3  gh1dj9  [Project] From books to presentations in 10s w...  MachineLearning   \n",
              "4  gh1dj9  [Project] From books to presentations in 10s w...  MachineLearning   \n",
              "\n",
              "                          post_url flair_text  score  comments  upvote_ratio  \\\n",
              "0  https://v.redd.it/v492uoheuxx41    Project   7798       186          0.99   \n",
              "1  https://v.redd.it/v492uoheuxx41    Project   7798       186          0.99   \n",
              "2  https://v.redd.it/v492uoheuxx41    Project   7798       186          0.99   \n",
              "3  https://v.redd.it/v492uoheuxx41    Project   7798       186          0.99   \n",
              "4  https://v.redd.it/v492uoheuxx41    Project   7798       186          0.99   \n",
              "\n",
              "             date-time  year  \\\n",
              "0  2020-05-10 13:19:54  2020   \n",
              "1  2020-05-10 13:19:54  2020   \n",
              "2  2020-05-10 13:19:54  2020   \n",
              "3  2020-05-10 13:19:54  2020   \n",
              "4  2020-05-10 13:19:54  2020   \n",
              "\n",
              "                                             comment  \n",
              "0  Twitter thread: [https://twitter.com/cyrildiag...  \n",
              "1                                       The future 🤯  \n",
              "2  Simple yet very useful. Thank you for sharing ...  \n",
              "3  Almost guaranteed, Apple will copy your idea i...  \n",
              "4  Ohh the nightmare of making this into a stable...  "
            ],
            "text/html": [
              "\n",
              "  <div id=\"df-f1230348-e9f7-4cc0-985c-80995d3c517c\">\n",
              "    <div class=\"colab-df-container\">\n",
              "      <div>\n",
              "<style scoped>\n",
              "    .dataframe tbody tr th:only-of-type {\n",
              "        vertical-align: middle;\n",
              "    }\n",
              "\n",
              "    .dataframe tbody tr th {\n",
              "        vertical-align: top;\n",
              "    }\n",
              "\n",
              "    .dataframe thead th {\n",
              "        text-align: right;\n",
              "    }\n",
              "</style>\n",
              "<table border=\"1\" class=\"dataframe\">\n",
              "  <thead>\n",
              "    <tr style=\"text-align: right;\">\n",
              "      <th></th>\n",
              "      <th>post_id</th>\n",
              "      <th>post_title</th>\n",
              "      <th>subreddit</th>\n",
              "      <th>post_url</th>\n",
              "      <th>flair_text</th>\n",
              "      <th>score</th>\n",
              "      <th>comments</th>\n",
              "      <th>upvote_ratio</th>\n",
              "      <th>date-time</th>\n",
              "      <th>year</th>\n",
              "      <th>comment</th>\n",
              "    </tr>\n",
              "  </thead>\n",
              "  <tbody>\n",
              "    <tr>\n",
              "      <th>0</th>\n",
              "      <td>gh1dj9</td>\n",
              "      <td>[Project] From books to presentations in 10s w...</td>\n",
              "      <td>MachineLearning</td>\n",
              "      <td>https://v.redd.it/v492uoheuxx41</td>\n",
              "      <td>Project</td>\n",
              "      <td>7798</td>\n",
              "      <td>186</td>\n",
              "      <td>0.99</td>\n",
              "      <td>2020-05-10 13:19:54</td>\n",
              "      <td>2020</td>\n",
              "      <td>Twitter thread: [https://twitter.com/cyrildiag...</td>\n",
              "    </tr>\n",
              "    <tr>\n",
              "      <th>1</th>\n",
              "      <td>gh1dj9</td>\n",
              "      <td>[Project] From books to presentations in 10s w...</td>\n",
              "      <td>MachineLearning</td>\n",
              "      <td>https://v.redd.it/v492uoheuxx41</td>\n",
              "      <td>Project</td>\n",
              "      <td>7798</td>\n",
              "      <td>186</td>\n",
              "      <td>0.99</td>\n",
              "      <td>2020-05-10 13:19:54</td>\n",
              "      <td>2020</td>\n",
              "      <td>The future 🤯</td>\n",
              "    </tr>\n",
              "    <tr>\n",
              "      <th>2</th>\n",
              "      <td>gh1dj9</td>\n",
              "      <td>[Project] From books to presentations in 10s w...</td>\n",
              "      <td>MachineLearning</td>\n",
              "      <td>https://v.redd.it/v492uoheuxx41</td>\n",
              "      <td>Project</td>\n",
              "      <td>7798</td>\n",
              "      <td>186</td>\n",
              "      <td>0.99</td>\n",
              "      <td>2020-05-10 13:19:54</td>\n",
              "      <td>2020</td>\n",
              "      <td>Simple yet very useful. Thank you for sharing ...</td>\n",
              "    </tr>\n",
              "    <tr>\n",
              "      <th>3</th>\n",
              "      <td>gh1dj9</td>\n",
              "      <td>[Project] From books to presentations in 10s w...</td>\n",
              "      <td>MachineLearning</td>\n",
              "      <td>https://v.redd.it/v492uoheuxx41</td>\n",
              "      <td>Project</td>\n",
              "      <td>7798</td>\n",
              "      <td>186</td>\n",
              "      <td>0.99</td>\n",
              "      <td>2020-05-10 13:19:54</td>\n",
              "      <td>2020</td>\n",
              "      <td>Almost guaranteed, Apple will copy your idea i...</td>\n",
              "    </tr>\n",
              "    <tr>\n",
              "      <th>4</th>\n",
              "      <td>gh1dj9</td>\n",
              "      <td>[Project] From books to presentations in 10s w...</td>\n",
              "      <td>MachineLearning</td>\n",
              "      <td>https://v.redd.it/v492uoheuxx41</td>\n",
              "      <td>Project</td>\n",
              "      <td>7798</td>\n",
              "      <td>186</td>\n",
              "      <td>0.99</td>\n",
              "      <td>2020-05-10 13:19:54</td>\n",
              "      <td>2020</td>\n",
              "      <td>Ohh the nightmare of making this into a stable...</td>\n",
              "    </tr>\n",
              "  </tbody>\n",
              "</table>\n",
              "</div>\n",
              "      <button class=\"colab-df-convert\" onclick=\"convertToInteractive('df-f1230348-e9f7-4cc0-985c-80995d3c517c')\"\n",
              "              title=\"Convert this dataframe to an interactive table.\"\n",
              "              style=\"display:none;\">\n",
              "        \n",
              "  <svg xmlns=\"http://www.w3.org/2000/svg\" height=\"24px\"viewBox=\"0 0 24 24\"\n",
              "       width=\"24px\">\n",
              "    <path d=\"M0 0h24v24H0V0z\" fill=\"none\"/>\n",
              "    <path d=\"M18.56 5.44l.94 2.06.94-2.06 2.06-.94-2.06-.94-.94-2.06-.94 2.06-2.06.94zm-11 1L8.5 8.5l.94-2.06 2.06-.94-2.06-.94L8.5 2.5l-.94 2.06-2.06.94zm10 10l.94 2.06.94-2.06 2.06-.94-2.06-.94-.94-2.06-.94 2.06-2.06.94z\"/><path d=\"M17.41 7.96l-1.37-1.37c-.4-.4-.92-.59-1.43-.59-.52 0-1.04.2-1.43.59L10.3 9.45l-7.72 7.72c-.78.78-.78 2.05 0 2.83L4 21.41c.39.39.9.59 1.41.59.51 0 1.02-.2 1.41-.59l7.78-7.78 2.81-2.81c.8-.78.8-2.07 0-2.86zM5.41 20L4 18.59l7.72-7.72 1.47 1.35L5.41 20z\"/>\n",
              "  </svg>\n",
              "      </button>\n",
              "      \n",
              "  <style>\n",
              "    .colab-df-container {\n",
              "      display:flex;\n",
              "      flex-wrap:wrap;\n",
              "      gap: 12px;\n",
              "    }\n",
              "\n",
              "    .colab-df-convert {\n",
              "      background-color: #E8F0FE;\n",
              "      border: none;\n",
              "      border-radius: 50%;\n",
              "      cursor: pointer;\n",
              "      display: none;\n",
              "      fill: #1967D2;\n",
              "      height: 32px;\n",
              "      padding: 0 0 0 0;\n",
              "      width: 32px;\n",
              "    }\n",
              "\n",
              "    .colab-df-convert:hover {\n",
              "      background-color: #E2EBFA;\n",
              "      box-shadow: 0px 1px 2px rgba(60, 64, 67, 0.3), 0px 1px 3px 1px rgba(60, 64, 67, 0.15);\n",
              "      fill: #174EA6;\n",
              "    }\n",
              "\n",
              "    [theme=dark] .colab-df-convert {\n",
              "      background-color: #3B4455;\n",
              "      fill: #D2E3FC;\n",
              "    }\n",
              "\n",
              "    [theme=dark] .colab-df-convert:hover {\n",
              "      background-color: #434B5C;\n",
              "      box-shadow: 0px 1px 3px 1px rgba(0, 0, 0, 0.15);\n",
              "      filter: drop-shadow(0px 1px 2px rgba(0, 0, 0, 0.3));\n",
              "      fill: #FFFFFF;\n",
              "    }\n",
              "  </style>\n",
              "\n",
              "      <script>\n",
              "        const buttonEl =\n",
              "          document.querySelector('#df-f1230348-e9f7-4cc0-985c-80995d3c517c button.colab-df-convert');\n",
              "        buttonEl.style.display =\n",
              "          google.colab.kernel.accessAllowed ? 'block' : 'none';\n",
              "\n",
              "        async function convertToInteractive(key) {\n",
              "          const element = document.querySelector('#df-f1230348-e9f7-4cc0-985c-80995d3c517c');\n",
              "          const dataTable =\n",
              "            await google.colab.kernel.invokeFunction('convertToInteractive',\n",
              "                                                     [key], {});\n",
              "          if (!dataTable) return;\n",
              "\n",
              "          const docLinkHtml = 'Like what you see? Visit the ' +\n",
              "            '<a target=\"_blank\" href=https://colab.research.google.com/notebooks/data_table.ipynb>data table notebook</a>'\n",
              "            + ' to learn more about interactive tables.';\n",
              "          element.innerHTML = '';\n",
              "          dataTable['output_type'] = 'display_data';\n",
              "          await google.colab.output.renderOutput(dataTable, element);\n",
              "          const docLink = document.createElement('div');\n",
              "          docLink.innerHTML = docLinkHtml;\n",
              "          element.appendChild(docLink);\n",
              "        }\n",
              "      </script>\n",
              "    </div>\n",
              "  </div>\n",
              "  "
            ]
          },
          "metadata": {},
          "execution_count": 3
        }
      ]
    },
    {
      "cell_type": "code",
      "source": [
        "target_df=post_comment_df[['post_id','subreddit','comment']]\n",
        "target_df.head()"
      ],
      "metadata": {
        "colab": {
          "base_uri": "https://localhost:8080/",
          "height": 206
        },
        "id": "KAPq1ubW9y5O",
        "outputId": "1c5629aa-56c4-4e72-b064-e6a598243761"
      },
      "execution_count": 4,
      "outputs": [
        {
          "output_type": "execute_result",
          "data": {
            "text/plain": [
              "  post_id        subreddit                                            comment\n",
              "0  gh1dj9  MachineLearning  Twitter thread: [https://twitter.com/cyrildiag...\n",
              "1  gh1dj9  MachineLearning                                       The future 🤯\n",
              "2  gh1dj9  MachineLearning  Simple yet very useful. Thank you for sharing ...\n",
              "3  gh1dj9  MachineLearning  Almost guaranteed, Apple will copy your idea i...\n",
              "4  gh1dj9  MachineLearning  Ohh the nightmare of making this into a stable..."
            ],
            "text/html": [
              "\n",
              "  <div id=\"df-5f2ff0fc-6b56-4639-bc98-5ee928f64c04\">\n",
              "    <div class=\"colab-df-container\">\n",
              "      <div>\n",
              "<style scoped>\n",
              "    .dataframe tbody tr th:only-of-type {\n",
              "        vertical-align: middle;\n",
              "    }\n",
              "\n",
              "    .dataframe tbody tr th {\n",
              "        vertical-align: top;\n",
              "    }\n",
              "\n",
              "    .dataframe thead th {\n",
              "        text-align: right;\n",
              "    }\n",
              "</style>\n",
              "<table border=\"1\" class=\"dataframe\">\n",
              "  <thead>\n",
              "    <tr style=\"text-align: right;\">\n",
              "      <th></th>\n",
              "      <th>post_id</th>\n",
              "      <th>subreddit</th>\n",
              "      <th>comment</th>\n",
              "    </tr>\n",
              "  </thead>\n",
              "  <tbody>\n",
              "    <tr>\n",
              "      <th>0</th>\n",
              "      <td>gh1dj9</td>\n",
              "      <td>MachineLearning</td>\n",
              "      <td>Twitter thread: [https://twitter.com/cyrildiag...</td>\n",
              "    </tr>\n",
              "    <tr>\n",
              "      <th>1</th>\n",
              "      <td>gh1dj9</td>\n",
              "      <td>MachineLearning</td>\n",
              "      <td>The future 🤯</td>\n",
              "    </tr>\n",
              "    <tr>\n",
              "      <th>2</th>\n",
              "      <td>gh1dj9</td>\n",
              "      <td>MachineLearning</td>\n",
              "      <td>Simple yet very useful. Thank you for sharing ...</td>\n",
              "    </tr>\n",
              "    <tr>\n",
              "      <th>3</th>\n",
              "      <td>gh1dj9</td>\n",
              "      <td>MachineLearning</td>\n",
              "      <td>Almost guaranteed, Apple will copy your idea i...</td>\n",
              "    </tr>\n",
              "    <tr>\n",
              "      <th>4</th>\n",
              "      <td>gh1dj9</td>\n",
              "      <td>MachineLearning</td>\n",
              "      <td>Ohh the nightmare of making this into a stable...</td>\n",
              "    </tr>\n",
              "  </tbody>\n",
              "</table>\n",
              "</div>\n",
              "      <button class=\"colab-df-convert\" onclick=\"convertToInteractive('df-5f2ff0fc-6b56-4639-bc98-5ee928f64c04')\"\n",
              "              title=\"Convert this dataframe to an interactive table.\"\n",
              "              style=\"display:none;\">\n",
              "        \n",
              "  <svg xmlns=\"http://www.w3.org/2000/svg\" height=\"24px\"viewBox=\"0 0 24 24\"\n",
              "       width=\"24px\">\n",
              "    <path d=\"M0 0h24v24H0V0z\" fill=\"none\"/>\n",
              "    <path d=\"M18.56 5.44l.94 2.06.94-2.06 2.06-.94-2.06-.94-.94-2.06-.94 2.06-2.06.94zm-11 1L8.5 8.5l.94-2.06 2.06-.94-2.06-.94L8.5 2.5l-.94 2.06-2.06.94zm10 10l.94 2.06.94-2.06 2.06-.94-2.06-.94-.94-2.06-.94 2.06-2.06.94z\"/><path d=\"M17.41 7.96l-1.37-1.37c-.4-.4-.92-.59-1.43-.59-.52 0-1.04.2-1.43.59L10.3 9.45l-7.72 7.72c-.78.78-.78 2.05 0 2.83L4 21.41c.39.39.9.59 1.41.59.51 0 1.02-.2 1.41-.59l7.78-7.78 2.81-2.81c.8-.78.8-2.07 0-2.86zM5.41 20L4 18.59l7.72-7.72 1.47 1.35L5.41 20z\"/>\n",
              "  </svg>\n",
              "      </button>\n",
              "      \n",
              "  <style>\n",
              "    .colab-df-container {\n",
              "      display:flex;\n",
              "      flex-wrap:wrap;\n",
              "      gap: 12px;\n",
              "    }\n",
              "\n",
              "    .colab-df-convert {\n",
              "      background-color: #E8F0FE;\n",
              "      border: none;\n",
              "      border-radius: 50%;\n",
              "      cursor: pointer;\n",
              "      display: none;\n",
              "      fill: #1967D2;\n",
              "      height: 32px;\n",
              "      padding: 0 0 0 0;\n",
              "      width: 32px;\n",
              "    }\n",
              "\n",
              "    .colab-df-convert:hover {\n",
              "      background-color: #E2EBFA;\n",
              "      box-shadow: 0px 1px 2px rgba(60, 64, 67, 0.3), 0px 1px 3px 1px rgba(60, 64, 67, 0.15);\n",
              "      fill: #174EA6;\n",
              "    }\n",
              "\n",
              "    [theme=dark] .colab-df-convert {\n",
              "      background-color: #3B4455;\n",
              "      fill: #D2E3FC;\n",
              "    }\n",
              "\n",
              "    [theme=dark] .colab-df-convert:hover {\n",
              "      background-color: #434B5C;\n",
              "      box-shadow: 0px 1px 3px 1px rgba(0, 0, 0, 0.15);\n",
              "      filter: drop-shadow(0px 1px 2px rgba(0, 0, 0, 0.3));\n",
              "      fill: #FFFFFF;\n",
              "    }\n",
              "  </style>\n",
              "\n",
              "      <script>\n",
              "        const buttonEl =\n",
              "          document.querySelector('#df-5f2ff0fc-6b56-4639-bc98-5ee928f64c04 button.colab-df-convert');\n",
              "        buttonEl.style.display =\n",
              "          google.colab.kernel.accessAllowed ? 'block' : 'none';\n",
              "\n",
              "        async function convertToInteractive(key) {\n",
              "          const element = document.querySelector('#df-5f2ff0fc-6b56-4639-bc98-5ee928f64c04');\n",
              "          const dataTable =\n",
              "            await google.colab.kernel.invokeFunction('convertToInteractive',\n",
              "                                                     [key], {});\n",
              "          if (!dataTable) return;\n",
              "\n",
              "          const docLinkHtml = 'Like what you see? Visit the ' +\n",
              "            '<a target=\"_blank\" href=https://colab.research.google.com/notebooks/data_table.ipynb>data table notebook</a>'\n",
              "            + ' to learn more about interactive tables.';\n",
              "          element.innerHTML = '';\n",
              "          dataTable['output_type'] = 'display_data';\n",
              "          await google.colab.output.renderOutput(dataTable, element);\n",
              "          const docLink = document.createElement('div');\n",
              "          docLink.innerHTML = docLinkHtml;\n",
              "          element.appendChild(docLink);\n",
              "        }\n",
              "      </script>\n",
              "    </div>\n",
              "  </div>\n",
              "  "
            ]
          },
          "metadata": {},
          "execution_count": 4
        }
      ]
    },
    {
      "cell_type": "markdown",
      "source": [
        "**Split into Train, Dev, Test dataset**"
      ],
      "metadata": {
        "id": "MqqqM4rnBitN"
      }
    },
    {
      "cell_type": "code",
      "source": [
        "from sklearn.model_selection import train_test_split\n",
        "X_train,X_remaining, y_train, y_remaining= train_test_split(target_df['comment'],target_df['subreddit'],train_size=0.5,stratify=target_df['subreddit'])\n",
        "X_test, X_dev, y_test, y_dev = train_test_split(X_remaining,y_remaining,test_size=0.3,stratify=y_remaining)\n",
        "train_set=pd.concat([X_train,y_train],axis=1).reset_index(drop=True)\n",
        "dev_set=pd.concat([X_dev,y_dev],axis=1).reset_index(drop=True)\n",
        "test_set=pd.concat([X_test,y_test],axis=1).reset_index(drop=True)\n",
        "print(f\"Train set size:  \",train_set.size)\n",
        "print(f\"Dev set size:  \",dev_set.size)\n",
        "print(f\"Test set size:  \",test_set.size)"
      ],
      "metadata": {
        "colab": {
          "base_uri": "https://localhost:8080/"
        },
        "id": "ROZBG6P8Bn3C",
        "outputId": "6f012b1c-c3cd-42da-c8af-d4132c026d5a"
      },
      "execution_count": 5,
      "outputs": [
        {
          "output_type": "stream",
          "name": "stdout",
          "text": [
            "Train set size:   223168\n",
            "Dev set size:   66952\n",
            "Test set size:   156216\n"
          ]
        }
      ]
    },
    {
      "cell_type": "code",
      "source": [
        "from matplotlib.pyplot import pie,show\n",
        "import pandas as pd\n",
        "datasplit=['Train', 'Development','Test']\n",
        "size=[train_set.size,dev_set.size,test_set.size]\n",
        "pie(size,labels=datasplit,autopct='%.1f%%')\n",
        "show()\n"
      ],
      "metadata": {
        "colab": {
          "base_uri": "https://localhost:8080/",
          "height": 406
        },
        "id": "LS6o45Z7khdZ",
        "outputId": "55d6a629-ddc4-4514-a62d-aca138197e1e"
      },
      "execution_count": 60,
      "outputs": [
        {
          "output_type": "display_data",
          "data": {
            "text/plain": [
              "<Figure size 640x480 with 1 Axes>"
            ],
            "image/png": "[encoded data removed]"
          },
          "metadata": {}
        }
      ]
    },
    {
      "cell_type": "code",
      "source": [
        "train_set.head()"
      ],
      "metadata": {
        "colab": {
          "base_uri": "https://localhost:8080/",
          "height": 206
        },
        "id": "0oQ317exFUOh",
        "outputId": "c823ce12-35cf-4ea6-e0f1-780956c25cf0"
      },
      "execution_count": 61,
      "outputs": [
        {
          "output_type": "execute_result",
          "data": {
            "text/plain": [
              "                                             comment        subreddit\n",
              "0  The entire project I've been assigned to freel...  MachineLearning\n",
              "1  Well that's why then.. I fall in the former. T...      datascience\n",
              "2              More like denoising. Nicely done!  bb       artificial\n",
              "3  Really? I feel like real pictures of similar a...       artificial\n",
              "4  Could you also elaborate? I have been thinking...      datascience"
            ],
            "text/html": [
              "\n",
              "  <div id=\"df-ac3e6633-0a68-4eeb-9994-59eafc3682b9\">\n",
              "    <div class=\"colab-df-container\">\n",
              "      <div>\n",
              "<style scoped>\n",
              "    .dataframe tbody tr th:only-of-type {\n",
              "        vertical-align: middle;\n",
              "    }\n",
              "\n",
              "    .dataframe tbody tr th {\n",
              "        vertical-align: top;\n",
              "    }\n",
              "\n",
              "    .dataframe thead th {\n",
              "        text-align: right;\n",
              "    }\n",
              "</style>\n",
              "<table border=\"1\" class=\"dataframe\">\n",
              "  <thead>\n",
              "    <tr style=\"text-align: right;\">\n",
              "      <th></th>\n",
              "      <th>comment</th>\n",
              "      <th>subreddit</th>\n",
              "    </tr>\n",
              "  </thead>\n",
              "  <tbody>\n",
              "    <tr>\n",
              "      <th>0</th>\n",
              "      <td>The entire project I've been assigned to freel...</td>\n",
              "      <td>MachineLearning</td>\n",
              "    </tr>\n",
              "    <tr>\n",
              "      <th>1</th>\n",
              "      <td>Well that's why then.. I fall in the former. T...</td>\n",
              "      <td>datascience</td>\n",
              "    </tr>\n",
              "    <tr>\n",
              "      <th>2</th>\n",
              "      <td>More like denoising. Nicely done!  bb</td>\n",
              "      <td>artificial</td>\n",
              "    </tr>\n",
              "    <tr>\n",
              "      <th>3</th>\n",
              "      <td>Really? I feel like real pictures of similar a...</td>\n",
              "      <td>artificial</td>\n",
              "    </tr>\n",
              "    <tr>\n",
              "      <th>4</th>\n",
              "      <td>Could you also elaborate? I have been thinking...</td>\n",
              "      <td>datascience</td>\n",
              "    </tr>\n",
              "  </tbody>\n",
              "</table>\n",
              "</div>\n",
              "      <button class=\"colab-df-convert\" onclick=\"convertToInteractive('df-ac3e6633-0a68-4eeb-9994-59eafc3682b9')\"\n",
              "              title=\"Convert this dataframe to an interactive table.\"\n",
              "              style=\"display:none;\">\n",
              "        \n",
              "  <svg xmlns=\"http://www.w3.org/2000/svg\" height=\"24px\"viewBox=\"0 0 24 24\"\n",
              "       width=\"24px\">\n",
              "    <path d=\"M0 0h24v24H0V0z\" fill=\"none\"/>\n",
              "    <path d=\"M18.56 5.44l.94 2.06.94-2.06 2.06-.94-2.06-.94-.94-2.06-.94 2.06-2.06.94zm-11 1L8.5 8.5l.94-2.06 2.06-.94-2.06-.94L8.5 2.5l-.94 2.06-2.06.94zm10 10l.94 2.06.94-2.06 2.06-.94-2.06-.94-.94-2.06-.94 2.06-2.06.94z\"/><path d=\"M17.41 7.96l-1.37-1.37c-.4-.4-.92-.59-1.43-.59-.52 0-1.04.2-1.43.59L10.3 9.45l-7.72 7.72c-.78.78-.78 2.05 0 2.83L4 21.41c.39.39.9.59 1.41.59.51 0 1.02-.2 1.41-.59l7.78-7.78 2.81-2.81c.8-.78.8-2.07 0-2.86zM5.41 20L4 18.59l7.72-7.72 1.47 1.35L5.41 20z\"/>\n",
              "  </svg>\n",
              "      </button>\n",
              "      \n",
              "  <style>\n",
              "    .colab-df-container {\n",
              "      display:flex;\n",
              "      flex-wrap:wrap;\n",
              "      gap: 12px;\n",
              "    }\n",
              "\n",
              "    .colab-df-convert {\n",
              "      background-color: #E8F0FE;\n",
              "      border: none;\n",
              "      border-radius: 50%;\n",
              "      cursor: pointer;\n",
              "      display: none;\n",
              "      fill: #1967D2;\n",
              "      height: 32px;\n",
              "      padding: 0 0 0 0;\n",
              "      width: 32px;\n",
              "    }\n",
              "\n",
              "    .colab-df-convert:hover {\n",
              "      background-color: #E2EBFA;\n",
              "      box-shadow: 0px 1px 2px rgba(60, 64, 67, 0.3), 0px 1px 3px 1px rgba(60, 64, 67, 0.15);\n",
              "      fill: #174EA6;\n",
              "    }\n",
              "\n",
              "    [theme=dark] .colab-df-convert {\n",
              "      background-color: #3B4455;\n",
              "      fill: #D2E3FC;\n",
              "    }\n",
              "\n",
              "    [theme=dark] .colab-df-convert:hover {\n",
              "      background-color: #434B5C;\n",
              "      box-shadow: 0px 1px 3px 1px rgba(0, 0, 0, 0.15);\n",
              "      filter: drop-shadow(0px 1px 2px rgba(0, 0, 0, 0.3));\n",
              "      fill: #FFFFFF;\n",
              "    }\n",
              "  </style>\n",
              "\n",
              "      <script>\n",
              "        const buttonEl =\n",
              "          document.querySelector('#df-ac3e6633-0a68-4eeb-9994-59eafc3682b9 button.colab-df-convert');\n",
              "        buttonEl.style.display =\n",
              "          google.colab.kernel.accessAllowed ? 'block' : 'none';\n",
              "\n",
              "        async function convertToInteractive(key) {\n",
              "          const element = document.querySelector('#df-ac3e6633-0a68-4eeb-9994-59eafc3682b9');\n",
              "          const dataTable =\n",
              "            await google.colab.kernel.invokeFunction('convertToInteractive',\n",
              "                                                     [key], {});\n",
              "          if (!dataTable) return;\n",
              "\n",
              "          const docLinkHtml = 'Like what you see? Visit the ' +\n",
              "            '<a target=\"_blank\" href=https://colab.research.google.com/notebooks/data_table.ipynb>data table notebook</a>'\n",
              "            + ' to learn more about interactive tables.';\n",
              "          element.innerHTML = '';\n",
              "          dataTable['output_type'] = 'display_data';\n",
              "          await google.colab.output.renderOutput(dataTable, element);\n",
              "          const docLink = document.createElement('div');\n",
              "          docLink.innerHTML = docLinkHtml;\n",
              "          element.appendChild(docLink);\n",
              "        }\n",
              "      </script>\n",
              "    </div>\n",
              "  </div>\n",
              "  "
            ]
          },
          "metadata": {},
          "execution_count": 61
        }
      ]
    },
    {
      "cell_type": "markdown",
      "source": [
        "**Deleting empty comments**"
      ],
      "metadata": {
        "id": "nfRgH6PU22y_"
      }
    },
    {
      "cell_type": "code",
      "source": [
        "import numpy as np\n",
        "train_set.isna().sum()"
      ],
      "metadata": {
        "id": "LkJo2G96R2-v",
        "colab": {
          "base_uri": "https://localhost:8080/"
        },
        "outputId": "205fb969-3e08-4c37-afae-56b97a20c8be"
      },
      "execution_count": 62,
      "outputs": [
        {
          "output_type": "execute_result",
          "data": {
            "text/plain": [
              "comment      5\n",
              "subreddit    0\n",
              "dtype: int64"
            ]
          },
          "metadata": {},
          "execution_count": 62
        }
      ]
    },
    {
      "cell_type": "code",
      "source": [
        "train_set['comment'].replace('',np.nan,inplace=True)\n",
        "train_set.dropna(subset=['comment'],inplace=True)\n",
        "train_set.isna().sum()\n"
      ],
      "metadata": {
        "colab": {
          "base_uri": "https://localhost:8080/"
        },
        "id": "-rIDVfgvSuYc",
        "outputId": "72cd28f9-14fe-4b9e-af5e-e2912be9a488"
      },
      "execution_count": 63,
      "outputs": [
        {
          "output_type": "execute_result",
          "data": {
            "text/plain": [
              "comment      0\n",
              "subreddit    0\n",
              "dtype: int64"
            ]
          },
          "metadata": {},
          "execution_count": 63
        }
      ]
    },
    {
      "cell_type": "code",
      "source": [
        "train_copy=train_set.copy()\n",
        "train_copy.head()"
      ],
      "metadata": {
        "colab": {
          "base_uri": "https://localhost:8080/",
          "height": 206
        },
        "id": "3DI-qhzUOxOX",
        "outputId": "4c2f3cf2-85e2-41a6-dae0-d65091881bb5"
      },
      "execution_count": 64,
      "outputs": [
        {
          "output_type": "execute_result",
          "data": {
            "text/plain": [
              "                                             comment        subreddit\n",
              "0  The entire project I've been assigned to freel...  MachineLearning\n",
              "1  Well that's why then.. I fall in the former. T...      datascience\n",
              "2              More like denoising. Nicely done!  bb       artificial\n",
              "3  Really? I feel like real pictures of similar a...       artificial\n",
              "4  Could you also elaborate? I have been thinking...      datascience"
            ],
            "text/html": [
              "\n",
              "  <div id=\"df-20f2d8d0-6364-4719-9626-457880a32f73\">\n",
              "    <div class=\"colab-df-container\">\n",
              "      <div>\n",
              "<style scoped>\n",
              "    .dataframe tbody tr th:only-of-type {\n",
              "        vertical-align: middle;\n",
              "    }\n",
              "\n",
              "    .dataframe tbody tr th {\n",
              "        vertical-align: top;\n",
              "    }\n",
              "\n",
              "    .dataframe thead th {\n",
              "        text-align: right;\n",
              "    }\n",
              "</style>\n",
              "<table border=\"1\" class=\"dataframe\">\n",
              "  <thead>\n",
              "    <tr style=\"text-align: right;\">\n",
              "      <th></th>\n",
              "      <th>comment</th>\n",
              "      <th>subreddit</th>\n",
              "    </tr>\n",
              "  </thead>\n",
              "  <tbody>\n",
              "    <tr>\n",
              "      <th>0</th>\n",
              "      <td>The entire project I've been assigned to freel...</td>\n",
              "      <td>MachineLearning</td>\n",
              "    </tr>\n",
              "    <tr>\n",
              "      <th>1</th>\n",
              "      <td>Well that's why then.. I fall in the former. T...</td>\n",
              "      <td>datascience</td>\n",
              "    </tr>\n",
              "    <tr>\n",
              "      <th>2</th>\n",
              "      <td>More like denoising. Nicely done!  bb</td>\n",
              "      <td>artificial</td>\n",
              "    </tr>\n",
              "    <tr>\n",
              "      <th>3</th>\n",
              "      <td>Really? I feel like real pictures of similar a...</td>\n",
              "      <td>artificial</td>\n",
              "    </tr>\n",
              "    <tr>\n",
              "      <th>4</th>\n",
              "      <td>Could you also elaborate? I have been thinking...</td>\n",
              "      <td>datascience</td>\n",
              "    </tr>\n",
              "  </tbody>\n",
              "</table>\n",
              "</div>\n",
              "      <button class=\"colab-df-convert\" onclick=\"convertToInteractive('df-20f2d8d0-6364-4719-9626-457880a32f73')\"\n",
              "              title=\"Convert this dataframe to an interactive table.\"\n",
              "              style=\"display:none;\">\n",
              "        \n",
              "  <svg xmlns=\"http://www.w3.org/2000/svg\" height=\"24px\"viewBox=\"0 0 24 24\"\n",
              "       width=\"24px\">\n",
              "    <path d=\"M0 0h24v24H0V0z\" fill=\"none\"/>\n",
              "    <path d=\"M18.56 5.44l.94 2.06.94-2.06 2.06-.94-2.06-.94-.94-2.06-.94 2.06-2.06.94zm-11 1L8.5 8.5l.94-2.06 2.06-.94-2.06-.94L8.5 2.5l-.94 2.06-2.06.94zm10 10l.94 2.06.94-2.06 2.06-.94-2.06-.94-.94-2.06-.94 2.06-2.06.94z\"/><path d=\"M17.41 7.96l-1.37-1.37c-.4-.4-.92-.59-1.43-.59-.52 0-1.04.2-1.43.59L10.3 9.45l-7.72 7.72c-.78.78-.78 2.05 0 2.83L4 21.41c.39.39.9.59 1.41.59.51 0 1.02-.2 1.41-.59l7.78-7.78 2.81-2.81c.8-.78.8-2.07 0-2.86zM5.41 20L4 18.59l7.72-7.72 1.47 1.35L5.41 20z\"/>\n",
              "  </svg>\n",
              "      </button>\n",
              "      \n",
              "  <style>\n",
              "    .colab-df-container {\n",
              "      display:flex;\n",
              "      flex-wrap:wrap;\n",
              "      gap: 12px;\n",
              "    }\n",
              "\n",
              "    .colab-df-convert {\n",
              "      background-color: #E8F0FE;\n",
              "      border: none;\n",
              "      border-radius: 50%;\n",
              "      cursor: pointer;\n",
              "      display: none;\n",
              "      fill: #1967D2;\n",
              "      height: 32px;\n",
              "      padding: 0 0 0 0;\n",
              "      width: 32px;\n",
              "    }\n",
              "\n",
              "    .colab-df-convert:hover {\n",
              "      background-color: #E2EBFA;\n",
              "      box-shadow: 0px 1px 2px rgba(60, 64, 67, 0.3), 0px 1px 3px 1px rgba(60, 64, 67, 0.15);\n",
              "      fill: #174EA6;\n",
              "    }\n",
              "\n",
              "    [theme=dark] .colab-df-convert {\n",
              "      background-color: #3B4455;\n",
              "      fill: #D2E3FC;\n",
              "    }\n",
              "\n",
              "    [theme=dark] .colab-df-convert:hover {\n",
              "      background-color: #434B5C;\n",
              "      box-shadow: 0px 1px 3px 1px rgba(0, 0, 0, 0.15);\n",
              "      filter: drop-shadow(0px 1px 2px rgba(0, 0, 0, 0.3));\n",
              "      fill: #FFFFFF;\n",
              "    }\n",
              "  </style>\n",
              "\n",
              "      <script>\n",
              "        const buttonEl =\n",
              "          document.querySelector('#df-20f2d8d0-6364-4719-9626-457880a32f73 button.colab-df-convert');\n",
              "        buttonEl.style.display =\n",
              "          google.colab.kernel.accessAllowed ? 'block' : 'none';\n",
              "\n",
              "        async function convertToInteractive(key) {\n",
              "          const element = document.querySelector('#df-20f2d8d0-6364-4719-9626-457880a32f73');\n",
              "          const dataTable =\n",
              "            await google.colab.kernel.invokeFunction('convertToInteractive',\n",
              "                                                     [key], {});\n",
              "          if (!dataTable) return;\n",
              "\n",
              "          const docLinkHtml = 'Like what you see? Visit the ' +\n",
              "            '<a target=\"_blank\" href=https://colab.research.google.com/notebooks/data_table.ipynb>data table notebook</a>'\n",
              "            + ' to learn more about interactive tables.';\n",
              "          element.innerHTML = '';\n",
              "          dataTable['output_type'] = 'display_data';\n",
              "          await google.colab.output.renderOutput(dataTable, element);\n",
              "          const docLink = document.createElement('div');\n",
              "          docLink.innerHTML = docLinkHtml;\n",
              "          element.appendChild(docLink);\n",
              "        }\n",
              "      </script>\n",
              "    </div>\n",
              "  </div>\n",
              "  "
            ]
          },
          "metadata": {},
          "execution_count": 64
        }
      ]
    },
    {
      "cell_type": "markdown",
      "source": [
        "**Pre-processing**"
      ],
      "metadata": {
        "id": "uLavQ6x5G_fx"
      }
    },
    {
      "cell_type": "code",
      "source": [
        "import string,re\n",
        "import nltk\n",
        "from nltk import word_tokenize\n",
        "nltk.download('punkt')\n",
        "nltk.download('wordnet')\n",
        "nltk.download('stopwords')\n",
        "from nltk.corpus import stopwords\n",
        "from nltk.stem import WordNetLemmatizer\n",
        "def text_preprocess(comment):\n",
        "  tokens=[word for word in word_tokenize(comment)]\n",
        "  tokens1=[word.lower() for word in tokens if word.lower() not in stopwords.words('english')]\n",
        "  for i in range(len(tokens1)):\n",
        "   tokens1[i]= ''.join([word for word in tokens1[i] if word not in (string.punctuation)])\n",
        "  tokens2=[word for word in tokens1 if word]\n",
        "  tokens3=[re.sub(r'\\s\\s+','',word) for word in tokens2]\n",
        "  word_lem=WordNetLemmatizer()\n",
        "  lem_words=[word_lem.lemmatize(word) for word in tokens3]\n",
        "  return lem_words"
      ],
      "metadata": {
        "colab": {
          "base_uri": "https://localhost:8080/"
        },
        "id": "4lpPppsVJFHS",
        "outputId": "d53824a8-3435-43c1-f1dc-f4bd70ab9bb7"
      },
      "execution_count": 149,
      "outputs": [
        {
          "output_type": "stream",
          "name": "stderr",
          "text": [
            "[nltk_data] Downloading package punkt to /root/nltk_data...\n",
            "[nltk_data]   Package punkt is already up-to-date!\n",
            "[nltk_data] Downloading package wordnet to /root/nltk_data...\n",
            "[nltk_data]   Package wordnet is already up-to-date!\n",
            "[nltk_data] Downloading package stopwords to /root/nltk_data...\n",
            "[nltk_data]   Package stopwords is already up-to-date!\n"
          ]
        }
      ]
    },
    {
      "cell_type": "code",
      "source": [
        "train_copy['comment']=train_copy['comment'].apply(text_preprocess)\n",
        "train_copy.head()"
      ],
      "metadata": {
        "colab": {
          "base_uri": "https://localhost:8080/",
          "height": 206
        },
        "id": "JEdG5WI9O_lJ",
        "outputId": "593a8789-7c13-4d4c-d893-81058c4b7304"
      },
      "execution_count": 66,
      "outputs": [
        {
          "output_type": "execute_result",
          "data": {
            "text/plain": [
              "                                             comment        subreddit\n",
              "0  [entire, project, ve, assigned, freely, altern...  MachineLearning\n",
              "1           [well, s, fall, former, thanks, warning]      datascience\n",
              "2                [like, denoising, nicely, done, bb]       artificial\n",
              "3  [really, feel, like, real, picture, similar, a...       artificial\n",
              "4  [could, also, elaborate, thinking, getting, he...      datascience"
            ],
            "text/html": [
              "\n",
              "  <div id=\"df-8354ae95-bba3-42fe-827f-5da5956bea95\">\n",
              "    <div class=\"colab-df-container\">\n",
              "      <div>\n",
              "<style scoped>\n",
              "    .dataframe tbody tr th:only-of-type {\n",
              "        vertical-align: middle;\n",
              "    }\n",
              "\n",
              "    .dataframe tbody tr th {\n",
              "        vertical-align: top;\n",
              "    }\n",
              "\n",
              "    .dataframe thead th {\n",
              "        text-align: right;\n",
              "    }\n",
              "</style>\n",
              "<table border=\"1\" class=\"dataframe\">\n",
              "  <thead>\n",
              "    <tr style=\"text-align: right;\">\n",
              "      <th></th>\n",
              "      <th>comment</th>\n",
              "      <th>subreddit</th>\n",
              "    </tr>\n",
              "  </thead>\n",
              "  <tbody>\n",
              "    <tr>\n",
              "      <th>0</th>\n",
              "      <td>[entire, project, ve, assigned, freely, altern...</td>\n",
              "      <td>MachineLearning</td>\n",
              "    </tr>\n",
              "    <tr>\n",
              "      <th>1</th>\n",
              "      <td>[well, s, fall, former, thanks, warning]</td>\n",
              "      <td>datascience</td>\n",
              "    </tr>\n",
              "    <tr>\n",
              "      <th>2</th>\n",
              "      <td>[like, denoising, nicely, done, bb]</td>\n",
              "      <td>artificial</td>\n",
              "    </tr>\n",
              "    <tr>\n",
              "      <th>3</th>\n",
              "      <td>[really, feel, like, real, picture, similar, a...</td>\n",
              "      <td>artificial</td>\n",
              "    </tr>\n",
              "    <tr>\n",
              "      <th>4</th>\n",
              "      <td>[could, also, elaborate, thinking, getting, he...</td>\n",
              "      <td>datascience</td>\n",
              "    </tr>\n",
              "  </tbody>\n",
              "</table>\n",
              "</div>\n",
              "      <button class=\"colab-df-convert\" onclick=\"convertToInteractive('df-8354ae95-bba3-42fe-827f-5da5956bea95')\"\n",
              "              title=\"Convert this dataframe to an interactive table.\"\n",
              "              style=\"display:none;\">\n",
              "        \n",
              "  <svg xmlns=\"http://www.w3.org/2000/svg\" height=\"24px\"viewBox=\"0 0 24 24\"\n",
              "       width=\"24px\">\n",
              "    <path d=\"M0 0h24v24H0V0z\" fill=\"none\"/>\n",
              "    <path d=\"M18.56 5.44l.94 2.06.94-2.06 2.06-.94-2.06-.94-.94-2.06-.94 2.06-2.06.94zm-11 1L8.5 8.5l.94-2.06 2.06-.94-2.06-.94L8.5 2.5l-.94 2.06-2.06.94zm10 10l.94 2.06.94-2.06 2.06-.94-2.06-.94-.94-2.06-.94 2.06-2.06.94z\"/><path d=\"M17.41 7.96l-1.37-1.37c-.4-.4-.92-.59-1.43-.59-.52 0-1.04.2-1.43.59L10.3 9.45l-7.72 7.72c-.78.78-.78 2.05 0 2.83L4 21.41c.39.39.9.59 1.41.59.51 0 1.02-.2 1.41-.59l7.78-7.78 2.81-2.81c.8-.78.8-2.07 0-2.86zM5.41 20L4 18.59l7.72-7.72 1.47 1.35L5.41 20z\"/>\n",
              "  </svg>\n",
              "      </button>\n",
              "      \n",
              "  <style>\n",
              "    .colab-df-container {\n",
              "      display:flex;\n",
              "      flex-wrap:wrap;\n",
              "      gap: 12px;\n",
              "    }\n",
              "\n",
              "    .colab-df-convert {\n",
              "      background-color: #E8F0FE;\n",
              "      border: none;\n",
              "      border-radius: 50%;\n",
              "      cursor: pointer;\n",
              "      display: none;\n",
              "      fill: #1967D2;\n",
              "      height: 32px;\n",
              "      padding: 0 0 0 0;\n",
              "      width: 32px;\n",
              "    }\n",
              "\n",
              "    .colab-df-convert:hover {\n",
              "      background-color: #E2EBFA;\n",
              "      box-shadow: 0px 1px 2px rgba(60, 64, 67, 0.3), 0px 1px 3px 1px rgba(60, 64, 67, 0.15);\n",
              "      fill: #174EA6;\n",
              "    }\n",
              "\n",
              "    [theme=dark] .colab-df-convert {\n",
              "      background-color: #3B4455;\n",
              "      fill: #D2E3FC;\n",
              "    }\n",
              "\n",
              "    [theme=dark] .colab-df-convert:hover {\n",
              "      background-color: #434B5C;\n",
              "      box-shadow: 0px 1px 3px 1px rgba(0, 0, 0, 0.15);\n",
              "      filter: drop-shadow(0px 1px 2px rgba(0, 0, 0, 0.3));\n",
              "      fill: #FFFFFF;\n",
              "    }\n",
              "  </style>\n",
              "\n",
              "      <script>\n",
              "        const buttonEl =\n",
              "          document.querySelector('#df-8354ae95-bba3-42fe-827f-5da5956bea95 button.colab-df-convert');\n",
              "        buttonEl.style.display =\n",
              "          google.colab.kernel.accessAllowed ? 'block' : 'none';\n",
              "\n",
              "        async function convertToInteractive(key) {\n",
              "          const element = document.querySelector('#df-8354ae95-bba3-42fe-827f-5da5956bea95');\n",
              "          const dataTable =\n",
              "            await google.colab.kernel.invokeFunction('convertToInteractive',\n",
              "                                                     [key], {});\n",
              "          if (!dataTable) return;\n",
              "\n",
              "          const docLinkHtml = 'Like what you see? Visit the ' +\n",
              "            '<a target=\"_blank\" href=https://colab.research.google.com/notebooks/data_table.ipynb>data table notebook</a>'\n",
              "            + ' to learn more about interactive tables.';\n",
              "          element.innerHTML = '';\n",
              "          dataTable['output_type'] = 'display_data';\n",
              "          await google.colab.output.renderOutput(dataTable, element);\n",
              "          const docLink = document.createElement('div');\n",
              "          docLink.innerHTML = docLinkHtml;\n",
              "          element.appendChild(docLink);\n",
              "        }\n",
              "      </script>\n",
              "    </div>\n",
              "  </div>\n",
              "  "
            ]
          },
          "metadata": {},
          "execution_count": 66
        }
      ]
    },
    {
      "cell_type": "code",
      "source": [
        "text_preprocess(\"Likely, and it will be easier for them, the processing could be done in the iPhone and uploading can be done through airdrop (which supports 'aiming' at people and machines to share files).\")"
      ],
      "metadata": {
        "colab": {
          "base_uri": "https://localhost:8080/"
        },
        "id": "cGfk2TyW5wq7",
        "outputId": "047ed005-c1ec-4cc7-9cce-85d60ff28514"
      },
      "execution_count": 67,
      "outputs": [
        {
          "output_type": "execute_result",
          "data": {
            "text/plain": [
              "['likely',\n",
              " 'easier',\n",
              " 'processing',\n",
              " 'could',\n",
              " 'done',\n",
              " 'iphone',\n",
              " 'uploading',\n",
              " 'done',\n",
              " 'airdrop',\n",
              " 'support',\n",
              " 'aiming',\n",
              " 'people',\n",
              " 'machine',\n",
              " 'share',\n",
              " 'file']"
            ]
          },
          "metadata": {},
          "execution_count": 67
        }
      ]
    },
    {
      "cell_type": "markdown",
      "source": [
        "**Calculating total number of words in all comments**"
      ],
      "metadata": {
        "id": "UeSCIqKG6AoU"
      }
    },
    {
      "cell_type": "code",
      "source": [
        "word_list=[]\n",
        "for comment in train_copy['comment']:\n",
        "  for word in comment:\n",
        "    word_list.append(word)\n",
        "word_list= list(set(word_list))\n",
        "total=len(word_list)\n",
        "print(f'total number of words in vocabulary: {total}')"
      ],
      "metadata": {
        "colab": {
          "base_uri": "https://localhost:8080/"
        },
        "id": "eAUEHH946I5a",
        "outputId": "5ea60251-7a2c-4e33-c71b-de4cc803c693"
      },
      "execution_count": 68,
      "outputs": [
        {
          "output_type": "stream",
          "name": "stdout",
          "text": [
            "total number of words in vocabulary: 86649\n"
          ]
        }
      ]
    },
    {
      "cell_type": "code",
      "source": [
        "from collections import defaultdict\n",
        "AI_category=0\n",
        "ML_category=0\n",
        "DataScience_category=0\n",
        "num_AI_words=0\n",
        "num_ML_words=0\n",
        "num_Datasci_words=0\n",
        "AI_words=[]\n",
        "ML_words=[]\n",
        "DS_words=[]\n",
        "word_dict=defaultdict(lambda:[0,0,0])\n",
        "category=list(train_copy['subreddit'])"
      ],
      "metadata": {
        "id": "l8GY2cht_REK"
      },
      "execution_count": 69,
      "outputs": []
    },
    {
      "cell_type": "markdown",
      "source": [
        "**Calculating word frequencies of each word in every comment**"
      ],
      "metadata": {
        "id": "aLOiLzIzDFGy"
      }
    },
    {
      "cell_type": "code",
      "source": [
        "for i, comment in enumerate(list(train_copy['comment'])):\n",
        "  if  category[i] == 'artificial':\n",
        "    AI_category=AI_category+1\n",
        "  elif category[i] == 'MachineLearning':\n",
        "    ML_category=ML_category+1\n",
        "  else:\n",
        "    DataScience_category=DataScience_category+1\n",
        "  for word in (comment):\n",
        "    if category[i] == 'artificial':\n",
        "      word_dict[word][0]+=1\n",
        "      AI_words.append(word)\n",
        "      num_AI_words+=1 \n",
        "    elif category[i] == 'MachineLearning':\n",
        "      word_dict[word][1]+=1\n",
        "      ML_words.append(word)\n",
        "      num_ML_words+=1\n",
        "    else:\n",
        "      word_dict[word][2]+=1\n",
        "      DS_words.append(word)\n",
        "      num_Datasci_words+=1"
      ],
      "metadata": {
        "id": "JnwamRS9Ds46"
      },
      "execution_count": 168,
      "outputs": []
    },
    {
      "cell_type": "code",
      "source": [
        "word_dict"
      ],
      "metadata": {
        "colab": {
          "base_uri": "https://localhost:8080/"
        },
        "id": "yrgYVmj-Ie6-",
        "outputId": "3507698f-7ad6-43ce-cb75-df2043a64d59"
      },
      "execution_count": 79,
      "outputs": [
        {
          "output_type": "execute_result",
          "data": {
            "text/plain": [
              "defaultdict(<function __main__.<lambda>()>,\n",
              "            {'entire': [146, 828, 820],\n",
              "             'project': [396, 2988, 5862],\n",
              "             've': [658, 4480, 7088],\n",
              "             'assigned': [14, 52, 110],\n",
              "             'freely': [14, 82, 28],\n",
              "             'alternate': [6, 56, 24],\n",
              "             'space': [240, 1562, 782],\n",
              "             'tab': [0, 54, 66],\n",
              "             'copypasta': [2, 16, 14],\n",
              "             'code': [452, 5242, 5562],\n",
              "             'slack': [8, 100, 140],\n",
              "             'ugh': [4, 30, 90],\n",
              "             'well': [1016, 6072, 6472],\n",
              "             's': [6622, 36176, 30932],\n",
              "             'fall': [66, 338, 458],\n",
              "             'former': [18, 200, 330],\n",
              "             'thanks': [548, 3670, 2864],\n",
              "             'warning': [32, 108, 70],\n",
              "             'like': [3296, 18110, 19956],\n",
              "             'denoising': [4, 44, 2],\n",
              "             'nicely': [10, 106, 140],\n",
              "             'done': [418, 2510, 3398],\n",
              "             'bb': [2, 10, 10],\n",
              "             'really': [1410, 7984, 9682],\n",
              "             'feel': [380, 2820, 4098],\n",
              "             'real': [586, 2692, 3020],\n",
              "             'picture': [208, 804, 352],\n",
              "             'similar': [300, 2236, 1952],\n",
              "             'architecture': [114, 1098, 304],\n",
              "             'world': [788, 2796, 2140],\n",
              "             'much': [1196, 7510, 8860],\n",
              "             'impressive': [174, 594, 206],\n",
              "             'could': [1630, 8420, 6722],\n",
              "             'also': [1402, 9498, 9890],\n",
              "             'elaborate': [44, 188, 148],\n",
              "             'thinking': [310, 1246, 1556],\n",
              "             'getting': [364, 2196, 3698],\n",
              "             'health': [54, 232, 468],\n",
              "             'tech': [364, 1266, 2494],\n",
              "             'aiml': [32, 184, 124],\n",
              "             'seems': [528, 3492, 2276],\n",
              "             'unavoidable': [2, 22, 16],\n",
              "             'domain': [70, 848, 1340],\n",
              "             'think': [2174, 12892, 12346],\n",
              "             'engage': [30, 170, 94],\n",
              "             'working': [386, 2750, 4962],\n",
              "             'data': [1214, 8844, 44324],\n",
              "             'science': [246, 2384, 12366],\n",
              "             'contractor': [2, 38, 130],\n",
              "             '10': [198, 1198, 1782],\n",
              "             'year': [1004, 4986, 8754],\n",
              "             'safely': [12, 46, 24],\n",
              "             'say': [960, 5558, 6276],\n",
              "             'one': [2002, 12626, 13068],\n",
              "             'care': [200, 1232, 1652],\n",
              "             'sub': [132, 600, 1126],\n",
              "             'culture': [50, 386, 670],\n",
              "             'making': [428, 2260, 2566],\n",
              "             'thing': [1722, 8710, 10394],\n",
              "             'difficult': [150, 966, 970],\n",
              "             'need': [1304, 6956, 10984],\n",
              "             'want': [998, 6150, 8688],\n",
              "             'know': [1542, 8208, 12656],\n",
              "             'anything': [588, 2648, 3154],\n",
              "             'simply': [234, 1338, 976],\n",
              "             'google': [728, 4776, 1630],\n",
              "             'issue': [342, 2700, 2252],\n",
              "             'arises': [8, 34, 20],\n",
              "             'shouldnt': [2, 24, 26],\n",
              "             'commit': [14, 96, 160],\n",
              "             'memory': [162, 908, 476],\n",
              "             'hope': [264, 1222, 1104],\n",
              "             'asked': [108, 578, 1584],\n",
              "             'random': [176, 1210, 1088],\n",
              "             'question': [618, 3714, 6592],\n",
              "             'job': [542, 2870, 16608],\n",
              "             'interview': [54, 524, 5342],\n",
              "             'engineer': [132, 1058, 3610],\n",
              "             'confirm': [16, 160, 188],\n",
              "             'introductionexplanation': [0, 2, 0],\n",
              "             'slightly': [68, 356, 308],\n",
              "             'layperson': [0, 22, 14],\n",
              "             'fine': [136, 918, 1090],\n",
              "             'detail': [156, 1012, 830],\n",
              "             'explains': [24, 156, 108],\n",
              "             'basic': [192, 998, 2432],\n",
              "             'try': [490, 3026, 3198],\n",
              "             'channel': [80, 364, 190],\n",
              "             'http': [3174, 18224, 7344],\n",
              "             'youtubemvg2fgf0tvm': [0, 2, 0],\n",
              "             'video': [858, 3120, 710],\n",
              "             'dalle': [100, 182, 6],\n",
              "             '1': [364, 3340, 3410],\n",
              "             'diffusion': [84, 498, 6],\n",
              "             'based': [448, 2292, 2224],\n",
              "             'good': [1328, 8420, 10972],\n",
              "             'place': [268, 1802, 2314],\n",
              "             'start': [354, 2258, 3128],\n",
              "             'way': [1438, 8072, 8544],\n",
              "             '2': [376, 3212, 3744],\n",
              "             'imagen': [8, 22, 0],\n",
              "             'stable': [88, 436, 122],\n",
              "             'earlier': [32, 314, 202],\n",
              "             'transformer': [54, 786, 100],\n",
              "             'base': [48, 422, 666],\n",
              "             'covered': [28, 130, 210],\n",
              "             'statisicians': [0, 0, 2],\n",
              "             'anns': [18, 46, 0],\n",
              "             'around': [394, 2318, 2640],\n",
              "             'nearly': [52, 278, 356],\n",
              "             '50': [84, 406, 624],\n",
              "             'longer': [106, 646, 514],\n",
              "             'iirc': [18, 132, 60],\n",
              "             'method': [228, 2432, 1812],\n",
              "             'even': [1598, 8830, 8692],\n",
              "             'ml': [308, 6692, 4588],\n",
              "             'new': [780, 4548, 4772],\n",
              "             'field': [344, 3418, 4128],\n",
              "             'sa': [0, 26, 814],\n",
              "             'benefit': [168, 798, 812],\n",
              "             'help': [458, 2606, 3784],\n",
              "             'center': [48, 184, 188],\n",
              "             'call': [256, 1208, 1744],\n",
              "             'though': [598, 3384, 3758],\n",
              "             'infinitely': [12, 50, 44],\n",
              "             'useful': [252, 1598, 1806],\n",
              "             'stackexchange': [0, 8, 6],\n",
              "             'complex': [188, 844, 1006],\n",
              "             'problem': [782, 6632, 7104],\n",
              "             'give': [526, 2980, 3510],\n",
              "             'backdoor': [2, 16, 6],\n",
              "             'tell': [378, 1540, 2448],\n",
              "             'something': [1186, 6068, 6620],\n",
              "             'possible': [382, 2260, 1684],\n",
              "             'given': [298, 1890, 1520],\n",
              "             'proc': [0, 2, 44],\n",
              "             'among': [36, 324, 248],\n",
              "             'speak': [98, 338, 424],\n",
              "             'statistician': [4, 58, 718],\n",
              "             'occasionally': [10, 74, 148],\n",
              "             'helped': [46, 208, 540],\n",
              "             'developupdate': [0, 0, 2],\n",
              "             'enough': [494, 3078, 3662],\n",
              "             'people': [2158, 13810, 16972],\n",
              "             'take': [822, 4408, 6014],\n",
              "             'advantage': [68, 722, 434],\n",
              "             'feature': [146, 1642, 1872],\n",
              "             'imho': [24, 170, 128],\n",
              "             '3d': [154, 522, 82],\n",
              "             'scene': [100, 298, 58],\n",
              "             'representation': [58, 766, 124],\n",
              "             'queriedrendered': [0, 2, 0],\n",
              "             'different': [646, 4456, 4292],\n",
              "             'camera': [130, 686, 34],\n",
              "             'viewpoint': [14, 96, 32],\n",
              "             'mesh': [14, 56, 4],\n",
              "             'output': [272, 1852, 624],\n",
              "             'deleted': [660, 3774, 3474],\n",
              "             'train': [266, 1906, 602],\n",
              "             'helpful': [60, 508, 822],\n",
              "             'tutorial': [54, 466, 342],\n",
              "             'beginner': [32, 284, 362],\n",
              "             'meant': [94, 638, 656],\n",
              "             'someone': [522, 3578, 5844],\n",
              "             'come': [580, 3106, 3542],\n",
              "             'dumpster': [2, 12, 20],\n",
              "             'fire': [80, 272, 308],\n",
              "             'background': [110, 876, 2054],\n",
              "             'mine': [32, 320, 424],\n",
              "             'alright': [6, 54, 84],\n",
              "             'maybe': [578, 3272, 3506],\n",
              "             'big': [344, 2664, 3090],\n",
              "             'deal': [138, 742, 932],\n",
              "             'tool': [456, 1856, 3192],\n",
              "             'use': [1326, 8762, 9762],\n",
              "             'today': [212, 908, 662],\n",
              "             'nt': [5192, 30520, 29930],\n",
              "             'line': [206, 1298, 1672],\n",
              "             'used': [744, 4542, 4194],\n",
              "             'industry': [176, 1410, 2858],\n",
              "             'knock': [2, 22, 38],\n",
              "             'value': [244, 1932, 3252],\n",
              "             'mean': [910, 4708, 5660],\n",
              "             'sorry': [188, 814, 928],\n",
              "             'sounded': [6, 38, 46],\n",
              "             'rude': [2, 74, 80],\n",
              "             'pandemic': [14, 90, 214],\n",
              "             'outside': [122, 710, 1050],\n",
              "             'stranger': [12, 64, 74],\n",
              "             'internet': [172, 708, 382],\n",
              "             'nowhere': [40, 124, 126],\n",
              "             'near': [116, 446, 292],\n",
              "             'amount': [186, 1328, 1312],\n",
              "             'created': [184, 722, 462],\n",
              "             'previous': [74, 618, 602],\n",
              "             'revolution': [24, 146, 48],\n",
              "             'automobile': [4, 16, 6],\n",
              "             'made': [534, 2804, 2396],\n",
              "             'horse': [32, 102, 76],\n",
              "             'obsolete': [34, 56, 50],\n",
              "             'replaced': [60, 134, 132],\n",
              "             'million': [216, 748, 616],\n",
              "             'driver': [78, 302, 122],\n",
              "             'mechanic': [26, 140, 80],\n",
              "             'ai': [5372, 8092, 1970],\n",
              "             '’': [2642, 12828, 35684],\n",
              "             'case': [412, 3868, 3462],\n",
              "             'human': [2144, 5744, 1146],\n",
              "             'labor': [34, 172, 234],\n",
              "             'future': [428, 1652, 1184],\n",
              "             'kera': [12, 516, 90],\n",
              "             'little': [286, 1794, 2138],\n",
              "             'better': [966, 5190, 5920],\n",
              "             'intermediate': [14, 122, 144],\n",
              "             'level': [426, 2348, 3968],\n",
              "             'stuff': [366, 2296, 4118],\n",
              "             'imo': [68, 464, 790],\n",
              "             'autocalculating': [0, 2, 0],\n",
              "             'input': [298, 1708, 464],\n",
              "             'dims': [0, 4, 0],\n",
              "             'conv': [0, 34, 12],\n",
              "             'layer': [114, 1222, 272],\n",
              "             'handy': [12, 40, 92],\n",
              "             'implementing': [22, 200, 230],\n",
              "             'pytorch': [10, 1842, 202],\n",
              "             'shine': [4, 26, 66],\n",
              "             'writing': [144, 852, 1210],\n",
              "             'training': [580, 4094, 1218],\n",
              "             'loop': [42, 340, 436],\n",
              "             'time': [1538, 9424, 13572],\n",
              "             'kinda': [114, 394, 540],\n",
              "             'suck': [46, 266, 652],\n",
              "             'ignite': [0, 6, 6],\n",
              "             'lightning': [16, 128, 30],\n",
              "             'supported': [20, 190, 114],\n",
              "             'production': [40, 490, 1532],\n",
              "             'ready': [44, 310, 480],\n",
              "             'visualisation': [12, 42, 116],\n",
              "             'network': [678, 4216, 1080],\n",
              "             'perceptual': [2, 44, 0],\n",
              "             'hashing': [4, 42, 16],\n",
              "             'oof': [0, 12, 64],\n",
              "             'got': [422, 2616, 4642],\n",
              "             'em': [12, 38, 90],\n",
              "             '100kmonth': [0, 0, 2],\n",
              "             'begin': [70, 298, 256],\n",
              "             'media1tenorcomimages7096f6319e3a791cd4fb4fedd3e5009ctenorgif': [2,\n",
              "              0,\n",
              "              0],\n",
              "             'itemid5898517': [2, 0, 0],\n",
              "             'fbi': [2, 14, 6],\n",
              "             'crime': [60, 230, 138],\n",
              "             'statistic': [74, 520, 3246],\n",
              "             'tough': [10, 134, 366],\n",
              "             'anyways': [22, 208, 304],\n",
              "             'profession': [20, 56, 222],\n",
              "             'demand': [48, 302, 670],\n",
              "             'pas': [92, 418, 476],\n",
              "             'gate': [20, 128, 102],\n",
              "             'stfu': [0, 4, 12],\n",
              "             'bayes': [2, 68, 110],\n",
              "             'bae': [0, 4, 0],\n",
              "             'sure': [726, 4254, 4498],\n",
              "             'mind': [554, 1444, 1518],\n",
              "             'precisionrecall': [0, 12, 22],\n",
              "             'metric': [32, 616, 784],\n",
              "             'githubcompytorchlightningpytorchlightningblob38bb4e2da069e2971669bd900bbc3f7727121c61pytorchlightningmetricsfunctionalclassificationpy': [0,\n",
              "              2,\n",
              "              0],\n",
              "             'l304': [0, 2, 0],\n",
              "             'run': [324, 2260, 2212],\n",
              "             'gpu': [80, 1112, 128],\n",
              "             'awesome': [218, 890, 656],\n",
              "             'qualify': [4, 36, 86],\n",
              "             'scientist': [90, 1080, 9968],\n",
              "             'analyst': [8, 56, 3946],\n",
              "             'company': [558, 4148, 13384],\n",
              "             'open': [302, 2160, 1302],\n",
              "             'hiring': [20, 348, 2442],\n",
              "             'american': [78, 380, 310],\n",
              "             'kind': [546, 2982, 2944],\n",
              "             '🙂': [12, 24, 36],\n",
              "             'advice': [42, 362, 1416],\n",
              "             'find': [504, 3588, 4718],\n",
              "             'meaning': [96, 490, 412],\n",
              "             'purpose': [176, 794, 560],\n",
              "             'work': [1594, 13084, 18572],\n",
              "             'meaningful': [50, 316, 316],\n",
              "             'purposeful': [0, 4, 4],\n",
              "             'op': [122, 930, 1954],\n",
              "             'identify': [78, 312, 352],\n",
              "             'cake': [2, 60, 56],\n",
              "             'eat': [40, 124, 138],\n",
              "             'look': [908, 4926, 4444],\n",
              "             'might': [622, 4286, 3872],\n",
              "             'back': [430, 2310, 2822],\n",
              "             'society': [170, 626, 210],\n",
              "             'others': [222, 1732, 1936],\n",
              "             'le': [396, 2350, 2982],\n",
              "             'fortunate': [2, 24, 60],\n",
              "             'd': [504, 3598, 12114],\n",
              "             'diverse': [14, 150, 120],\n",
              "             'skill': [136, 822, 5134],\n",
              "             'set': [366, 2524, 2760],\n",
              "             'applied': [76, 808, 1356],\n",
              "             'almost': [218, 1350, 1684],\n",
              "             'anywhere': [72, 326, 346],\n",
              "             'fulfill': [8, 16, 56],\n",
              "             'missing': [74, 542, 632],\n",
              "             'piece': [118, 640, 458],\n",
              "             'great': [580, 3452, 4278],\n",
              "             'finally': [100, 490, 340],\n",
              "             'lex': [6, 172, 26],\n",
              "             'fantastic': [42, 222, 238],\n",
              "             'podcast': [12, 98, 138],\n",
              "             'amazing': [294, 990, 610],\n",
              "             'invaluable': [2, 40, 56],\n",
              "             'machine': [694, 4580, 2660],\n",
              "             'learning': [870, 8898, 6078],\n",
              "             'community': [96, 1810, 634],\n",
              "             'keep': [318, 1926, 2340],\n",
              "             '😀': [0, 16, 12],\n",
              "             'wish': [90, 524, 576],\n",
              "             'sit': [30, 132, 238],\n",
              "             'front': [50, 332, 464],\n",
              "             'jupyter': [14, 250, 818],\n",
              "             'lab': [60, 810, 424],\n",
              "             'instance': [94, 704, 468],\n",
              "             '40': [54, 252, 450],\n",
              "             'hour': [174, 1346, 3114],\n",
              "             'week': [126, 1240, 2408],\n",
              "             'exactly': [276, 1650, 1764],\n",
              "             'lol': [290, 998, 2424],\n",
              "             'judge': [30, 252, 124],\n",
              "             'jury': [0, 20, 8],\n",
              "             'claim': [196, 1444, 472],\n",
              "             'leading': [42, 240, 188],\n",
              "             'developing': [94, 332, 366],\n",
              "             'deploying': [10, 76, 196],\n",
              "             'model': [1334, 11914, 9640],\n",
              "             'x': [56, 1244, 1176],\n",
              "             'team': [176, 2006, 5314],\n",
              "             'exist': [174, 764, 516],\n",
              "             'never': [526, 2828, 4160],\n",
              "             'led': [24, 168, 160],\n",
              "             'developed': [100, 462, 340],\n",
              "             'single': [240, 1416, 1074],\n",
              "             'completed': [22, 90, 198],\n",
              "             'exploratory': [0, 34, 122],\n",
              "             'analysis': [94, 766, 3376],\n",
              "             'daily': [28, 170, 472],\n",
              "             'step': [222, 1218, 1282],\n",
              "             'instruction': [40, 170, 122],\n",
              "             'get': [1798, 10218, 16446],\n",
              "             'stuck': [42, 240, 354],\n",
              "             'understanding': [338, 1518, 1914],\n",
              "             'ability': [304, 858, 1034],\n",
              "             'troubleshoot': [0, 2, 30],\n",
              "             'coding': [56, 310, 1642],\n",
              "             'error': [96, 1100, 836],\n",
              "             'would': [2954, 17142, 15028],\n",
              "             'extremely': [142, 726, 796],\n",
              "             'unlikely': [28, 252, 138],\n",
              "             'answer': [392, 1716, 3132],\n",
              "             'technical': [110, 586, 2354],\n",
              "             'however': [254, 1808, 1534],\n",
              "             'already': [652, 2912, 2658],\n",
              "             'taking': [162, 994, 1294],\n",
              "             'evidence': [66, 600, 448],\n",
              "             'sign': [86, 414, 322],\n",
              "             'competitive': [30, 294, 350],\n",
              "             'improving': [34, 252, 198],\n",
              "             'wrong': [370, 1830, 2210],\n",
              "             'message': [104, 878, 830],\n",
              "             'send': [84, 450, 630],\n",
              "             'top': [194, 1784, 1798],\n",
              "             'integrity': [12, 64, 62],\n",
              "             'interesitng': [2, 0, 0],\n",
              "             'ill': [10, 82, 68],\n",
              "             'check': [222, 1184, 1370],\n",
              "             'whats': [26, 68, 96],\n",
              "             'scary': [70, 138, 78],\n",
              "             'chatgpt': [370, 448, 494],\n",
              "             'kicked': [10, 40, 28],\n",
              "             'arm': [106, 218, 84],\n",
              "             'race': [128, 664, 170],\n",
              "             'competitor': [32, 182, 120],\n",
              "             'microsoft': [224, 376, 312],\n",
              "             'exclusive': [8, 116, 54],\n",
              "             'right': [914, 4646, 4892],\n",
              "             'gpt3': [190, 576, 34],\n",
              "             'infamous': [6, 10, 2],\n",
              "             'red': [86, 248, 444],\n",
              "             'email': [66, 508, 658],\n",
              "             'catch': [48, 284, 252],\n",
              "             'result': [470, 4198, 2506],\n",
              "             'trying': [402, 2448, 3104],\n",
              "             'build': [306, 1598, 2236],\n",
              "             'fast': [144, 734, 610],\n",
              "             'without': [548, 3396, 3150],\n",
              "             'safeguard': [22, 18, 6],\n",
              "             'afterthought': [2, 6, 12],\n",
              "             'fix': [56, 510, 486],\n",
              "             'later': [130, 844, 878],\n",
              "             'ever': [310, 1434, 1762],\n",
              "             'reach': [76, 464, 398],\n",
              "             'agi': [360, 1030, 30],\n",
              "             'massive': [88, 456, 356],\n",
              "             'havent': [10, 26, 30],\n",
              "             'read': [464, 3246, 2532],\n",
              "             'superintelligence': [20, 52, 2],\n",
              "             'path': [116, 504, 742],\n",
              "             'danger': [54, 164, 50],\n",
              "             'strategy': [62, 880, 548],\n",
              "             'reprint': [2, 0, 4],\n",
              "             'edition': [12, 56, 84],\n",
              "             'kindle': [2, 24, 14],\n",
              "             'wwwamazoncomausuperintelligencedangersstrategiesnickbostromebookdpb00loocgb2': [2,\n",
              "              0,\n",
              "              0],\n",
              "             'heavy': [36, 196, 470],\n",
              "             'super': [176, 876, 1100],\n",
              "             'coming': [172, 918, 932],\n",
              "             'including': [112, 670, 602],\n",
              "             'experience': [424, 1976, 7492],\n",
              "             'due': [122, 1040, 986],\n",
              "             'saturation': [2, 22, 16],\n",
              "             'm': [1384, 9470, 11190],\n",
              "             'grad': [24, 486, 1242],\n",
              "             'experiencing': [12, 60, 50],\n",
              "             'blown': [14, 58, 38],\n",
              "             'away': [256, 1338, 1212],\n",
              "             'figured': [28, 136, 210],\n",
              "             'experienced': [42, 162, 628],\n",
              "             'hire': [58, 426, 1794],\n",
              "             'therefore': [70, 368, 250],\n",
              "             'ca': [622, 3122, 2832],\n",
              "             'bad': [404, 2490, 2660],\n",
              "             'another': [412, 2296, 2416],\n",
              "             'book': [204, 1834, 1826],\n",
              "             'fit': [72, 626, 1258],\n",
              "             'wwwspringercomdebook9783662593530': [0, 2, 0],\n",
              "             'although': [116, 806, 812],\n",
              "             'german': [8, 142, 42],\n",
              "             'first': [702, 4218, 4652],\n",
              "             'compared': [78, 620, 660],\n",
              "             'beautifully': [8, 24, 14],\n",
              "             'handcrafted': [4, 18, 2],\n",
              "             'x86': [0, 22, 2],\n",
              "             'modern': [70, 422, 282],\n",
              "             'optimizing': [12, 154, 132],\n",
              "             'compiler': [6, 92, 78],\n",
              "             'last': [310, 1552, 2002],\n",
              "             'wrote': [86, 464, 558],\n",
              "             'low': [102, 768, 1034],\n",
              "             'absent': [4, 24, 14],\n",
              "             'alternative': [54, 438, 392],\n",
              "             'proceed': [6, 46, 42],\n",
              "             'solid': [36, 262, 558],\n",
              "             'write': [228, 1308, 2114],\n",
              "             're': [1348, 7084, 9522],\n",
              "             'telling': [50, 348, 458],\n",
              "             'proposal': [4, 90, 50],\n",
              "             'inferior': [12, 46, 40],\n",
              "             'nobody': [108, 582, 592],\n",
              "             'yet': [370, 1714, 1298],\n",
              "             'solution': [244, 1498, 1998],\n",
              "             'likely': [336, 1768, 1700],\n",
              "             'luxury': [4, 28, 62],\n",
              "             'research': [522, 6608, 2856],\n",
              "             'figure': [150, 844, 1166],\n",
              "             'suffer': [10, 102, 62],\n",
              "             'downside': [6, 72, 130],\n",
              "             'replacement': [18, 64, 68],\n",
              "             'default': [30, 376, 376],\n",
              "             'offering': [30, 166, 198],\n",
              "             'nothing': [422, 1806, 1744],\n",
              "             'assigning': [6, 36, 38],\n",
              "             'final': [50, 400, 390],\n",
              "             'grade': [30, 214, 288],\n",
              "             'effectively': [50, 316, 318],\n",
              "             'failed': [26, 306, 228],\n",
              "             '160k': [0, 12, 28],\n",
              "             'student': [92, 1820, 1690],\n",
              "             'aside': [42, 256, 218],\n",
              "             'definitely': [272, 1642, 2138],\n",
              "             'choice': [106, 616, 522],\n",
              "             'ought': [6, 92, 68],\n",
              "             'ignore': [36, 324, 224],\n",
              "             'consultant': [4, 80, 476],\n",
              "             'suffered': [6, 34, 16],\n",
              "             'number': [378, 2286, 2484],\n",
              "             'ignoring': [18, 132, 96],\n",
              "             'viable': [16, 108, 88],\n",
              "             'option': [100, 652, 1022],\n",
              "             'appear': [66, 218, 146],\n",
              "             'post': [432, 2826, 3566],\n",
              "             'especially': [214, 1448, 1906],\n",
              "             '5': [198, 1236, 2048],\n",
              "             '6': [78, 626, 1082],\n",
              "             '3': [284, 2072, 2708],\n",
              "             'realistic': [50, 234, 180],\n",
              "             'lot': [842, 5946, 9186],\n",
              "             'ok': [118, 684, 776],\n",
              "             'encourage': [20, 180, 166],\n",
              "             'habit': [4, 78, 140],\n",
              "             'always': [406, 2560, 3500],\n",
              "             'go': [854, 4692, 5898],\n",
              "             'totally': [108, 682, 828],\n",
              "             'reasonable': [44, 624, 592],\n",
              "             'expect': [128, 930, 1302],\n",
              "             'career': [48, 598, 2554],\n",
              "             'burned': [0, 48, 86],\n",
              "             'phd': [62, 1890, 3290],\n",
              "             'directly': [98, 780, 674],\n",
              "             'popular': [74, 488, 380],\n",
              "             'dsquantml': [0, 0, 2],\n",
              "             'application': [196, 1646, 1828],\n",
              "             'starting': [64, 606, 976],\n",
              "             'fitting': [6, 138, 192],\n",
              "             'bin': [6, 20, 60],\n",
              "             'make': [1802, 9522, 10676],\n",
              "             'ground': [62, 368, 222],\n",
              "             'hand': [220, 1354, 1234],\n",
              "             'please': [208, 1428, 1126],\n",
              "             'dont': [62, 458, 728],\n",
              "             'see': [1268, 7394, 5916],\n",
              "             'significant': [62, 598, 438],\n",
              "             'chunk': [32, 76, 128],\n",
              "             'senior': [12, 206, 1678],\n",
              "             'folk': [46, 352, 954],\n",
              "             'dismiss': [4, 46, 48],\n",
              "             'stopped': [48, 170, 164],\n",
              "             'keeping': [48, 272, 276],\n",
              "             '“': [498, 2176, 4632],\n",
              "             '”': [484, 2140, 4544],\n",
              "             'despite': [34, 384, 340],\n",
              "             'hate': [100, 438, 806],\n",
              "             'limitation': [96, 308, 218],\n",
              "             'widely': [34, 188, 148],\n",
              "             'employed': [6, 70, 162],\n",
              "             'bullshit': [68, 274, 414],\n",
              "             'analyze': [34, 68, 292],\n",
              "             'github': [106, 1012, 640],\n",
              "             'history': [110, 674, 306],\n",
              "             'dropped': [14, 134, 112],\n",
              "             'straight': [30, 308, 504],\n",
              "             'assume': [140, 758, 724],\n",
              "             'll': [630, 2868, 3512],\n",
              "             'improved': [26, 252, 142],\n",
              "             'version': [248, 1518, 874],\n",
              "             'match': [84, 792, 436],\n",
              "             'fan': [34, 406, 210],\n",
              "             'hui': [2, 104, 0],\n",
              "             'played': [66, 430, 106],\n",
              "             'month': [142, 1120, 2638],\n",
              "             'ago': [226, 1212, 1392],\n",
              "             'head': [118, 674, 836],\n",
              "             'believe': [344, 1788, 1232],\n",
              "             'five': [32, 234, 168],\n",
              "             'lee': [12, 228, 4],\n",
              "             'sedol': [16, 230, 0],\n",
              "             'pro': [44, 544, 198],\n",
              "             'sceptical': [4, 12, 8],\n",
              "             'program': [256, 1188, 2264],\n",
              "             'become': [218, 1212, 1312],\n",
              "             'grandmaster': [0, 44, 12],\n",
              "             'short': [122, 648, 642],\n",
              "             'course': [356, 3176, 3904],\n",
              "             'master': [42, 660, 2628],\n",
              "             'account': [124, 702, 486],\n",
              "             'except': [90, 540, 498],\n",
              "             'deepmind': [62, 844, 18],\n",
              "             'stronger': [32, 206, 106],\n",
              "             'alphago': [106, 1110, 0],\n",
              "             'march': [8, 70, 60],\n",
              "             'image': [974, 4944, 498],\n",
              "             'processing': [162, 608, 516],\n",
              "             'recognition': [152, 662, 166],\n",
              "             'object': [154, 982, 372],\n",
              "             'detection': [54, 550, 144],\n",
              "             'etc': [368, 2820, 4136],\n",
              "             'nlp': [42, 716, 622],\n",
              "             'natural': [110, 564, 314],\n",
              "             'language': [562, 2292, 2502],\n",
              "             'relates': [10, 60, 64],\n",
              "             'free': [406, 1572, 1600],\n",
              "             'text': [468, 1356, 660],\n",
              "             'content': [276, 1388, 792],\n",
              "             'arguably': [16, 138, 94],\n",
              "             'driven': [32, 200, 292],\n",
              "             'huge': [170, 1170, 1152],\n",
              "             'hype': [58, 636, 308],\n",
              "             'artificial': [282, 468, 134],\n",
              "             'intelligence': [674, 1070, 440],\n",
              "             'decade': [208, 588, 410],\n",
              "             'vpn': [12, 4, 22],\n",
              "             'mostly': [162, 1022, 1492],\n",
              "             'grandpa': [4, 14, 6],\n",
              "             'arranging': [0, 4, 14],\n",
              "             'flight': [20, 74, 76],\n",
              "             'family': [54, 350, 438],\n",
              "             'travelling': [4, 12, 6],\n",
              "             'wfh': [0, 20, 82],\n",
              "             'end': [384, 2258, 2894],\n",
              "             'drudgery': [0, 0, 6],\n",
              "             'smaller': [62, 552, 452],\n",
              "             'general': [270, 1940, 1658],\n",
              "             'local': [70, 568, 400],\n",
              "             'indeed': [108, 614, 378],\n",
              "             'yes': [548, 2658, 2958],\n",
              "             'return': [52, 438, 478],\n",
              "             'hypothesis': [24, 324, 810],\n",
              "             'validated': [0, 40, 64],\n",
              "             'true': [334, 2004, 2028],\n",
              "             'side': [178, 1240, 1740],\n",
              "             'major': [114, 692, 1016],\n",
              "             'site': [130, 486, 468],\n",
              "             'often': [198, 1752, 2434],\n",
              "             'search': [242, 1460, 1042],\n",
              "             'hr': [6, 144, 910],\n",
              "             'hris': [0, 0, 6],\n",
              "             'information': [410, 2040, 1416],\n",
              "             'system': [856, 3488, 2112],\n",
              "             'analytics': [14, 134, 2500],\n",
              "             'whole': [212, 1600, 1374],\n",
              "             'bunch': [112, 618, 870],\n",
              "             'require': [120, 716, 910],\n",
              "             'doctorate': [2, 12, 68],\n",
              "             'degree': [140, 698, 3116],\n",
              "             'best': [464, 2816, 3718],\n",
              "             'bet': [72, 350, 350],\n",
              "             'apply': [84, 776, 1716],\n",
              "             'day': [442, 2626, 5258],\n",
              "             'position': [100, 1202, 3408],\n",
              "             'many': [766, 5040, 5778],\n",
              "             'complain': [10, 88, 198],\n",
              "             'access': [202, 994, 774],\n",
              "             'engine': [134, 496, 250],\n",
              "             'piston': [2, 6, 0],\n",
              "             'grammarly': [18, 6, 0],\n",
              "             'duh': [6, 26, 38],\n",
              "             'certainly': [126, 854, 624],\n",
              "             'legitimate': [18, 106, 108],\n",
              "             'environment': [172, 724, 1094],\n",
              "             'surprise': [34, 214, 110],\n",
              "             'treated': [16, 120, 104],\n",
              "             'generic': [30, 128, 158],\n",
              "             'negative': [66, 542, 396],\n",
              "             'rest': [92, 528, 654],\n",
              "             'actually': [888, 4700, 5008],\n",
              "             'worth': [136, 996, 1396],\n",
              "             'writer': [20, 134, 52],\n",
              "             'absolutely': [176, 806, 1194],\n",
              "             'whatever': [194, 1006, 1330],\n",
              "             'blindly': [8, 64, 48],\n",
              "             'yeah': [422, 1808, 2948],\n",
              "             'sometimes': [104, 996, 1890],\n",
              "             'bit': [360, 2362, 2528],\n",
              "             'dumb': [64, 282, 372],\n",
              "             'article': [320, 1566, 1342],\n",
              "             'hurt': [26, 224, 264],\n",
              "             'margin': [12, 172, 94],\n",
              "             'support': [118, 1414, 1070],\n",
              "             'speaker': [48, 208, 64],\n",
              "             'phoneme': [2, 12, 2],\n",
              "             'conditioningcontext': [0, 2, 0],\n",
              "             'integrated': [28, 118, 86],\n",
              "             'provide': [126, 842, 798],\n",
              "             'learns': [66, 190, 42],\n",
              "             'encode': [12, 72, 32],\n",
              "             'generate': [226, 730, 400],\n",
              "             'mature': [8, 68, 182],\n",
              "             'norm': [16, 230, 148],\n",
              "             'poorly': [22, 164, 268],\n",
              "             'defined': [70, 238, 310],\n",
              "             'role': [78, 624, 5890],\n",
              "             'overlap': [8, 112, 160],\n",
              "             'swe': [0, 64, 782],\n",
              "             'engineering': [128, 954, 3242],\n",
              "             'principle': [50, 376, 288],\n",
              "             'r': [32, 576, 5476],\n",
              "             'majority': [84, 506, 490],\n",
              "             'python': [162, 1212, 6856],\n",
              "             'primary': [44, 158, 254],\n",
              "             'indicator': [12, 62, 122],\n",
              "             'futureproofness': [0, 0, 2],\n",
              "             'change': [384, 2288, 2182],\n",
              "             'next': [316, 1654, 1644],\n",
              "             '510': [6, 46, 100],\n",
              "             'restricting': [10, 32, 10],\n",
              "             'unfair': [22, 210, 86],\n",
              "             'part': [502, 3288, 3782],\n",
              "             'sc': [2, 32, 4],\n",
              "             'three': [112, 492, 644],\n",
              "             'demonstration': [16, 76, 32],\n",
              "             'progress': [132, 794, 304],\n",
              "             'couple': [118, 742, 1112],\n",
              "             'current': [248, 1444, 1362],\n",
              "             'computational': [76, 424, 280],\n",
              "             'subfield': [10, 74, 34],\n",
              "             'stats': [12, 220, 2890],\n",
              "             'statsier': [0, 0, 2],\n",
              "             'distinct': [14, 72, 66],\n",
              "             'statistical': [44, 518, 1588],\n",
              "             'computing': [88, 534, 244],\n",
              "             'programming': [106, 564, 1998],\n",
              "             'library': [88, 870, 1170],\n",
              "             'trusting': [4, 22, 24],\n",
              "             'prevent': [64, 326, 168],\n",
              "             'fuckup': [2, 6, 10],\n",
              "             'philosophy': [40, 202, 166],\n",
              "             'impossible': [102, 544, 398],\n",
              "             'impact': [58, 604, 772],\n",
              "             'user': [214, 1348, 1212],\n",
              "             'zoo': [0, 14, 20],\n",
              "             'chaos': [24, 28, 48],\n",
              "             'monkey': [48, 62, 280],\n",
              "             'artificially': [16, 34, 12],\n",
              "             'simulating': [18, 44, 10],\n",
              "             'shutting': [4, 18, 12],\n",
              "             'disconnecting': [0, 4, 4],\n",
              "             'server': [76, 384, 508],\n",
              "             'misconfiguring': [0, 0, 2],\n",
              "             'datacentersgeographic': [0, 0, 2],\n",
              "             'region': [40, 202, 156],\n",
              "             'commits': [0, 36, 58],\n",
              "             'deleting': [2, 44, 32],\n",
              "             'prod': [0, 24, 134],\n",
              "             'database': [58, 318, 1270],\n",
              "             'software': [344, 1388, 2946],\n",
              "             'update': [46, 498, 418],\n",
              "             'broken': [36, 222, 172],\n",
              "             'notebook': [46, 672, 1432],\n",
              "             'pushed': [22, 102, 138],\n",
              "             'wo': [306, 1190, 1196],\n",
              "             'matter': [338, 1528, 1764],\n",
              "             'quickly': [136, 636, 798],\n",
              "             'detected': [18, 40, 8],\n",
              "             'automatically': [74, 322, 266],\n",
              "             'rolled': [10, 26, 22],\n",
              "             'affect': [76, 318, 164],\n",
              "             'large': [268, 1892, 1524],\n",
              "             'else': [352, 1690, 2068],\n",
              "             'everyone': [320, 1794, 2272],\n",
              "             'traditional': [48, 320, 468],\n",
              "             'practice': [86, 856, 1304],\n",
              "             'push': [68, 350, 526],\n",
              "             'attitude': [14, 126, 272],\n",
              "             'review': [48, 1302, 642],\n",
              "             'extensive': [14, 96, 80],\n",
              "             'testing': [54, 410, 940],\n",
              "             'took': [126, 832, 1296],\n",
              "             'netflix': [10, 130, 134],\n",
              "             'sweat': [2, 28, 42],\n",
              "             'pushing': [28, 230, 220],\n",
              "             'early': [120, 624, 634],\n",
              "             'barely': [50, 210, 266],\n",
              "             'worked': [100, 936, 2152],\n",
              "             'outage': [6, 6, 8],\n",
              "             'subconsciously': [2, 16, 6],\n",
              "             'inspired': [26, 146, 44],\n",
              "             'fact': [268, 2106, 1478],\n",
              "             'conscience': [2, 16, 6],\n",
              "             'arguing': [20, 238, 158],\n",
              "             'artist': [98, 692, 34],\n",
              "             'break': [68, 464, 832],\n",
              "             'proposed': [22, 168, 48],\n",
              "             'law': [176, 1004, 352],\n",
              "             'regulating': [4, 14, 12],\n",
              "             'inspiration': [12, 114, 56],\n",
              "             'dude': [78, 360, 480],\n",
              "             'fun': [114, 656, 858],\n",
              "             'create': [414, 1408, 1388],\n",
              "             'adversarially': [0, 12, 0],\n",
              "             'perturbed': [0, 2, 2],\n",
              "             'zuckerberg': [12, 34, 6],\n",
              "             'identifies': [6, 26, 14],\n",
              "             'robot': [434, 604, 82],\n",
              "             'wut': [4, 16, 12],\n",
              "             'solve': [148, 1002, 1396],\n",
              "             'sound': [406, 1552, 2248],\n",
              "             'incredibly': [72, 386, 426],\n",
              "             'arrogant': [12, 40, 76],\n",
              "             'towards': [138, 826, 768],\n",
              "             'within': [158, 828, 1074],\n",
              "             'lifetime': [18, 90, 58],\n",
              "             'let': [434, 2100, 2198],\n",
              "             'alone': [76, 470, 530],\n",
              "             'tenure': [0, 58, 306],\n",
              "             'director': [12, 112, 324],\n",
              "             'facebook': [122, 916, 506],\n",
              "             'technology': [572, 1668, 648],\n",
              "             'incorporated': [10, 46, 16],\n",
              "             'product': [222, 1446, 1976],\n",
              "             'immediate': [22, 98, 108],\n",
              "             'tagging': [6, 48, 16],\n",
              "             'hashtag': [2, 6, 6],\n",
              "             'prediction': [96, 764, 748],\n",
              "             'face': [328, 1346, 336],\n",
              "             'country': [176, 898, 704],\n",
              "             'legal': [76, 502, 224],\n",
              "             'ah': [64, 296, 320],\n",
              "             'talking': [290, 1362, 1316],\n",
              "             'cumulatively': [0, 4, 4],\n",
              "             'suggesting': [16, 174, 130],\n",
              "             'literally': [180, 926, 1276],\n",
              "             'watched': [34, 216, 66],\n",
              "             'notified': [0, 16, 4],\n",
              "             'replying': [12, 88, 98],\n",
              "             'comment': [394, 2744, 2230],\n",
              "             'thought': [532, 2278, 2116],\n",
              "             'entirely': [106, 560, 466],\n",
              "             'capable': [92, 412, 250],\n",
              "             'everything': [328, 1694, 2562],\n",
              "             'toddler': [0, 14, 16],\n",
              "             'designed': [100, 352, 334],\n",
              "             'avoid': [110, 558, 560],\n",
              "             'weakness': [6, 140, 158],\n",
              "             'replacing': [24, 96, 66],\n",
              "             'meter': [2, 28, 18],\n",
              "             'reader': [4, 234, 90],\n",
              "             'cheap': [60, 232, 228],\n",
              "             'sensor': [28, 206, 90],\n",
              "             'instead': [280, 2002, 1922],\n",
              "             'expensive': [80, 518, 418],\n",
              "             'reason': [330, 2478, 2350],\n",
              "             'rather': [298, 1926, 1806],\n",
              "             'braineyes': [0, 0, 2],\n",
              "             'mental': [42, 142, 258],\n",
              "             'exhaustion': [2, 10, 8],\n",
              "             'bodysoul': [0, 0, 2],\n",
              "             'physicalemotional': [0, 0, 2],\n",
              "             '×': [2, 8, 2],\n",
              "             '14': [26, 164, 172],\n",
              "             'pay': [188, 922, 2814],\n",
              "             'stability': [4, 166, 46],\n",
              "             'mother': [16, 156, 64],\n",
              "             'pursuing': [14, 96, 100],\n",
              "             'spending': [12, 164, 366],\n",
              "             'shit': [212, 1066, 1708],\n",
              "             'ton': [84, 586, 940],\n",
              "             'money': [368, 1660, 2200],\n",
              "             'spin': [10, 74, 88],\n",
              "             'tale': [22, 26, 24],\n",
              "             'magically': [8, 38, 58],\n",
              "             'align': [12, 72, 88],\n",
              "             'mission': [16, 106, 74],\n",
              "             '😆': [0, 14, 26],\n",
              "             'practical': [44, 546, 420],\n",
              "             'move': [224, 1728, 1284],\n",
              "             'barrier': [24, 134, 134],\n",
              "             'entry': [26, 194, 1126],\n",
              "             'achievable': [0, 30, 14],\n",
              "             'changer': [12, 12, 38],\n",
              "             'self': [184, 670, 642],\n",
              "             'paced': [0, 8, 18],\n",
              "             'uninteresting': [2, 14, 14],\n",
              "             'either': [242, 1650, 2040],\n",
              "             'goal': [228, 1068, 892],\n",
              "             'healthcare': [32, 150, 394],\n",
              "             'everywhere': [44, 178, 240],\n",
              "             'bill': [18, 124, 192],\n",
              "             'joining': [6, 56, 156],\n",
              "             'nesting': [0, 4, 14],\n",
              "             'grouping': [4, 20, 44],\n",
              "             'window': [72, 500, 368],\n",
              "             'function': [242, 2098, 2060],\n",
              "             'combined': [38, 172, 144],\n",
              "             'concise': [8, 38, 70],\n",
              "             'query': [78, 270, 1260],\n",
              "             'found': [214, 1630, 1542],\n",
              "             'mainly': [36, 224, 300],\n",
              "             'linkedin': [6, 152, 1136],\n",
              "             'hackerrank': [0, 2, 42],\n",
              "             'test': [356, 1534, 2628],\n",
              "             'explain': [132, 888, 1282],\n",
              "             'online': [142, 768, 1026],\n",
              "             'round': [32, 172, 454],\n",
              "             'client': [42, 176, 1018],\n",
              "             'easily': [156, 840, 916],\n",
              "             'spreadsheet': [8, 26, 326],\n",
              "             'sql': [18, 52, 4132],\n",
              "             'guess': [282, 1626, 1584],\n",
              "             'consulting': [12, 102, 744],\n",
              "             'languishing': [0, 0, 8],\n",
              "             'atm': [8, 26, 60],\n",
              "             'heavily': [50, 318, 338],\n",
              "             'ddl': [0, 0, 4],\n",
              "             'dml': [0, 0, 2],\n",
              "             'regression': [38, 454, 1912],\n",
              "             'seen': [264, 1586, 1834],\n",
              "             'rigorous': [12, 168, 192],\n",
              "             'usually': [146, 1190, 2206],\n",
              "             'attempt': [80, 434, 222],\n",
              "             'diagnose': [8, 12, 12],\n",
              "             'situation': [118, 948, 1184],\n",
              "             'staffing': [4, 4, 48],\n",
              "             'viz': [2, 10, 198],\n",
              "             'key': [122, 588, 672],\n",
              "             'business': [198, 1244, 5396],\n",
              "             'coursework': [0, 30, 124],\n",
              "             'gpt2': [32, 572, 4],\n",
              "             'finish': [22, 500, 294],\n",
              "             'implemented': [46, 334, 230],\n",
              "             'still': [1048, 5262, 4838],\n",
              "             'functional': [26, 250, 272],\n",
              "             'professional': [44, 422, 952],\n",
              "             'usage': [76, 280, 148],\n",
              "             'deep': [384, 3392, 1280],\n",
              "             'needed': [156, 718, 1368],\n",
              "             'quantify': [0, 48, 78],\n",
              "             'classify': [40, 108, 62],\n",
              "             'black': [154, 776, 322],\n",
              "             'box': [58, 498, 452],\n",
              "             'easier': [142, 1002, 1626],\n",
              "             'compose': [6, 34, 10],\n",
              "             'neural': [626, 2902, 772],\n",
              "             'net': [250, 974, 470],\n",
              "             'innovate': [8, 28, 16],\n",
              "             'technique': [128, 982, 706],\n",
              "             'clustering': [6, 132, 340],\n",
              "             'frequently': [20, 128, 202],\n",
              "             'customer': [90, 342, 1062],\n",
              "             'solving': [64, 352, 614],\n",
              "             'algorithm': [436, 3200, 1974],\n",
              "             'split': [24, 210, 256],\n",
              "             'group': [156, 1474, 1208],\n",
              "             'cluster': [20, 204, 322],\n",
              "             'analyzing': [2, 74, 168],\n",
              "             'produced': [52, 174, 74],\n",
              "             'quantitative': [2, 68, 308],\n",
              "             'process': [340, 1894, 3092],\n",
              "             'define': [56, 390, 308],\n",
              "             'difference': [230, 1458, 1348],\n",
              "             'guide': [32, 206, 314],\n",
              "             'tactic': [8, 86, 62],\n",
              "             'political': [92, 570, 192],\n",
              "             'party': [48, 392, 286],\n",
              "             '100': [236, 1060, 1560],\n",
              "             'remote': [10, 118, 652],\n",
              "             'city': [36, 202, 378],\n",
              "             'personally': [100, 782, 954],\n",
              "             'hybrid': [12, 54, 96],\n",
              "             'workplace': [6, 64, 178],\n",
              "             'practically': [18, 132, 142],\n",
              "             'fully': [108, 626, 540],\n",
              "             'office': [48, 240, 614],\n",
              "             'buy': [112, 438, 556],\n",
              "             '2m': [2, 20, 8],\n",
              "             'house': [58, 376, 324],\n",
              "             'worse': [94, 840, 708],\n",
              "             '200k': [0, 30, 200],\n",
              "             'live': [140, 720, 800],\n",
              "             'far': [446, 2380, 1832],\n",
              "             'plot': [28, 164, 778],\n",
              "             'westworld': [6, 12, 2],\n",
              "             'plan': [130, 732, 612],\n",
              "             'defintely': [0, 6, 2],\n",
              "             'building': [130, 848, 1590],\n",
              "             'discus': [50, 300, 322],\n",
              "             'optimisation': [10, 46, 74],\n",
              "             'deeper': [24, 208, 270],\n",
              "             'math': [164, 1562, 3216],\n",
              "             'woman': [134, 806, 522],\n",
              "             'perl': [2, 8, 88],\n",
              "             'basically': [194, 1356, 1776],\n",
              "             'c': [118, 1270, 2226],\n",
              "             'string': [18, 118, 208],\n",
              "             'parsing': [4, 46, 68],\n",
              "             'variable': [52, 452, 1192],\n",
              "             'type': [268, 1506, 2404],\n",
              "             'filename': [0, 32, 6],\n",
              "             'called': [196, 1044, 1022],\n",
              "             'sigil': [0, 0, 2],\n",
              "             'contrary': [18, 98, 52],\n",
              "             'common': [136, 994, 1348],\n",
              "             'belief': [70, 270, 140],\n",
              "             'quite': [294, 1888, 1560],\n",
              "             'easy': [220, 1528, 2130],\n",
              "             'small': [210, 1550, 1524],\n",
              "             'memorize': [0, 68, 84],\n",
              "             '15': [72, 372, 572],\n",
              "             'long': [454, 2420, 2582],\n",
              "             'asking': [130, 698, 1484],\n",
              "             'chopping': [0, 8, 6],\n",
              "             'trickier': [2, 10, 12],\n",
              "             'appropriate': [46, 282, 402],\n",
              "             'compile': [12, 70, 52],\n",
              "             'went': [40, 710, 1086],\n",
              "             'backwards': [6, 98, 88],\n",
              "             'reading': [164, 1298, 1104],\n",
              "             'looking': [286, 1896, 3184],\n",
              "             'management': [32, 374, 2138],\n",
              "             'u': [952, 3742, 3460],\n",
              "             'ta': [28, 198, 340],\n",
              "             'scala': [2, 18, 132],\n",
              "             'spark': [4, 106, 396],\n",
              "             'devs': [20, 110, 180],\n",
              "             'expectation': [32, 268, 780],\n",
              "             'held': [8, 186, 142],\n",
              "             'performant': [2, 40, 64],\n",
              "             'de': [14, 106, 582],\n",
              "             'enforces': [0, 4, 8],\n",
              "             'apis': [14, 122, 126],\n",
              "             'progressed': [4, 10, 12],\n",
              "             ...})"
            ]
          },
          "metadata": {},
          "execution_count": 79
        }
      ]
    },
    {
      "cell_type": "code",
      "source": [
        "def remove_rare(word_dict):\n",
        " word_dict_copy=word_dict.copy()\n",
        " count=0\n",
        " for i, (k,v) in enumerate(word_dict_copy.items()):\n",
        "  if (v[0]<3 and v[1]<3 and v[2]<3):\n",
        "    del(k)\n",
        "    count+=1\n",
        " no_rarewords=total-remove_rare()\n",
        " return word_dict"
      ],
      "metadata": {
        "id": "pOPXbBb1jw5j"
      },
      "execution_count": 172,
      "outputs": []
    },
    {
      "cell_type": "code",
      "source": [
        "print(f\"Total number of rare words: {remove_rare}\")"
      ],
      "metadata": {
        "colab": {
          "base_uri": "https://localhost:8080/"
        },
        "id": "gSFBzdD_zfxL",
        "outputId": "54ca4b85-eec1-4c31-93cb-be52767a1572"
      },
      "execution_count": 81,
      "outputs": [
        {
          "output_type": "stream",
          "name": "stdout",
          "text": [
            "Total number of rare words: 52673\n"
          ]
        }
      ]
    },
    {
      "cell_type": "code",
      "source": [
        "no_rarewords=total-remove_rare()\n",
        "print(f'Total number of words after removing rarewords: {no_rarewords}')"
      ],
      "metadata": {
        "colab": {
          "base_uri": "https://localhost:8080/"
        },
        "id": "a4uYN2u5zgjd",
        "outputId": "bc2d7084-2e1c-48da-96f2-afdb873a7e4e"
      },
      "execution_count": 82,
      "outputs": [
        {
          "output_type": "stream",
          "name": "stdout",
          "text": [
            "Total number of words after removing rarewords: 33976\n"
          ]
        }
      ]
    },
    {
      "cell_type": "markdown",
      "source": [
        "# Probability Calculation"
      ],
      "metadata": {
        "id": "x7X0NGRpIlnC"
      }
    },
    {
      "cell_type": "markdown",
      "source": [
        "**P(Artificial Intelligence), P(Machine Learning), P(Data Science)**"
      ],
      "metadata": {
        "id": "YoNg2pvuOyrB"
      }
    },
    {
      "cell_type": "code",
      "source": [
        "prob_AI=train_copy['subreddit'].value_counts(normalize=True)['artificial']\n",
        "prob_ML=train_copy['subreddit'].value_counts(normalize=True)['MachineLearning']\n",
        "prob_DS=train_copy['subreddit'].value_counts(normalize=True)['datascience']\n",
        "print(f\"P(Artificial Intelligence) = {prob_AI} P(Machine Learning) = {prob_ML} P(Data Science) = {prob_DS}\")"
      ],
      "metadata": {
        "colab": {
          "base_uri": "https://localhost:8080/"
        },
        "id": "d485e7rXOvbm",
        "outputId": "16ebb5b7-821c-4a74-94cf-e1fe4d3e8829"
      },
      "execution_count": 75,
      "outputs": [
        {
          "output_type": "stream",
          "name": "stdout",
          "text": [
            "P(Artificial Intelligence) = 0.09096693822314235 P(Machine Learning) = 0.42885309959759454 P(Data Science) = 0.4801799621792631\n"
          ]
        }
      ]
    },
    {
      "cell_type": "markdown",
      "source": [
        "**P(Artificial Intelligence|word), P(Machine Learning|word), P(Datas cience|word)**"
      ],
      "metadata": {
        "id": "0xTGRsxJb4-j"
      }
    },
    {
      "cell_type": "code",
      "source": [
        "import math\n",
        "features=1 #feature=comments\n",
        "def cond_prob(category,word,alpha):\n",
        "  if alpha == 'no':\n",
        "   if category == 'artificial':\n",
        "    return math.log(word_dict[word][0]/num_AI_words)\n",
        "   elif category == 'MachineLearning':\n",
        "    return math.log(word_dict[word][1]/num_ML_words)\n",
        "   else:\n",
        "    return math.log(word_dict[word][2]/num_Datasci_words)\n",
        "  else:\n",
        "    if category == 'artificial':\n",
        "     return math.log(word_dict[word][0]+alpha/num_AI_words+features*alpha)\n",
        "    elif category == 'MachineLearning':\n",
        "     return math.log(word_dict[word][1]+alpha/num_ML_words+features*alpha)\n",
        "    else:\n",
        "     return math.log(word_dict[word][2]/num_Datasci_words+features*alpha)"
      ],
      "metadata": {
        "id": "wnK_aEEDb7hE"
      },
      "execution_count": 84,
      "outputs": []
    },
    {
      "cell_type": "code",
      "source": [
        "print(\"With no alpha P(word=string|Artificial Intelligence) = \",cond_prob('artificial','string','no'))"
      ],
      "metadata": {
        "colab": {
          "base_uri": "https://localhost:8080/"
        },
        "id": "LP8Rx95Bciyk",
        "outputId": "53c8e873-ab22-4186-869d-d9f0ea505eb2"
      },
      "execution_count": 105,
      "outputs": [
        {
          "output_type": "stream",
          "name": "stdout",
          "text": [
            "With no alpha P(word=string|Artificial Intelligence) =  -10.032740360613557\n"
          ]
        }
      ]
    },
    {
      "cell_type": "code",
      "source": [
        "print(\"With no alpha P(word=string|Machine Learning) = \",cond_prob('MachineLearning','string','no'))"
      ],
      "metadata": {
        "colab": {
          "base_uri": "https://localhost:8080/"
        },
        "id": "Xb9JURYY_9uu",
        "outputId": "201d132c-5b6e-40e9-ba44-fef4ac4d8a41"
      },
      "execution_count": 103,
      "outputs": [
        {
          "output_type": "stream",
          "name": "stdout",
          "text": [
            "With no alpha P(word=westworld|Machine Learning) =  -9.940009058961609\n"
          ]
        }
      ]
    },
    {
      "cell_type": "code",
      "source": [
        "print(\"With no alpha P(word=string|Data Science) = \",cond_prob('datascience','string','no'))"
      ],
      "metadata": {
        "colab": {
          "base_uri": "https://localhost:8080/"
        },
        "id": "o4G0ARpcALBI",
        "outputId": "2c7fee53-c8b5-4e94-95cd-2e08e8277812"
      },
      "execution_count": 106,
      "outputs": [
        {
          "output_type": "stream",
          "name": "stdout",
          "text": [
            "With no alpha P(word=string|Data Science) =  -9.442631189961178\n"
          ]
        }
      ]
    },
    {
      "cell_type": "markdown",
      "source": [
        "Among the three probablities, Prob is higher for category=datascience therefore the word 'string' belongs to datascience category"
      ],
      "metadata": {
        "id": "W8NQv_XPEFmd"
      }
    },
    {
      "cell_type": "markdown",
      "source": [
        "**Calculating Probability where evidence = comment, hypothesis=subreddit category P(Artificial Intelligence|comment), P(Machine Learning|comment), P(Data Science|comment)**"
      ],
      "metadata": {
        "id": "VpxaQTN5_dSl"
      }
    },
    {
      "cell_type": "code",
      "source": [
        "def comment_probability(category, comment,alpha):\n",
        "  if category == 'artificial':\n",
        "    prob=math.log(AI_category/len(train_copy))\n",
        "  elif category == 'MachineLearning':\n",
        "    prob=math.log(ML_category/len(train_copy))\n",
        "  else:\n",
        "    prob=math.log(DataScience_category/len(train_copy))\n",
        "  preprocessed_comments=[]\n",
        "  preprocessed_comments=text_preprocess(comment)\n",
        "  for word in preprocessed_comments:\n",
        "     prob=prob+cond_prob(category,word,alpha)\n",
        "  return prob"
      ],
      "metadata": {
        "id": "tDpzS4gpBNr7"
      },
      "execution_count": 107,
      "outputs": []
    },
    {
      "cell_type": "markdown",
      "source": [
        "**Predicting class**"
      ],
      "metadata": {
        "id": "MxAfDk06Fm64"
      }
    },
    {
      "cell_type": "code",
      "source": [
        "def predict_class(comment,alpha):\n",
        " if (comment_probability('artificial',comment,alpha)*prob_AI > comment_probability('MachineLearning',comment,alpha)*prob_ML) and (comment_probability('artificial',comment,alpha)*prob_AI > comment_probability('datascience',comment,alpha)*prob_DS):\n",
        "   return \"artificial\"\n",
        " elif (comment_probability('MachineLearning',comment,alpha)*prob_ML > comment_probability('artificial',comment,alpha)*prob_AI) and (comment_probability('MachineLearning',comment,alpha)*prob_ML > comment_probability('datascience',comment,alpha)*prob_DS):\n",
        "    return \"MachineLearning\"\n",
        " else:\n",
        "    return \"datascience\""
      ],
      "metadata": {
        "id": "CWIaqHfwFpS_"
      },
      "execution_count": 147,
      "outputs": []
    },
    {
      "cell_type": "markdown",
      "source": [
        "**probability of a comment and class prediction**"
      ],
      "metadata": {
        "id": "5c39VPg3G_WM"
      }
    },
    {
      "cell_type": "code",
      "source": [
        "print(comment_probability('artificial','This system ended up deployed in banks to parse written checks, so I don\\'t think it was tweaked just for these examples, but they did expect to have fully visible digits.','no'))"
      ],
      "metadata": {
        "colab": {
          "base_uri": "https://localhost:8080/",
          "height": 328
        },
        "id": "RAqUrg8zCBWO",
        "outputId": "de73a065-82ca-421e-d5b8-24015074a551"
      },
      "execution_count": 109,
      "outputs": [
        {
          "output_type": "error",
          "ename": "ValueError",
          "evalue": "ignored",
          "traceback": [
            "\u001b[0;31m---------------------------------------------------------------------------\u001b[0m",
            "\u001b[0;31mValueError\u001b[0m                                Traceback (most recent call last)",
            "\u001b[0;32m<ipython-input-109-722824b83a57>\u001b[0m in \u001b[0;36m<cell line: 1>\u001b[0;34m()\u001b[0m\n\u001b[0;32m----> 1\u001b[0;31m \u001b[0mprint\u001b[0m\u001b[0;34m(\u001b[0m\u001b[0mcomment_probability\u001b[0m\u001b[0;34m(\u001b[0m\u001b[0;34m'artificial'\u001b[0m\u001b[0;34m,\u001b[0m\u001b[0;34m'This system ended up deployed in banks to parse written checks, so I don\\'t think it was tweaked just for these examples, but they did expect to have fully visible digits.'\u001b[0m\u001b[0;34m,\u001b[0m\u001b[0;34m'no'\u001b[0m\u001b[0;34m)\u001b[0m\u001b[0;34m)\u001b[0m\u001b[0;34m\u001b[0m\u001b[0;34m\u001b[0m\u001b[0m\n\u001b[0m",
            "\u001b[0;32m<ipython-input-107-a2b1a1df748d>\u001b[0m in \u001b[0;36mcomment_probability\u001b[0;34m(category, comment, alpha)\u001b[0m\n\u001b[1;32m      9\u001b[0m   \u001b[0mpreprocessed_comments\u001b[0m\u001b[0;34m=\u001b[0m\u001b[0mtext_preprocess\u001b[0m\u001b[0;34m(\u001b[0m\u001b[0mcomment\u001b[0m\u001b[0;34m)\u001b[0m\u001b[0;34m\u001b[0m\u001b[0;34m\u001b[0m\u001b[0m\n\u001b[1;32m     10\u001b[0m   \u001b[0;32mfor\u001b[0m \u001b[0mword\u001b[0m \u001b[0;32min\u001b[0m \u001b[0mpreprocessed_comments\u001b[0m\u001b[0;34m:\u001b[0m\u001b[0;34m\u001b[0m\u001b[0;34m\u001b[0m\u001b[0m\n\u001b[0;32m---> 11\u001b[0;31m      \u001b[0mprob\u001b[0m\u001b[0;34m=\u001b[0m\u001b[0mprob\u001b[0m\u001b[0;34m+\u001b[0m\u001b[0mcond_prob\u001b[0m\u001b[0;34m(\u001b[0m\u001b[0mcategory\u001b[0m\u001b[0;34m,\u001b[0m\u001b[0mword\u001b[0m\u001b[0;34m,\u001b[0m\u001b[0malpha\u001b[0m\u001b[0;34m)\u001b[0m\u001b[0;34m\u001b[0m\u001b[0;34m\u001b[0m\u001b[0m\n\u001b[0m\u001b[1;32m     12\u001b[0m   \u001b[0;32mreturn\u001b[0m \u001b[0mprob\u001b[0m\u001b[0;34m\u001b[0m\u001b[0;34m\u001b[0m\u001b[0m\n",
            "\u001b[0;32m<ipython-input-84-b49d5754a93c>\u001b[0m in \u001b[0;36mcond_prob\u001b[0;34m(category, word, alpha)\u001b[0m\n\u001b[1;32m      4\u001b[0m   \u001b[0;32mif\u001b[0m \u001b[0malpha\u001b[0m \u001b[0;34m==\u001b[0m \u001b[0;34m'no'\u001b[0m\u001b[0;34m:\u001b[0m\u001b[0;34m\u001b[0m\u001b[0;34m\u001b[0m\u001b[0m\n\u001b[1;32m      5\u001b[0m    \u001b[0;32mif\u001b[0m \u001b[0mcategory\u001b[0m \u001b[0;34m==\u001b[0m \u001b[0;34m'artificial'\u001b[0m\u001b[0;34m:\u001b[0m\u001b[0;34m\u001b[0m\u001b[0;34m\u001b[0m\u001b[0m\n\u001b[0;32m----> 6\u001b[0;31m     \u001b[0;32mreturn\u001b[0m \u001b[0mmath\u001b[0m\u001b[0;34m.\u001b[0m\u001b[0mlog\u001b[0m\u001b[0;34m(\u001b[0m\u001b[0mword_dict\u001b[0m\u001b[0;34m[\u001b[0m\u001b[0mword\u001b[0m\u001b[0;34m]\u001b[0m\u001b[0;34m[\u001b[0m\u001b[0;36m0\u001b[0m\u001b[0;34m]\u001b[0m\u001b[0;34m/\u001b[0m\u001b[0mnum_AI_words\u001b[0m\u001b[0;34m)\u001b[0m\u001b[0;34m\u001b[0m\u001b[0;34m\u001b[0m\u001b[0m\n\u001b[0m\u001b[1;32m      7\u001b[0m    \u001b[0;32melif\u001b[0m \u001b[0mcategory\u001b[0m \u001b[0;34m==\u001b[0m \u001b[0;34m'MachineLearning'\u001b[0m\u001b[0;34m:\u001b[0m\u001b[0;34m\u001b[0m\u001b[0;34m\u001b[0m\u001b[0m\n\u001b[1;32m      8\u001b[0m     \u001b[0;32mreturn\u001b[0m \u001b[0mmath\u001b[0m\u001b[0;34m.\u001b[0m\u001b[0mlog\u001b[0m\u001b[0;34m(\u001b[0m\u001b[0mword_dict\u001b[0m\u001b[0;34m[\u001b[0m\u001b[0mword\u001b[0m\u001b[0;34m]\u001b[0m\u001b[0;34m[\u001b[0m\u001b[0;36m1\u001b[0m\u001b[0;34m]\u001b[0m\u001b[0;34m/\u001b[0m\u001b[0mnum_ML_words\u001b[0m\u001b[0;34m)\u001b[0m\u001b[0;34m\u001b[0m\u001b[0;34m\u001b[0m\u001b[0m\n",
            "\u001b[0;31mValueError\u001b[0m: math domain error"
          ]
        }
      ]
    },
    {
      "cell_type": "markdown",
      "source": [
        "**Original Category**"
      ],
      "metadata": {
        "id": "pK-YIJqHNcIE"
      }
    },
    {
      "cell_type": "code",
      "source": [
        "print(post_comment_df.query('comment==\"This system ended up deployed in banks to parse written checks, so I don\\'t think it was tweaked just for these examples, but they did expect to have fully visible digits.\"')['subreddit'])"
      ],
      "metadata": {
        "colab": {
          "base_uri": "https://localhost:8080/"
        },
        "id": "EMaFjJcFNbQo",
        "outputId": "bbf2de94-06e6-4a31-9083-28ddc50fd93f"
      },
      "execution_count": 135,
      "outputs": [
        {
          "output_type": "stream",
          "name": "stdout",
          "text": [
            "252    MachineLearning\n",
            "Name: subreddit, dtype: object\n"
          ]
        }
      ]
    },
    {
      "cell_type": "markdown",
      "source": [
        "**Predicted category**"
      ],
      "metadata": {
        "id": "FxlybKQGNiGW"
      }
    },
    {
      "cell_type": "code",
      "source": [
        "print(comment_probability('artificial','This system ended up deployed in banks to parse written checks, so I don\\'t think it was tweaked just for these examples, but they did expect to have fully visible digits.',0.5))"
      ],
      "metadata": {
        "colab": {
          "base_uri": "https://localhost:8080/"
        },
        "id": "jphYv5l-FWoj",
        "outputId": "b67bea87-51be-4d23-c395-d475a3053f78"
      },
      "execution_count": 110,
      "outputs": [
        {
          "output_type": "stream",
          "name": "stdout",
          "text": [
            "63.78766290042051\n"
          ]
        }
      ]
    },
    {
      "cell_type": "code",
      "source": [
        "predict_class('This system ended up deployed in banks to parse written checks, so I don\\'t think it was tweaked just for these examples, but they did expect to have fully visible digits.',0.5)"
      ],
      "metadata": {
        "colab": {
          "base_uri": "https://localhost:8080/",
          "height": 35
        },
        "id": "Fk1JzoHALyEb",
        "outputId": "1d95c276-5385-4c37-901f-d2a4467bdfc8"
      },
      "execution_count": 126,
      "outputs": [
        {
          "output_type": "execute_result",
          "data": {
            "text/plain": [
              "'Machine Learning'"
            ],
            "application/vnd.google.colaboratory.intrinsic+json": {
              "type": "string"
            }
          },
          "metadata": {},
          "execution_count": 126
        }
      ]
    },
    {
      "cell_type": "code",
      "source": [
        "print(comment_probability('artificial','This system ended up deployed in banks to parse written checks, so I don\\'t think it was tweaked just for these examples, but they did expect to have fully visible digits.',1))"
      ],
      "metadata": {
        "colab": {
          "base_uri": "https://localhost:8080/"
        },
        "id": "K9z-GbnUFZq0",
        "outputId": "62f5dfd6-a6b0-4317-8750-2d7225b9edf1"
      },
      "execution_count": 111,
      "outputs": [
        {
          "output_type": "stream",
          "name": "stdout",
          "text": [
            "64.70714697283265\n"
          ]
        }
      ]
    },
    {
      "cell_type": "code",
      "source": [
        "predict_class('This system ended up deployed in banks to parse written checks, so I don\\'t think it was tweaked just for these examples, but they did expect to have fully visible digits.',1)"
      ],
      "metadata": {
        "colab": {
          "base_uri": "https://localhost:8080/",
          "height": 35
        },
        "id": "RaCBi49yL0PE",
        "outputId": "67a153ba-4c6e-49e5-962f-10d57b627a44"
      },
      "execution_count": 127,
      "outputs": [
        {
          "output_type": "execute_result",
          "data": {
            "text/plain": [
              "'Machine Learning'"
            ],
            "application/vnd.google.colaboratory.intrinsic+json": {
              "type": "string"
            }
          },
          "metadata": {},
          "execution_count": 127
        }
      ]
    },
    {
      "cell_type": "code",
      "source": [
        "print(comment_probability('artificial','This system ended up deployed in banks to parse written checks, so I don\\'t think it was tweaked just for these examples, but they did expect to have fully visible digits.',10))"
      ],
      "metadata": {
        "colab": {
          "base_uri": "https://localhost:8080/"
        },
        "id": "wqOU5-pdFc4m",
        "outputId": "bb29df0a-5d2a-4757-d598-19b94d09d7d5"
      },
      "execution_count": 112,
      "outputs": [
        {
          "output_type": "stream",
          "name": "stdout",
          "text": [
            "70.03957256813901\n"
          ]
        }
      ]
    },
    {
      "cell_type": "code",
      "source": [
        "predict_class('This system ended up deployed in banks to parse written checks, so I don\\'t think it was tweaked just for these examples, but they did expect to have fully visible digits.',10)"
      ],
      "metadata": {
        "colab": {
          "base_uri": "https://localhost:8080/",
          "height": 35
        },
        "id": "-fMiBjyFL32P",
        "outputId": "7d43b620-4607-4f31-e54d-8e945cbef9db"
      },
      "execution_count": 128,
      "outputs": [
        {
          "output_type": "execute_result",
          "data": {
            "text/plain": [
              "'Machine Learning'"
            ],
            "application/vnd.google.colaboratory.intrinsic+json": {
              "type": "string"
            }
          },
          "metadata": {},
          "execution_count": 128
        }
      ]
    },
    {
      "cell_type": "code",
      "source": [
        "print(comment_probability('artificial','This system ended up deployed in banks to parse written checks, so I don\\'t think it was tweaked just for these examples, but they did expect to have fully visible digits.',100))"
      ],
      "metadata": {
        "colab": {
          "base_uri": "https://localhost:8080/"
        },
        "id": "pWijlWpYFfJE",
        "outputId": "de13961b-8575-46c0-a89e-f0a92510e242"
      },
      "execution_count": 113,
      "outputs": [
        {
          "output_type": "stream",
          "name": "stdout",
          "text": [
            "83.28625958269187\n"
          ]
        }
      ]
    },
    {
      "cell_type": "code",
      "source": [
        "predict_class('This system ended up deployed in banks to parse written checks, so I don\\'t think it was tweaked just for these examples, but they did expect to have fully visible digits.',100)"
      ],
      "metadata": {
        "colab": {
          "base_uri": "https://localhost:8080/",
          "height": 35
        },
        "id": "Hm8pW3lHL9BW",
        "outputId": "00c81608-fdbe-4f85-8712-020cdb2d9de4"
      },
      "execution_count": 130,
      "outputs": [
        {
          "output_type": "execute_result",
          "data": {
            "text/plain": [
              "'Machine Learning'"
            ],
            "application/vnd.google.colaboratory.intrinsic+json": {
              "type": "string"
            }
          },
          "metadata": {},
          "execution_count": 130
        }
      ]
    },
    {
      "cell_type": "code",
      "source": [
        "print(comment_probability('artificial','This system ended up deployed in banks to parse written checks, so I don\\'t think it was tweaked just for these examples, but they did expect to have fully visible digits.',1000))"
      ],
      "metadata": {
        "colab": {
          "base_uri": "https://localhost:8080/"
        },
        "id": "8uILHEvFFhfz",
        "outputId": "904d0c64-9af8-4748-f740-510998458a98"
      },
      "execution_count": 114,
      "outputs": [
        {
          "output_type": "stream",
          "name": "stdout",
          "text": [
            "106.62889415077682\n"
          ]
        }
      ]
    },
    {
      "cell_type": "code",
      "source": [
        "predict_class('This system ended up deployed in banks to parse written checks, so I don\\'t think it was tweaked just for these examples, but they did expect to have fully visible digits.',1000)"
      ],
      "metadata": {
        "colab": {
          "base_uri": "https://localhost:8080/",
          "height": 35
        },
        "id": "KFFF20F_MB5d",
        "outputId": "f513e332-9e24-42a5-b4f7-88140041d0e3"
      },
      "execution_count": 131,
      "outputs": [
        {
          "output_type": "execute_result",
          "data": {
            "text/plain": [
              "'Data Science'"
            ],
            "application/vnd.google.colaboratory.intrinsic+json": {
              "type": "string"
            }
          },
          "metadata": {},
          "execution_count": 131
        }
      ]
    },
    {
      "cell_type": "code",
      "source": [
        "print(comment_probability('artificial','This system ended up deployed in banks to parse written checks, so I don\\'t think it was tweaked just for these examples, but they did expect to have fully visible digits.',5000))"
      ],
      "metadata": {
        "colab": {
          "base_uri": "https://localhost:8080/"
        },
        "id": "TPjOD9TQFjox",
        "outputId": "c9c1aa84-c047-4ff0-f8a8-3085c175ab06"
      },
      "execution_count": 115,
      "outputs": [
        {
          "output_type": "stream",
          "name": "stdout",
          "text": [
            "127.53354231383884\n"
          ]
        }
      ]
    },
    {
      "cell_type": "code",
      "source": [
        "predict_class('This system ended up deployed in banks to parse written checks, so I don\\'t think it was tweaked just for these examples, but they did expect to have fully visible digits.',5000)"
      ],
      "metadata": {
        "colab": {
          "base_uri": "https://localhost:8080/",
          "height": 35
        },
        "id": "oCowBPTkMIF7",
        "outputId": "3317bf7a-ea00-475e-bd9a-3958ee0fc8ff"
      },
      "execution_count": 132,
      "outputs": [
        {
          "output_type": "execute_result",
          "data": {
            "text/plain": [
              "'Data Science'"
            ],
            "application/vnd.google.colaboratory.intrinsic+json": {
              "type": "string"
            }
          },
          "metadata": {},
          "execution_count": 132
        }
      ]
    },
    {
      "cell_type": "markdown",
      "source": [
        "If we observe the probabilities, the highest probability is achieved when alpha=5000, but wif we observe the class prediction, it is wrong when alpha is both 1000 and 5000. This means the hyperparameter tuning didnt work when alpha is 1000 and 5000"
      ],
      "metadata": {
        "id": "53fdhDtmMLLx"
      }
    },
    {
      "cell_type": "markdown",
      "source": [
        "**Calculating accuracy on Dev set**"
      ],
      "metadata": {
        "id": "1ZoenvC-OTRb"
      }
    },
    {
      "cell_type": "code",
      "source": [
        "dev_set.isna().sum()"
      ],
      "metadata": {
        "colab": {
          "base_uri": "https://localhost:8080/"
        },
        "id": "VsaNIXJ4UO4X",
        "outputId": "b8b0f720-15d8-4edf-cb41-256127e10572"
      },
      "execution_count": 157,
      "outputs": [
        {
          "output_type": "execute_result",
          "data": {
            "text/plain": [
              "comment      3\n",
              "subreddit    0\n",
              "dtype: int64"
            ]
          },
          "metadata": {},
          "execution_count": 157
        }
      ]
    },
    {
      "cell_type": "code",
      "source": [
        "dev_set['comment'].replace('',np.nan,inplace=True)\n",
        "dev_set.dropna(subset=['comment'],inplace=True)\n",
        "dev_set.isna().sum()"
      ],
      "metadata": {
        "colab": {
          "base_uri": "https://localhost:8080/"
        },
        "id": "iQAgcbH-URFC",
        "outputId": "c490393b-1078-45eb-a494-e1ee18b07124"
      },
      "execution_count": 158,
      "outputs": [
        {
          "output_type": "execute_result",
          "data": {
            "text/plain": [
              "comment      0\n",
              "subreddit    0\n",
              "dtype: int64"
            ]
          },
          "metadata": {},
          "execution_count": 158
        }
      ]
    },
    {
      "cell_type": "code",
      "source": [
        "def create_dict(df):\n",
        " for i, comment in enumerate(list(df)):\n",
        "  if  category[i] == 'artificial':\n",
        "    AI_category=AI_category+1\n",
        "  elif category[i] == 'MachineLearning':\n",
        "    ML_category=ML_category+1\n",
        "  else:\n",
        "    DataScience_category=DataScience_category+1\n",
        "  for word in (comment):\n",
        "    if category[i] == 'artificial':\n",
        "      word_dict[word][0]+=1\n",
        "      AI_words.append(word)\n",
        "      num_AI_words+=1 \n",
        "    elif category[i] == 'MachineLearning':\n",
        "      word_dict[word][1]+=1\n",
        "      ML_words.append(word)\n",
        "      num_ML_words+=1\n",
        "    else:\n",
        "      word_dict[word][2]+=1\n",
        "      DS_words.append(word)\n",
        "      num_Datasci_words+=1\n",
        "    return word_dict"
      ],
      "metadata": {
        "id": "JIldnHexsjz8"
      },
      "execution_count": 170,
      "outputs": []
    },
    {
      "cell_type": "code",
      "source": [
        "def find_accuracy(alpha):\n",
        " correct_pred=0\n",
        " incorrect_pred=0\n",
        " subreddit=list(dev_set['subreddit'])\n",
        " for i, comment in enumerate(list(dev_set['comment'])):\n",
        "   if predict_class(comment,alpha) == subreddit[i]:\n",
        "    correct_pred+=1\n",
        "   else:\n",
        "    incorrect_pred+=1\n",
        " return (f\"Accuracy when alpha is {alpha}= {correct_pred/(correct_pred+incorrect_pred)}\")"
      ],
      "metadata": {
        "id": "lcebShv-N043"
      },
      "execution_count": 165,
      "outputs": []
    },
    {
      "cell_type": "markdown",
      "source": [
        "**Alpha = 0.5**"
      ],
      "metadata": {
        "id": "e4Aa4HqJaM5E"
      }
    },
    {
      "cell_type": "code",
      "source": [
        "find_accuracy(0.5)"
      ],
      "metadata": {
        "colab": {
          "base_uri": "https://localhost:8080/"
        },
        "id": "aNIus-ZfaEwm",
        "outputId": "360e6661-8ede-40be-c996-07d3821fdce6"
      },
      "execution_count": 161,
      "outputs": [
        {
          "output_type": "execute_result",
          "data": {
            "text/plain": [
              "0.42765811250858904"
            ]
          },
          "metadata": {},
          "execution_count": 161
        }
      ]
    },
    {
      "cell_type": "code",
      "source": [
        "find_accuracy(1)"
      ],
      "metadata": {
        "colab": {
          "base_uri": "https://localhost:8080/",
          "height": 35
        },
        "id": "xlV-ADNuageh",
        "outputId": "ef0b1d4c-6b13-483b-b3bd-2e5181fc892e"
      },
      "execution_count": 167,
      "outputs": [
        {
          "output_type": "execute_result",
          "data": {
            "text/plain": [
              "'Accuracy when alpha is 1= 0.4298688495205091'"
            ],
            "application/vnd.google.colaboratory.intrinsic+json": {
              "type": "string"
            }
          },
          "metadata": {},
          "execution_count": 167
        }
      ]
    },
    {
      "cell_type": "code",
      "source": [
        "find_accuracy(10)"
      ],
      "metadata": {
        "colab": {
          "base_uri": "https://localhost:8080/",
          "height": 35
        },
        "id": "WL0B-RrVaiig",
        "outputId": "5858fa6e-ee9f-44b7-b063-010ea3f60736"
      },
      "execution_count": 173,
      "outputs": [
        {
          "output_type": "execute_result",
          "data": {
            "text/plain": [
              "'Accuracy when alpha is 10= 0.4301377229408777'"
            ],
            "application/vnd.google.colaboratory.intrinsic+json": {
              "type": "string"
            }
          },
          "metadata": {},
          "execution_count": 173
        }
      ]
    },
    {
      "cell_type": "code",
      "source": [
        "find_accuracy(100)"
      ],
      "metadata": {
        "colab": {
          "base_uri": "https://localhost:8080/",
          "height": 35
        },
        "id": "i_Qg7CyqakB5",
        "outputId": "5b091e63-62fa-49ff-fde4-5566cce3be03"
      },
      "execution_count": 174,
      "outputs": [
        {
          "output_type": "execute_result",
          "data": {
            "text/plain": [
              "'Accuracy when alpha is 100= 0.43237833477728316'"
            ],
            "application/vnd.google.colaboratory.intrinsic+json": {
              "type": "string"
            }
          },
          "metadata": {},
          "execution_count": 174
        }
      ]
    },
    {
      "cell_type": "markdown",
      "source": [
        "**comparision of alpha values**"
      ],
      "metadata": {
        "id": "kTwrk_Ps6Kna"
      }
    },
    {
      "cell_type": "code",
      "source": [
        "import seaborn as sns\n",
        "acc=[0.42765811250858904,0.4298688495205091,0.4301377229408777,0.43237833477728316]\n",
        "label=['alpha=0.5','alpha=1','alpha=10','alpha=100']\n",
        "sns.lineplot(data=None,x=label,y=acc)"
      ],
      "metadata": {
        "colab": {
          "base_uri": "https://localhost:8080/",
          "height": 447
        },
        "id": "Y6acdupG6NxL",
        "outputId": "a3fb48dc-d3dd-4f30-b159-56b74613cdb0"
      },
      "execution_count": 188,
      "outputs": [
        {
          "output_type": "execute_result",
          "data": {
            "text/plain": [
              "<Axes: >"
            ]
          },
          "metadata": {},
          "execution_count": 188
        },
        {
          "output_type": "display_data",
          "data": {
            "text/plain": [
              "<Figure size 640x480 with 1 Axes>"
            ],
            "image/png": "[encoded data removed]"
          },
          "metadata": {}
        }
      ]
    },
    {
      "cell_type": "markdown",
      "source": [
        "Among all the accuracies, the accuracy is higher for alpha = 100. Therefore, I will use alpha= 100 for finding the accuracy of test dataset"
      ],
      "metadata": {
        "id": "jFtK78AA0wBb"
      }
    },
    {
      "cell_type": "markdown",
      "source": [
        "**Test Accuracy**"
      ],
      "metadata": {
        "id": "0JBpnGMBpHEg"
      }
    },
    {
      "cell_type": "code",
      "source": [
        "test_set.isna().sum()"
      ],
      "metadata": {
        "colab": {
          "base_uri": "https://localhost:8080/"
        },
        "id": "BoQrbIKOBFdy",
        "outputId": "13ad7052-89d2-4072-aac8-beedc42385fd"
      },
      "execution_count": 181,
      "outputs": [
        {
          "output_type": "execute_result",
          "data": {
            "text/plain": [
              "comment      1\n",
              "subreddit    0\n",
              "dtype: int64"
            ]
          },
          "metadata": {},
          "execution_count": 181
        }
      ]
    },
    {
      "cell_type": "code",
      "source": [
        "test_set['comment'].replace('',np.nan,inplace=True)\n",
        "test_set.dropna(subset=['comment'],inplace=True)\n",
        "test_set.isna().sum()"
      ],
      "metadata": {
        "colab": {
          "base_uri": "https://localhost:8080/"
        },
        "id": "5HWk5NbbBI2A",
        "outputId": "65791b7b-312e-43b9-b4dc-4da888f4b473"
      },
      "execution_count": 182,
      "outputs": [
        {
          "output_type": "execute_result",
          "data": {
            "text/plain": [
              "comment      0\n",
              "subreddit    0\n",
              "dtype: int64"
            ]
          },
          "metadata": {},
          "execution_count": 182
        }
      ]
    },
    {
      "cell_type": "code",
      "source": [
        "def test_accuracy(alpha):\n",
        " correct_pred=0\n",
        " incorrect_pred=0\n",
        " subreddit=list(test_set['subreddit'])\n",
        " for i, comment in enumerate(list(test_set['comment'])):\n",
        "   if predict_class(comment,alpha) == subreddit[i]:\n",
        "    correct_pred+=1\n",
        "   else:\n",
        "    incorrect_pred+=1\n",
        " return (f\"Accuracy when alpha is {alpha}= {correct_pred/(correct_pred+incorrect_pred)}\")"
      ],
      "metadata": {
        "id": "8lJ9P96SpGht"
      },
      "execution_count": 184,
      "outputs": []
    },
    {
      "cell_type": "code",
      "source": [
        "test_accuracy(100)"
      ],
      "metadata": {
        "colab": {
          "base_uri": "https://localhost:8080/",
          "height": 35
        },
        "id": "Q3S2_GNu54rs",
        "outputId": "f683164d-3d56-48c5-8680-4a73e87e2482"
      },
      "execution_count": 185,
      "outputs": [
        {
          "output_type": "execute_result",
          "data": {
            "text/plain": [
              "'Accuracy when alpha is 100= 0.43279091502682215'"
            ],
            "application/vnd.google.colaboratory.intrinsic+json": {
              "type": "string"
            }
          },
          "metadata": {},
          "execution_count": 185
        }
      ]
    },
    {
      "cell_type": "code",
      "source": [
        "acc=[0.43237833477728316,0.43279091502682215]\n",
        "label=['Dev Accuracy','Test accuracy']\n",
        "sns.barplot(data=None,x=label,y=acc)"
      ],
      "metadata": {
        "colab": {
          "base_uri": "https://localhost:8080/",
          "height": 447
        },
        "id": "1vhAI776Ns5f",
        "outputId": "1a22a9be-0988-4215-8f63-75585c1889c0"
      },
      "execution_count": 192,
      "outputs": [
        {
          "output_type": "execute_result",
          "data": {
            "text/plain": [
              "<Axes: >"
            ]
          },
          "metadata": {},
          "execution_count": 192
        },
        {
          "output_type": "display_data",
          "data": {
            "text/plain": [
              "<Figure size 640x480 with 1 Axes>"
            ],
            "image/png": "[encoded data removed]"
          },
          "metadata": {}
        }
      ]
    },
    {
      "cell_type": "markdown",
      "source": [
        "**KNN Text classifier**"
      ],
      "metadata": {
        "id": "2gP3zO6x_9SO"
      }
    },
    {
      "cell_type": "code",
      "source": [
        "from sklearn.feature_extraction.text import CountVectorizer\n",
        "from sklearn.feature_extraction.text import TfidfTransformer\n",
        "from sklearn.neighbors import KNeighborsClassifier\n",
        "from sklearn.pipeline import Pipeline\n",
        "from sklearn.preprocessing import StandardScaler\n",
        "knn_train=train_set.copy()"
      ],
      "metadata": {
        "id": "VpbXKBRfB9oO"
      },
      "execution_count": 8,
      "outputs": []
    },
    {
      "cell_type": "code",
      "source": [
        "knn_train.isna().sum()"
      ],
      "metadata": {
        "colab": {
          "base_uri": "https://localhost:8080/"
        },
        "id": "Bsg4XKIpVSBw",
        "outputId": "a0e9762d-26d1-4eb8-fcef-5ae574b3d513"
      },
      "execution_count": 9,
      "outputs": [
        {
          "output_type": "execute_result",
          "data": {
            "text/plain": [
              "comment      2\n",
              "subreddit    0\n",
              "dtype: int64"
            ]
          },
          "metadata": {},
          "execution_count": 9
        }
      ]
    },
    {
      "cell_type": "code",
      "source": [
        "import numpy as np\n",
        "knn_train.replace('',np.nan,inplace=True)\n",
        "knn_train.dropna(inplace=True)\n",
        "knn_train.isna().sum()"
      ],
      "metadata": {
        "colab": {
          "base_uri": "https://localhost:8080/"
        },
        "id": "hlT_80kkVYtP",
        "outputId": "129518f6-5e87-4ea0-b27f-c29895ddbeb0"
      },
      "execution_count": 10,
      "outputs": [
        {
          "output_type": "execute_result",
          "data": {
            "text/plain": [
              "comment      0\n",
              "subreddit    0\n",
              "dtype: int64"
            ]
          },
          "metadata": {},
          "execution_count": 10
        }
      ]
    },
    {
      "cell_type": "code",
      "source": [
        "dev_set.isna().sum()"
      ],
      "metadata": {
        "colab": {
          "base_uri": "https://localhost:8080/"
        },
        "id": "MHwz2i9too1j",
        "outputId": "acc2d5a0-180f-49f1-a7fc-8c023a2b753b"
      },
      "execution_count": 11,
      "outputs": [
        {
          "output_type": "execute_result",
          "data": {
            "text/plain": [
              "comment      1\n",
              "subreddit    0\n",
              "dtype: int64"
            ]
          },
          "metadata": {},
          "execution_count": 11
        }
      ]
    },
    {
      "cell_type": "code",
      "source": [
        "import numpy as np\n",
        "dev_set.replace('',np.nan,inplace=True)\n",
        "dev_set.dropna(inplace=True)\n",
        "dev_set.isna().sum()"
      ],
      "metadata": {
        "colab": {
          "base_uri": "https://localhost:8080/"
        },
        "id": "eqOg2dVEot8e",
        "outputId": "ae392a24-0277-4f68-b02b-3fe92c97e0e7"
      },
      "execution_count": 12,
      "outputs": [
        {
          "output_type": "execute_result",
          "data": {
            "text/plain": [
              "comment      0\n",
              "subreddit    0\n",
              "dtype: int64"
            ]
          },
          "metadata": {},
          "execution_count": 12
        }
      ]
    },
    {
      "cell_type": "code",
      "source": [
        "from sklearn.model_selection import train_test_split\n",
        "X_train,X_remaining, y_train, y_remaining= train_test_split(test_set['comment'],test_set['subreddit'],train_size=0.5,stratify=test_set['subreddit'])\n",
        "X_test, X_dev, y_test, y_dev = train_test_split(X_remaining,y_remaining,test_size=0.3,stratify=y_remaining)\n",
        "train_set=pd.concat([X_train,y_train],axis=1).reset_index(drop=True)\n",
        "dev_set=pd.concat([X_dev,y_dev],axis=1).reset_index(drop=True)\n",
        "test_set=pd.concat([X_test,y_test],axis=1).reset_index(drop=True)\n",
        "print(f\"Train set size:  \",train_set.size)\n",
        "print(f\"Dev set size:  \",dev_set.size)\n",
        "print(f\"Test set size:  \",test_set.size)"
      ],
      "metadata": {
        "colab": {
          "base_uri": "https://localhost:8080/"
        },
        "id": "O9ineVNzsBse",
        "outputId": "78cf1b57-12ad-4bb7-a75f-18aee8032ddc"
      },
      "execution_count": 6,
      "outputs": [
        {
          "output_type": "stream",
          "name": "stdout",
          "text": [
            "Train set size:   78108\n",
            "Dev set size:   23434\n",
            "Test set size:   54674\n"
          ]
        }
      ]
    },
    {
      "cell_type": "code",
      "source": [
        "knn_train=train_set.copy()\n",
        "knn_train"
      ],
      "metadata": {
        "colab": {
          "base_uri": "https://localhost:8080/",
          "height": 424
        },
        "id": "8K4WgABEYb3h",
        "outputId": "4565ba60-7177-4d46-aeab-f28d7bda6909"
      },
      "execution_count": 7,
      "outputs": [
        {
          "output_type": "execute_result",
          "data": {
            "text/plain": [
              "                                                 comment        subreddit\n",
              "0      I've seriously been considering just migrating...      datascience\n",
              "1                                              [deleted]      datascience\n",
              "2      Really surprised you forgot the best online re...  MachineLearning\n",
              "3      Im currently studying calculus, so yes. Had to...      datascience\n",
              "4      Startups can be a toxic environment to land yo...      datascience\n",
              "...                                                  ...              ...\n",
              "39049  Weird, why are you and the OP getting disliked...       artificial\n",
              "39050  Do you happen to have a link to the full paper...  MachineLearning\n",
              "39051                                        PhD in Math      datascience\n",
              "39052  major companies are making plug and play ML sy...  MachineLearning\n",
              "39053  This is going to cause Tesla headaches. The go...      datascience\n",
              "\n",
              "[39054 rows x 2 columns]"
            ],
            "text/html": [
              "\n",
              "  <div id=\"df-177d7ea0-988e-404e-9b73-17991fd1ff33\">\n",
              "    <div class=\"colab-df-container\">\n",
              "      <div>\n",
              "<style scoped>\n",
              "    .dataframe tbody tr th:only-of-type {\n",
              "        vertical-align: middle;\n",
              "    }\n",
              "\n",
              "    .dataframe tbody tr th {\n",
              "        vertical-align: top;\n",
              "    }\n",
              "\n",
              "    .dataframe thead th {\n",
              "        text-align: right;\n",
              "    }\n",
              "</style>\n",
              "<table border=\"1\" class=\"dataframe\">\n",
              "  <thead>\n",
              "    <tr style=\"text-align: right;\">\n",
              "      <th></th>\n",
              "      <th>comment</th>\n",
              "      <th>subreddit</th>\n",
              "    </tr>\n",
              "  </thead>\n",
              "  <tbody>\n",
              "    <tr>\n",
              "      <th>0</th>\n",
              "      <td>I've seriously been considering just migrating...</td>\n",
              "      <td>datascience</td>\n",
              "    </tr>\n",
              "    <tr>\n",
              "      <th>1</th>\n",
              "      <td>[deleted]</td>\n",
              "      <td>datascience</td>\n",
              "    </tr>\n",
              "    <tr>\n",
              "      <th>2</th>\n",
              "      <td>Really surprised you forgot the best online re...</td>\n",
              "      <td>MachineLearning</td>\n",
              "    </tr>\n",
              "    <tr>\n",
              "      <th>3</th>\n",
              "      <td>Im currently studying calculus, so yes. Had to...</td>\n",
              "      <td>datascience</td>\n",
              "    </tr>\n",
              "    <tr>\n",
              "      <th>4</th>\n",
              "      <td>Startups can be a toxic environment to land yo...</td>\n",
              "      <td>datascience</td>\n",
              "    </tr>\n",
              "    <tr>\n",
              "      <th>...</th>\n",
              "      <td>...</td>\n",
              "      <td>...</td>\n",
              "    </tr>\n",
              "    <tr>\n",
              "      <th>39049</th>\n",
              "      <td>Weird, why are you and the OP getting disliked...</td>\n",
              "      <td>artificial</td>\n",
              "    </tr>\n",
              "    <tr>\n",
              "      <th>39050</th>\n",
              "      <td>Do you happen to have a link to the full paper...</td>\n",
              "      <td>MachineLearning</td>\n",
              "    </tr>\n",
              "    <tr>\n",
              "      <th>39051</th>\n",
              "      <td>PhD in Math</td>\n",
              "      <td>datascience</td>\n",
              "    </tr>\n",
              "    <tr>\n",
              "      <th>39052</th>\n",
              "      <td>major companies are making plug and play ML sy...</td>\n",
              "      <td>MachineLearning</td>\n",
              "    </tr>\n",
              "    <tr>\n",
              "      <th>39053</th>\n",
              "      <td>This is going to cause Tesla headaches. The go...</td>\n",
              "      <td>datascience</td>\n",
              "    </tr>\n",
              "  </tbody>\n",
              "</table>\n",
              "<p>39054 rows × 2 columns</p>\n",
              "</div>\n",
              "      <button class=\"colab-df-convert\" onclick=\"convertToInteractive('df-177d7ea0-988e-404e-9b73-17991fd1ff33')\"\n",
              "              title=\"Convert this dataframe to an interactive table.\"\n",
              "              style=\"display:none;\">\n",
              "        \n",
              "  <svg xmlns=\"http://www.w3.org/2000/svg\" height=\"24px\"viewBox=\"0 0 24 24\"\n",
              "       width=\"24px\">\n",
              "    <path d=\"M0 0h24v24H0V0z\" fill=\"none\"/>\n",
              "    <path d=\"M18.56 5.44l.94 2.06.94-2.06 2.06-.94-2.06-.94-.94-2.06-.94 2.06-2.06.94zm-11 1L8.5 8.5l.94-2.06 2.06-.94-2.06-.94L8.5 2.5l-.94 2.06-2.06.94zm10 10l.94 2.06.94-2.06 2.06-.94-2.06-.94-.94-2.06-.94 2.06-2.06.94z\"/><path d=\"M17.41 7.96l-1.37-1.37c-.4-.4-.92-.59-1.43-.59-.52 0-1.04.2-1.43.59L10.3 9.45l-7.72 7.72c-.78.78-.78 2.05 0 2.83L4 21.41c.39.39.9.59 1.41.59.51 0 1.02-.2 1.41-.59l7.78-7.78 2.81-2.81c.8-.78.8-2.07 0-2.86zM5.41 20L4 18.59l7.72-7.72 1.47 1.35L5.41 20z\"/>\n",
              "  </svg>\n",
              "      </button>\n",
              "      \n",
              "  <style>\n",
              "    .colab-df-container {\n",
              "      display:flex;\n",
              "      flex-wrap:wrap;\n",
              "      gap: 12px;\n",
              "    }\n",
              "\n",
              "    .colab-df-convert {\n",
              "      background-color: #E8F0FE;\n",
              "      border: none;\n",
              "      border-radius: 50%;\n",
              "      cursor: pointer;\n",
              "      display: none;\n",
              "      fill: #1967D2;\n",
              "      height: 32px;\n",
              "      padding: 0 0 0 0;\n",
              "      width: 32px;\n",
              "    }\n",
              "\n",
              "    .colab-df-convert:hover {\n",
              "      background-color: #E2EBFA;\n",
              "      box-shadow: 0px 1px 2px rgba(60, 64, 67, 0.3), 0px 1px 3px 1px rgba(60, 64, 67, 0.15);\n",
              "      fill: #174EA6;\n",
              "    }\n",
              "\n",
              "    [theme=dark] .colab-df-convert {\n",
              "      background-color: #3B4455;\n",
              "      fill: #D2E3FC;\n",
              "    }\n",
              "\n",
              "    [theme=dark] .colab-df-convert:hover {\n",
              "      background-color: #434B5C;\n",
              "      box-shadow: 0px 1px 3px 1px rgba(0, 0, 0, 0.15);\n",
              "      filter: drop-shadow(0px 1px 2px rgba(0, 0, 0, 0.3));\n",
              "      fill: #FFFFFF;\n",
              "    }\n",
              "  </style>\n",
              "\n",
              "      <script>\n",
              "        const buttonEl =\n",
              "          document.querySelector('#df-177d7ea0-988e-404e-9b73-17991fd1ff33 button.colab-df-convert');\n",
              "        buttonEl.style.display =\n",
              "          google.colab.kernel.accessAllowed ? 'block' : 'none';\n",
              "\n",
              "        async function convertToInteractive(key) {\n",
              "          const element = document.querySelector('#df-177d7ea0-988e-404e-9b73-17991fd1ff33');\n",
              "          const dataTable =\n",
              "            await google.colab.kernel.invokeFunction('convertToInteractive',\n",
              "                                                     [key], {});\n",
              "          if (!dataTable) return;\n",
              "\n",
              "          const docLinkHtml = 'Like what you see? Visit the ' +\n",
              "            '<a target=\"_blank\" href=https://colab.research.google.com/notebooks/data_table.ipynb>data table notebook</a>'\n",
              "            + ' to learn more about interactive tables.';\n",
              "          element.innerHTML = '';\n",
              "          dataTable['output_type'] = 'display_data';\n",
              "          await google.colab.output.renderOutput(dataTable, element);\n",
              "          const docLink = document.createElement('div');\n",
              "          docLink.innerHTML = docLinkHtml;\n",
              "          element.appendChild(docLink);\n",
              "        }\n",
              "      </script>\n",
              "    </div>\n",
              "  </div>\n",
              "  "
            ]
          },
          "metadata": {},
          "execution_count": 7
        }
      ]
    },
    {
      "cell_type": "code",
      "source": [
        "count_vect = CountVectorizer()\n",
        "X_train_counts = count_vect.fit_transform(knn_train['comment'])\n",
        "# transform a count matrix to a normalized tf-idf representation (tf-idf transformer)\n",
        "tfidf_transformer = TfidfTransformer()\n",
        "X_train_tfidf = tfidf_transformer.fit_transform(X_train_counts)"
      ],
      "metadata": {
        "id": "Tv7aECcGXDoh"
      },
      "execution_count": 13,
      "outputs": []
    },
    {
      "cell_type": "code",
      "source": [
        "count_vect = CountVectorizer()\n",
        "X_train_counts = count_vect.fit_transform(knn_train['comment'])\n",
        "# transform a count matrix to a normalized tf-idf representation (tf-idf transformer)\n",
        "tfidf_transformer = TfidfTransformer()\n",
        "X_train_tfidf = tfidf_transformer.fit_transform(X_train_counts)"
      ],
      "metadata": {
        "id": "5pm4WKubYEBZ"
      },
      "execution_count": 14,
      "outputs": []
    },
    {
      "cell_type": "code",
      "source": [
        "knn = KNeighborsClassifier(n_neighbors=5)\n",
        "# training our classifier ; train_data.target will be having numbers assigned for each category in train data\n",
        "clf = knn.fit(X_train_tfidf, knn_train['subreddit'])\n",
        "# Input Data to predict their classes of the given categories\n",
        "docs_new = ['Really surprised you forgot the best online resource on deep learning theory: https://mjt.cs.illinois.edu/dlt/ by the great Matus Telgarsky', 'Im currently studying calculus, so yes. Had to recap precalc and algebra though. Iâ€™d maybe make it 200 pages in and then struggle to follow, especially before anything university level. These books tend to blur the lines and go from the beginning to quite advanced.']\n",
        "# building up feature vector of our input\n",
        "X_new_counts = count_vect.transform(docs_new)\n",
        "# We call transform instead of fit_transform because it's already been fit\n",
        "X_new_tfidf = tfidf_transformer.transform(X_new_counts)"
      ],
      "metadata": {
        "id": "K7nLd6s1YMyb"
      },
      "execution_count": 16,
      "outputs": []
    },
    {
      "cell_type": "code",
      "source": [
        "predicted = clf.predict(X_new_tfidf)\n",
        "for doc, category in zip(docs_new, predicted):\n",
        "    print('%r => %s' % (doc, predicted))"
      ],
      "metadata": {
        "colab": {
          "base_uri": "https://localhost:8080/"
        },
        "id": "brB6Ur5BTgqR",
        "outputId": "637553ee-a48f-42bc-b435-e57bc3c85d0c"
      },
      "execution_count": 17,
      "outputs": [
        {
          "output_type": "stream",
          "name": "stdout",
          "text": [
            "'Really surprised you forgot the best online resource on deep learning theory: https://mjt.cs.illinois.edu/dlt/ by the great Matus Telgarsky' => ['MachineLearning' 'datascience']\n",
            "'Im currently studying calculus, so yes. Had to recap precalc and algebra though. Iâ€™d maybe make it 200 pages in and then struggle to follow, especially before anything university level. These books tend to blur the lines and go from the beginning to quite advanced.' => ['MachineLearning' 'datascience']\n"
          ]
        }
      ]
    },
    {
      "cell_type": "code",
      "source": [
        "pipeline = Pipeline([\n",
        "    ('vect', CountVectorizer()),\n",
        "    ('tfidf', TfidfTransformer()),\n",
        "    ('clf', knn),\n",
        "])\n",
        "pipeline.fit(knn_train['comment'], knn_train['subreddit'])"
      ],
      "metadata": {
        "colab": {
          "base_uri": "https://localhost:8080/",
          "height": 161
        },
        "id": "d0X3d1I3Lss5",
        "outputId": "dc6b295e-5c8b-49e5-b11e-a39cebea5f99"
      },
      "execution_count": 18,
      "outputs": [
        {
          "output_type": "execute_result",
          "data": {
            "text/plain": [
              "Pipeline(steps=[('vect', CountVectorizer()), ('tfidf', TfidfTransformer()),\n",
              "                ('clf', KNeighborsClassifier())])"
            ],
            "text/html": [
              "<style>#sk-container-id-1 {color: black;background-color: white;}#sk-container-id-1 pre{padding: 0;}#sk-container-id-1 div.sk-toggleable {background-color: white;}#sk-container-id-1 label.sk-toggleable__label {cursor: pointer;display: block;width: 100%;margin-bottom: 0;padding: 0.3em;box-sizing: border-box;text-align: center;}#sk-container-id-1 label.sk-toggleable__label-arrow:before {content: \"▸\";float: left;margin-right: 0.25em;color: #696969;}#sk-container-id-1 label.sk-toggleable__label-arrow:hover:before {color: black;}#sk-container-id-1 div.sk-estimator:hover label.sk-toggleable__label-arrow:before {color: black;}#sk-container-id-1 div.sk-toggleable__content {max-height: 0;max-width: 0;overflow: hidden;text-align: left;background-color: #f0f8ff;}#sk-container-id-1 div.sk-toggleable__content pre {margin: 0.2em;color: black;border-radius: 0.25em;background-color: #f0f8ff;}#sk-container-id-1 input.sk-toggleable__control:checked~div.sk-toggleable__content {max-height: 200px;max-width: 100%;overflow: auto;}#sk-container-id-1 input.sk-toggleable__control:checked~label.sk-toggleable__label-arrow:before {content: \"▾\";}#sk-container-id-1 div.sk-estimator input.sk-toggleable__control:checked~label.sk-toggleable__label {background-color: #d4ebff;}#sk-container-id-1 div.sk-label input.sk-toggleable__control:checked~label.sk-toggleable__label {background-color: #d4ebff;}#sk-container-id-1 input.sk-hidden--visually {border: 0;clip: rect(1px 1px 1px 1px);clip: rect(1px, 1px, 1px, 1px);height: 1px;margin: -1px;overflow: hidden;padding: 0;position: absolute;width: 1px;}#sk-container-id-1 div.sk-estimator {font-family: monospace;background-color: #f0f8ff;border: 1px dotted black;border-radius: 0.25em;box-sizing: border-box;margin-bottom: 0.5em;}#sk-container-id-1 div.sk-estimator:hover {background-color: #d4ebff;}#sk-container-id-1 div.sk-parallel-item::after {content: \"\";width: 100%;border-bottom: 1px solid gray;flex-grow: 1;}#sk-container-id-1 div.sk-label:hover label.sk-toggleable__label {background-color: #d4ebff;}#sk-container-id-1 div.sk-serial::before {content: \"\";position: absolute;border-left: 1px solid gray;box-sizing: border-box;top: 0;bottom: 0;left: 50%;z-index: 0;}#sk-container-id-1 div.sk-serial {display: flex;flex-direction: column;align-items: center;background-color: white;padding-right: 0.2em;padding-left: 0.2em;position: relative;}#sk-container-id-1 div.sk-item {position: relative;z-index: 1;}#sk-container-id-1 div.sk-parallel {display: flex;align-items: stretch;justify-content: center;background-color: white;position: relative;}#sk-container-id-1 div.sk-item::before, #sk-container-id-1 div.sk-parallel-item::before {content: \"\";position: absolute;border-left: 1px solid gray;box-sizing: border-box;top: 0;bottom: 0;left: 50%;z-index: -1;}#sk-container-id-1 div.sk-parallel-item {display: flex;flex-direction: column;z-index: 1;position: relative;background-color: white;}#sk-container-id-1 div.sk-parallel-item:first-child::after {align-self: flex-end;width: 50%;}#sk-container-id-1 div.sk-parallel-item:last-child::after {align-self: flex-start;width: 50%;}#sk-container-id-1 div.sk-parallel-item:only-child::after {width: 0;}#sk-container-id-1 div.sk-dashed-wrapped {border: 1px dashed gray;margin: 0 0.4em 0.5em 0.4em;box-sizing: border-box;padding-bottom: 0.4em;background-color: white;}#sk-container-id-1 div.sk-label label {font-family: monospace;font-weight: bold;display: inline-block;line-height: 1.2em;}#sk-container-id-1 div.sk-label-container {text-align: center;}#sk-container-id-1 div.sk-container {/* jupyter's `normalize.less` sets `[hidden] { display: none; }` but bootstrap.min.css set `[hidden] { display: none !important; }` so we also need the `!important` here to be able to override the default hidden behavior on the sphinx rendered scikit-learn.org. See: https://github.com/scikit-learn/scikit-learn/issues/21755 */display: inline-block !important;position: relative;}#sk-container-id-1 div.sk-text-repr-fallback {display: none;}</style><div id=\"sk-container-id-1\" class=\"sk-top-container\"><div class=\"sk-text-repr-fallback\"><pre>Pipeline(steps=[(&#x27;vect&#x27;, CountVectorizer()), (&#x27;tfidf&#x27;, TfidfTransformer()),\n",
              "                (&#x27;clf&#x27;, KNeighborsClassifier())])</pre><b>In a Jupyter environment, please rerun this cell to show the HTML representation or trust the notebook. <br />On GitHub, the HTML representation is unable to render, please try loading this page with nbviewer.org.</b></div><div class=\"sk-container\" hidden><div class=\"sk-item sk-dashed-wrapped\"><div class=\"sk-label-container\"><div class=\"sk-label sk-toggleable\"><input class=\"sk-toggleable__control sk-hidden--visually\" id=\"sk-estimator-id-1\" type=\"checkbox\" ><label for=\"sk-estimator-id-1\" class=\"sk-toggleable__label sk-toggleable__label-arrow\">Pipeline</label><div class=\"sk-toggleable__content\"><pre>Pipeline(steps=[(&#x27;vect&#x27;, CountVectorizer()), (&#x27;tfidf&#x27;, TfidfTransformer()),\n",
              "                (&#x27;clf&#x27;, KNeighborsClassifier())])</pre></div></div></div><div class=\"sk-serial\"><div class=\"sk-item\"><div class=\"sk-estimator sk-toggleable\"><input class=\"sk-toggleable__control sk-hidden--visually\" id=\"sk-estimator-id-2\" type=\"checkbox\" ><label for=\"sk-estimator-id-2\" class=\"sk-toggleable__label sk-toggleable__label-arrow\">CountVectorizer</label><div class=\"sk-toggleable__content\"><pre>CountVectorizer()</pre></div></div></div><div class=\"sk-item\"><div class=\"sk-estimator sk-toggleable\"><input class=\"sk-toggleable__control sk-hidden--visually\" id=\"sk-estimator-id-3\" type=\"checkbox\" ><label for=\"sk-estimator-id-3\" class=\"sk-toggleable__label sk-toggleable__label-arrow\">TfidfTransformer</label><div class=\"sk-toggleable__content\"><pre>TfidfTransformer()</pre></div></div></div><div class=\"sk-item\"><div class=\"sk-estimator sk-toggleable\"><input class=\"sk-toggleable__control sk-hidden--visually\" id=\"sk-estimator-id-4\" type=\"checkbox\" ><label for=\"sk-estimator-id-4\" class=\"sk-toggleable__label sk-toggleable__label-arrow\">KNeighborsClassifier</label><div class=\"sk-toggleable__content\"><pre>KNeighborsClassifier()</pre></div></div></div></div></div></div></div>"
            ]
          },
          "metadata": {},
          "execution_count": 18
        }
      ]
    },
    {
      "cell_type": "markdown",
      "source": [
        "**Accuracy of Dev dataset**"
      ],
      "metadata": {
        "id": "vPd4SUkeNEHq"
      }
    },
    {
      "cell_type": "code",
      "source": [
        "# Predicting our dev data\n",
        "predicted_data = pipeline.predict(dev_set['comment'])\n",
        "print('We got an accuracy of',np.mean(predicted_data == dev_set['subreddit'])*100, '% over the dev data.')"
      ],
      "metadata": {
        "id": "oc2nsOcGNCWI"
      },
      "execution_count": null,
      "outputs": []
    },
    {
      "cell_type": "markdown",
      "source": [
        "**Using cross validation to choose best k**"
      ],
      "metadata": {
        "id": "rm_AvoodaP0Q"
      }
    },
    {
      "cell_type": "code",
      "source": [
        "import matplotlib.pyplot as plt\n",
        "k_values = [i for i in range (1,6)]\n",
        "scores = []\n",
        "pipeline = Pipeline([\n",
        "    ('vect', CountVectorizer()),\n",
        "    ('tfidf', TfidfTransformer()),\n",
        "    ('clf', knn),\n",
        "])\n",
        "for k in k_values:\n",
        "  knn = KNeighborsClassifier(n_neighbors=k)\n",
        "    score = cross_val_score(knn, X, y, cv=5)\n",
        "    scores.append(np.mean(score))\n",
        "\n",
        ".\n",
        "\n",
        "pipeline.fit(knn_train['comment'], knn_train['subreddit'])\n",
        "sns.lineplot(x = k_values, y = scores, marker = 'o')\n",
        "plt.xlabel(\"K Values\")\n",
        "plt.ylabel(\"Accuracy Score\")"
      ],
      "metadata": {
        "id": "l0vPBZYYa_A_"
      },
      "execution_count": null,
      "outputs": []
    },
    {
      "cell_type": "markdown",
      "source": [
        "**Accuracy over Test dataset**"
      ],
      "metadata": {
        "id": "U75646-zM8R6"
      }
    },
    {
      "cell_type": "code",
      "source": [
        "pipeline.fit(knn_train['comment'], knn_train['comment'])\n",
        "# Predicting our test data\n",
        "predicted_data = pipeline.predict(test_set['comment'])\n",
        "print('We got an accuracy of',np.mean(predicted_data == test_set['subreddit'])*100, '% over the test data.')"
      ],
      "metadata": {
        "id": "re8LuPeKM4oj"
      },
      "execution_count": null,
      "outputs": []
    },
    {
      "cell_type": "code",
      "source": [
        "X=train_set['comment']\n",
        "y=train_set['subreddit']"
      ],
      "metadata": {
        "id": "ATOq0-CXdhrE"
      },
      "execution_count": null,
      "outputs": []
    },
    {
      "cell_type": "markdown",
      "source": [
        "**SVM Text classifier**"
      ],
      "metadata": {
        "id": "aPu9daGDAZmA"
      }
    },
    {
      "cell_type": "code",
      "source": [
        "from sklearn import svm\n",
        "from sklearn import metrics\n",
        "svm_train=train_set.copy()\n",
        "linear_svm = svm.SVC(kernel='linear', C = 1.0)\n",
        "linear_svm.fit(X,y)\n",
        "predictions_svm=linear_svm.predict(X_dev)\n",
        "print(\"Accuracy of Dev set:\",metrics.accuracy_score(y_dev,predictions_svm))"
      ],
      "metadata": {
        "id": "KOaElhJ0cwW4"
      },
      "execution_count": null,
      "outputs": []
    },
    {
      "cell_type": "code",
      "source": [
        "predictions_svm=linear_svm.predict(X_test)\n",
        "print(\"Accuracy of Test set:\",metrics.accuracy_score(y_test,predictions_svm))"
      ],
      "metadata": {
        "id": "5EeXuJsndS0j"
      },
      "execution_count": null,
      "outputs": []
    },
    {
      "cell_type": "markdown",
      "source": [
        "**Logistic Regression Text classifier**"
      ],
      "metadata": {
        "id": "cJoiHdl4Acy-"
      }
    },
    {
      "cell_type": "code",
      "source": [
        "from sklearn import linear_model\n",
        "lr_model= linear_model.LogisticRegression(max_iter=1000)  \n",
        "lr_model.fit(X, y)  \n",
        "dev_lr = lr_model.predict(X_dev)\n",
        "print(\"Accuracy of Dev set:\",metrics.accuracy_score(y_dev,dev_lr))"
      ],
      "metadata": {
        "id": "T8Ak_WV6dcSp"
      },
      "execution_count": null,
      "outputs": []
    },
    {
      "cell_type": "code",
      "source": [
        "test_lr = lr_model.predict(X_test)\n",
        "print(\"Accuracy of Test set:\",metrics.accuracy_score(y_test,test_lr))"
      ],
      "metadata": {
        "id": "vIe_NzrWdvsE"
      },
      "execution_count": null,
      "outputs": []
    },
    {
      "cell_type": "markdown",
      "source": [
        "**Decision Tree Text classifier**"
      ],
      "metadata": {
        "id": "Qtnm4CzSAhXn"
      }
    },
    {
      "cell_type": "code",
      "source": [
        "from sklearn.tree import DecisionTreeClassifier\n",
        "dc=DecisionTreeClassifier(criterion = \"gini\",random_state = 100,max_depth=3, min_samples_leaf=5)\n",
        "dc.fit(X,y)\n",
        "dev_dc=dc.predict(X_dev)\n",
        "print(\"Accuracy of Dev set:\",metrics.accuracy_score(y_dev,dev_dc))"
      ],
      "metadata": {
        "id": "GX1reL_9d2Iu"
      },
      "execution_count": null,
      "outputs": []
    },
    {
      "cell_type": "code",
      "source": [
        "test_dc=dc.predict(X_test)\n",
        "print(\"Accuracy of Test set:\",metrics.accuracy_score(y_test,test_dc))"
      ],
      "metadata": {
        "id": "YGXIeFFJd_FG"
      },
      "execution_count": null,
      "outputs": []
    },
    {
      "cell_type": "markdown",
      "source": [
        "**Random Forest Text classifier**"
      ],
      "metadata": {
        "id": "CQ1xsWcaApRo"
      }
    },
    {
      "cell_type": "code",
      "source": [
        "from __future__ import print_function\n",
        "from sklearn.ensemble import RandomForestClassifier\n",
        "model = RandomForestClassifier(n_estimators=100, max_depth=5, random_state=1)\n",
        "model.fit(X, y)\n",
        "dev_rf = model.predict(X_dev)\n",
        "print_function(\"Accuracy of Dev set:\",metrics.accuracy_score(y_dev,dev_rf))"
      ],
      "metadata": {
        "id": "CUYnYbUzeFIK"
      },
      "execution_count": null,
      "outputs": []
    },
    {
      "cell_type": "code",
      "source": [
        "test_rf=model.predict(X_test)\n",
        "print(\"Accuracy of Test set:\",metrics.accuracy_score(y_test,test_rf))"
      ],
      "metadata": {
        "id": "u2j3cw0ieRZL"
      },
      "execution_count": null,
      "outputs": []
    }
  ]
}